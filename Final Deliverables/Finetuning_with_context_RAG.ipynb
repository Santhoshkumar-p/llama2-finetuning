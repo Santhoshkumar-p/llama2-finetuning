{
 "cells": [
  {
   "cell_type": "markdown",
   "metadata": {},
   "source": [
    "Copyright (c) Meta Platforms, Inc. and affiliates.\n",
    "This software may be used and distributed according to the terms of the Llama 2 Community License Agreement."
   ]
  },
  {
   "cell_type": "markdown",
   "metadata": {
    "tags": []
   },
   "source": [
    "## Quick Start Notebook\n",
    "\n",
    "This notebook shows how to train a Llama 2 model on a single GPU (e.g. A10 with 24GB) using int8 quantization and LoRA.\n",
    "\n",
    "### Step 0: Install pre-requirements and convert checkpoint\n",
    "\n",
    "The example uses the Hugging Face trainer and model which means that the checkpoint has to be converted from its original format into the dedicated Hugging Face format.\n",
    "The conversion can be achieved by running the `convert_llama_weights_to_hf.py` script provided with the transformer package.\n",
    "Given that the original checkpoint resides under `models/7B` we can install all requirements and convert the checkpoint with:"
   ]
  },
  {
   "cell_type": "code",
   "execution_count": 1,
   "metadata": {},
   "outputs": [],
   "source": [
    "# %%bash\n",
    "# pip install llama-recipes transformers datasets accelerate sentencepiece protobuf==3.20 py7zr scipy peft bitsandbytes fire torch_tb_profiler ipywidgets\n",
    "# TRANSFORM=`python -c \"import transformers;print('/'.join(transformers.__file__.split('/')[:-1])+'/models/llama/convert_llama_weights_to_hf.py')\"`\n",
    "# python ${TRANSFORM} --input_dir models --model_size 7B --output_dir models_hf_with_rag/7B"
   ]
  },
  {
   "cell_type": "code",
   "execution_count": 1,
   "metadata": {},
   "outputs": [],
   "source": [
    "#import transformers\n",
    "#print('/'.join(transformers.__file__.split('/')[:-1]) + '/models/llama/convert_llama_weights_to_hf.py')"
   ]
  },
  {
   "cell_type": "code",
   "execution_count": 2,
   "metadata": {},
   "outputs": [],
   "source": [
    "#%%bash\n",
    "#python '/jet/home/apatula/.local/lib/python3.10/site-packages/transformers/models/llama/convert_llama_weights_to_hf.py' --input_dir llama-2-7b --model_size 7B --output_dir models_hf/7B"
   ]
  },
  {
   "cell_type": "markdown",
   "metadata": {
    "tags": []
   },
   "source": [
    "### Step 0: RAG & DataPreparation "
   ]
  },
  {
   "cell_type": "code",
   "execution_count": 3,
   "metadata": {},
   "outputs": [],
   "source": [
    "# !pip install langchain_community tiktoken langchain-openai langchainhub chromadb langchain"
   ]
  },
  {
   "cell_type": "code",
   "execution_count": 4,
   "metadata": {},
   "outputs": [
    {
     "name": "stdout",
     "output_type": "stream",
     "text": [
      "Note: you may need to restart the kernel to use updated packages.\n"
     ]
    }
   ],
   "source": [
    "%pip install --upgrade --quiet  \"unstructured[all-docs]\""
   ]
  },
  {
   "cell_type": "code",
   "execution_count": 5,
   "metadata": {},
   "outputs": [],
   "source": [
    "# !pip install opencv-python"
   ]
  },
  {
   "cell_type": "code",
   "execution_count": 6,
   "metadata": {},
   "outputs": [],
   "source": [
    "# !pip install sentence-transformers"
   ]
  },
  {
   "cell_type": "code",
   "execution_count": 7,
   "metadata": {},
   "outputs": [],
   "source": [
    "### Documents Loader"
   ]
  },
  {
   "cell_type": "code",
   "execution_count": 41,
   "metadata": {},
   "outputs": [
    {
     "name": "stderr",
     "output_type": "stream",
     "text": [
      "huggingface/tokenizers: The current process just got forked, after parallelism has already been used. Disabling parallelism to avoid deadlocks...\n",
      "To disable this warning, you can either:\n",
      "\t- Avoid using `tokenizers` before the fork if possible\n",
      "\t- Explicitly set the environment variable TOKENIZERS_PARALLELISM=(true | false)\n"
     ]
    },
    {
     "name": "stdout",
     "output_type": "stream",
     "text": [
      "Sun Mar  3 22:53:17 2024       \n",
      "+---------------------------------------------------------------------------------------+\n",
      "| NVIDIA-SMI 545.23.08              Driver Version: 545.23.08    CUDA Version: 12.3     |\n",
      "|-----------------------------------------+----------------------+----------------------+\n",
      "| GPU  Name                 Persistence-M | Bus-Id        Disp.A | Volatile Uncorr. ECC |\n",
      "| Fan  Temp   Perf          Pwr:Usage/Cap |         Memory-Usage | GPU-Util  Compute M. |\n",
      "|                                         |                      |               MIG M. |\n",
      "|=========================================+======================+======================|\n",
      "|   0  Tesla V100-SXM3-32GB           On  | 00000000:BC:00.0 Off |                    0 |\n",
      "| N/A   39C    P0              71W / 350W |  10503MiB / 32768MiB |      0%      Default |\n",
      "|                                         |                      |                  N/A |\n",
      "+-----------------------------------------+----------------------+----------------------+\n",
      "                                                                                         \n",
      "+---------------------------------------------------------------------------------------+\n",
      "| Processes:                                                                            |\n",
      "|  GPU   GI   CI        PID   Type   Process name                            GPU Memory |\n",
      "|        ID   ID                                                             Usage      |\n",
      "|=======================================================================================|\n",
      "|    0   N/A  N/A     23099      C   /usr/bin/python                            8988MiB |\n",
      "|    0   N/A  N/A     49939      C   /usr/bin/python                            1508MiB |\n",
      "+---------------------------------------------------------------------------------------+\n"
     ]
    }
   ],
   "source": [
    "import torch\n",
    "torch.cuda.empty_cache() \n",
    "!nvidia-smi"
   ]
  },
  {
   "cell_type": "code",
   "execution_count": 42,
   "metadata": {},
   "outputs": [
    {
     "name": "stderr",
     "output_type": "stream",
     "text": [
      "100%|██████████| 29/29 [00:00<00:00, 59.65it/s]\n"
     ]
    },
    {
     "data": {
      "text/plain": [
       "29"
      ]
     },
     "execution_count": 42,
     "metadata": {},
     "output_type": "execute_result"
    }
   ],
   "source": [
    "from langchain.document_loaders import DirectoryLoader\n",
    "from langchain.text_splitter import CharacterTextSplitter\n",
    "from langchain.vectorstores import Chroma\n",
    "from langchain.document_loaders import DirectoryLoader, TextLoader\n",
    "\n",
    "DOCS_DIR = './docs'\n",
    "loader = DirectoryLoader(DOCS_DIR, glob='**/*.txt', show_progress=True, loader_cls=TextLoader)\n",
    "docs = loader.load()\n",
    "len(docs)"
   ]
  },
  {
   "cell_type": "code",
   "execution_count": 43,
   "metadata": {},
   "outputs": [],
   "source": [
    "### Split Files into chunks"
   ]
  },
  {
   "cell_type": "code",
   "execution_count": 4,
   "metadata": {},
   "outputs": [
    {
     "data": {
      "text/plain": [
       "1363"
      ]
     },
     "execution_count": 4,
     "metadata": {},
     "output_type": "execute_result"
    }
   ],
   "source": [
    "from langchain.text_splitter import RecursiveCharacterTextSplitter\n",
    "\n",
    "text_splitter = RecursiveCharacterTextSplitter(chunk_size=1000, chunk_overlap=200)\n",
    "splits = text_splitter.split_documents(docs)\n",
    "len(splits)"
   ]
  },
  {
   "cell_type": "code",
   "execution_count": 5,
   "metadata": {},
   "outputs": [
    {
     "name": "stderr",
     "output_type": "stream",
     "text": [
      "/usr/local/lib/python3.10/dist-packages/torch/_utils.py:836: UserWarning: TypedStorage is deprecated. It will be removed in the future and UntypedStorage will be the only storage class. This should only matter to you if you are using storages directly.  To access UntypedStorage directly, use tensor.untyped_storage() instead of tensor.storage()\n",
      "  return self.fget.__get__(instance, owner)()\n"
     ]
    }
   ],
   "source": [
    "# Embed\n",
    "from chromadb.utils import embedding_functions\n",
    "from langchain_community.embeddings.huggingface import (HuggingFaceEmbeddings)\n",
    "\n",
    "embeddings_model_name = \"sentence-transformers/all-MiniLM-L6-v2\"\n",
    "embeddings = HuggingFaceEmbeddings(model_name=embeddings_model_name)\n",
    "\n",
    "vectorstore = Chroma.from_documents(documents=splits, \n",
    "                                    embedding=embeddings)\n",
    "\n",
    "retriever = vectorstore.as_retriever()"
   ]
  },
  {
   "cell_type": "code",
   "execution_count": 6,
   "metadata": {},
   "outputs": [
    {
     "data": {
      "text/html": [
       "<div>\n",
       "<style scoped>\n",
       "    .dataframe tbody tr th:only-of-type {\n",
       "        vertical-align: middle;\n",
       "    }\n",
       "\n",
       "    .dataframe tbody tr th {\n",
       "        vertical-align: top;\n",
       "    }\n",
       "\n",
       "    .dataframe thead th {\n",
       "        text-align: right;\n",
       "    }\n",
       "</style>\n",
       "<table border=\"1\" class=\"dataframe\">\n",
       "  <thead>\n",
       "    <tr style=\"text-align: right;\">\n",
       "      <th></th>\n",
       "      <th>input</th>\n",
       "      <th>output</th>\n",
       "    </tr>\n",
       "  </thead>\n",
       "  <tbody>\n",
       "    <tr>\n",
       "      <th>0</th>\n",
       "      <td>How do China's AI regulations, particularly o...</td>\n",
       "      <td>China's AI regulations prioritize information ...</td>\n",
       "    </tr>\n",
       "    <tr>\n",
       "      <th>1</th>\n",
       "      <td>Why should international discourse take China'...</td>\n",
       "      <td>China's AI regulations reshape global AI deplo...</td>\n",
       "    </tr>\n",
       "    <tr>\n",
       "      <th>2</th>\n",
       "      <td>What are the structural similarities found in ...</td>\n",
       "      <td>China's AI regulations share three structural ...</td>\n",
       "    </tr>\n",
       "    <tr>\n",
       "      <th>3</th>\n",
       "      <td>How does China formulate AI governance regulat...</td>\n",
       "      <td>China formulates AI governance regulations thr...</td>\n",
       "    </tr>\n",
       "    <tr>\n",
       "      <th>4</th>\n",
       "      <td>What is the trajectory of Chinese AI governanc...</td>\n",
       "      <td>Chinese AI governance is heading towards draft...</td>\n",
       "    </tr>\n",
       "  </tbody>\n",
       "</table>\n",
       "</div>"
      ],
      "text/plain": [
       "                                               input  \\\n",
       "0   How do China's AI regulations, particularly o...   \n",
       "1  Why should international discourse take China'...   \n",
       "2  What are the structural similarities found in ...   \n",
       "3  How does China formulate AI governance regulat...   \n",
       "4  What is the trajectory of Chinese AI governanc...   \n",
       "\n",
       "                                              output  \n",
       "0  China's AI regulations prioritize information ...  \n",
       "1  China's AI regulations reshape global AI deplo...  \n",
       "2  China's AI regulations share three structural ...  \n",
       "3  China formulates AI governance regulations thr...  \n",
       "4  Chinese AI governance is heading towards draft...  "
      ]
     },
     "execution_count": 6,
     "metadata": {},
     "output_type": "execute_result"
    }
   ],
   "source": [
    "import pandas as pd    \n",
    "qa = pd.read_json(path_or_buf='QAndA_JSONL.txt', lines=True)\n",
    "qa.head()"
   ]
  },
  {
   "cell_type": "code",
   "execution_count": 8,
   "metadata": {},
   "outputs": [],
   "source": [
    "import json\n",
    "import pandas as pd\n",
    "\n",
    "#path to the json file containing all the input output pairs of all the 5 teams\n",
    "train_file_path = 'merged_file_train.json'\n",
    "val_file_path = 'merged_file_val.json'\n",
    "test_file_path = 'merged_file_test.json'"
   ]
  },
  {
   "cell_type": "code",
   "execution_count": 9,
   "metadata": {},
   "outputs": [],
   "source": [
    "# Read and handle UTF-8 BOM if present\n",
    "with open(train_file_path, 'r', encoding='utf-8-sig') as file:\n",
    "    json_data = json.load(file)  # Load the file content as JSON\n",
    "    \n",
    "# Convert the JSON data into a pandas DataFrame\n",
    "train_dataframe = pd.DataFrame(json_data)"
   ]
  },
  {
   "cell_type": "code",
   "execution_count": 10,
   "metadata": {},
   "outputs": [],
   "source": [
    "# Read and handle UTF-8 BOM if present\n",
    "with open(val_file_path, 'r', encoding='utf-8-sig') as file:\n",
    "    json_data = json.load(file)  # Load the file content as JSON\n",
    "    \n",
    "# Convert the JSON data into a pandas DataFrame\n",
    "val_dataframe = pd.DataFrame(json_data)"
   ]
  },
  {
   "cell_type": "code",
   "execution_count": 11,
   "metadata": {},
   "outputs": [],
   "source": [
    "# Read and handle UTF-8 BOM if present\n",
    "with open(test_file_path, 'r', encoding='utf-8-sig') as file:\n",
    "    json_data = json.load(file)  # Load the file content as JSON\n",
    "    \n",
    "# Convert the JSON data into a pandas DataFrame\n",
    "test_dataframe = pd.DataFrame(json_data)"
   ]
  },
  {
   "cell_type": "code",
   "execution_count": 12,
   "metadata": {},
   "outputs": [
    {
     "data": {
      "text/html": [
       "<div>\n",
       "<style scoped>\n",
       "    .dataframe tbody tr th:only-of-type {\n",
       "        vertical-align: middle;\n",
       "    }\n",
       "\n",
       "    .dataframe tbody tr th {\n",
       "        vertical-align: top;\n",
       "    }\n",
       "\n",
       "    .dataframe thead th {\n",
       "        text-align: right;\n",
       "    }\n",
       "</style>\n",
       "<table border=\"1\" class=\"dataframe\">\n",
       "  <thead>\n",
       "    <tr style=\"text-align: right;\">\n",
       "      <th></th>\n",
       "      <th>input</th>\n",
       "      <th>output</th>\n",
       "      <th>context</th>\n",
       "    </tr>\n",
       "  </thead>\n",
       "  <tbody>\n",
       "    <tr>\n",
       "      <th>0</th>\n",
       "      <td>How do China's AI regulations, particularly o...</td>\n",
       "      <td>China's AI regulations prioritize information ...</td>\n",
       "      <td>China’s three most concrete and impactful regu...</td>\n",
       "    </tr>\n",
       "    <tr>\n",
       "      <th>1</th>\n",
       "      <td>Why should international discourse take China'...</td>\n",
       "      <td>China's AI regulations reshape global AI deplo...</td>\n",
       "      <td>But international discourse on Chinese AI gove...</td>\n",
       "    </tr>\n",
       "    <tr>\n",
       "      <th>2</th>\n",
       "      <td>What are the structural similarities found in ...</td>\n",
       "      <td>China's AI regulations share three structural ...</td>\n",
       "      <td>2 AI legislation in China And despite China’s ...</td>\n",
       "    </tr>\n",
       "    <tr>\n",
       "      <th>3</th>\n",
       "      <td>Why was the Artificial Intelligence Act intro...</td>\n",
       "      <td>To ensure safe, rights-respecting AI while pro...</td>\n",
       "      <td>AN OVERVIEW OF NATIONAL AI STRATEGIES AND POLI...</td>\n",
       "    </tr>\n",
       "    <tr>\n",
       "      <th>4</th>\n",
       "      <td>What applications are banned under the Act int...</td>\n",
       "      <td>Banned applications include sensitive biometri...</td>\n",
       "      <td>The EU’s AI Act intends to be the “world’s fir...</td>\n",
       "    </tr>\n",
       "  </tbody>\n",
       "</table>\n",
       "</div>"
      ],
      "text/plain": [
       "                                               input  \\\n",
       "0   How do China's AI regulations, particularly o...   \n",
       "1  Why should international discourse take China'...   \n",
       "2  What are the structural similarities found in ...   \n",
       "3   Why was the Artificial Intelligence Act intro...   \n",
       "4  What applications are banned under the Act int...   \n",
       "\n",
       "                                              output  \\\n",
       "0  China's AI regulations prioritize information ...   \n",
       "1  China's AI regulations reshape global AI deplo...   \n",
       "2  China's AI regulations share three structural ...   \n",
       "3  To ensure safe, rights-respecting AI while pro...   \n",
       "4  Banned applications include sensitive biometri...   \n",
       "\n",
       "                                             context  \n",
       "0  China’s three most concrete and impactful regu...  \n",
       "1  But international discourse on Chinese AI gove...  \n",
       "2  2 AI legislation in China And despite China’s ...  \n",
       "3  AN OVERVIEW OF NATIONAL AI STRATEGIES AND POLI...  \n",
       "4  The EU’s AI Act intends to be the “world’s fir...  "
      ]
     },
     "execution_count": 12,
     "metadata": {},
     "output_type": "execute_result"
    }
   ],
   "source": [
    "#Retrieve 4 Relevant documents chunks - Feel free to change\n",
    "#results = vectorstore.similarity_search(query, k=4)\n",
    "train_dataframe['context'] = train_dataframe['input'].apply(lambda x: ' '.join([result.page_content for result in vectorstore.similarity_search(x, k=4)]))\n",
    "train_dataframe.head()"
   ]
  },
  {
   "cell_type": "code",
   "execution_count": 13,
   "metadata": {},
   "outputs": [],
   "source": [
    "processed_train_dataframe = train_dataframe\n",
    "processed_train_dataframe.to_json('train_qa_with_context.jsonl', orient='records', lines=True)"
   ]
  },
  {
   "cell_type": "code",
   "execution_count": 14,
   "metadata": {},
   "outputs": [
    {
     "data": {
      "text/html": [
       "<div>\n",
       "<style scoped>\n",
       "    .dataframe tbody tr th:only-of-type {\n",
       "        vertical-align: middle;\n",
       "    }\n",
       "\n",
       "    .dataframe tbody tr th {\n",
       "        vertical-align: top;\n",
       "    }\n",
       "\n",
       "    .dataframe thead th {\n",
       "        text-align: right;\n",
       "    }\n",
       "</style>\n",
       "<table border=\"1\" class=\"dataframe\">\n",
       "  <thead>\n",
       "    <tr style=\"text-align: right;\">\n",
       "      <th></th>\n",
       "      <th>input</th>\n",
       "      <th>output</th>\n",
       "      <th>context</th>\n",
       "    </tr>\n",
       "  </thead>\n",
       "  <tbody>\n",
       "    <tr>\n",
       "      <th>0</th>\n",
       "      <td>How does China formulate AI governance regulat...</td>\n",
       "      <td>China formulates AI governance regulations thr...</td>\n",
       "      <td>How China Sets AI Governance Policy\\nThis pape...</td>\n",
       "    </tr>\n",
       "    <tr>\n",
       "      <th>1</th>\n",
       "      <td>What obligations apply to high-risk AI systems...</td>\n",
       "      <td>High-risk AI systems must undergo fundamental ...</td>\n",
       "      <td>Although existing legislation provides some pr...</td>\n",
       "    </tr>\n",
       "    <tr>\n",
       "      <th>2</th>\n",
       "      <td>What obligations apply to high-risk AI systems...</td>\n",
       "      <td>Conformity assessment with risk, quality, trac...</td>\n",
       "      <td>Although existing legislation provides some pr...</td>\n",
       "    </tr>\n",
       "    <tr>\n",
       "      <th>3</th>\n",
       "      <td>Does the UK AI regulatory framework propose ne...</td>\n",
       "      <td>No, the government avoids new legal requiremen...</td>\n",
       "      <td>UK Government Publishes AI Regulatory Framewor...</td>\n",
       "    </tr>\n",
       "    <tr>\n",
       "      <th>4</th>\n",
       "      <td>What are some of the current regulations in th...</td>\n",
       "      <td>Currently, the UK has laws in effect that gove...</td>\n",
       "      <td>largely regulates AI via existing laws enforce...</td>\n",
       "    </tr>\n",
       "  </tbody>\n",
       "</table>\n",
       "</div>"
      ],
      "text/plain": [
       "                                               input  \\\n",
       "0  How does China formulate AI governance regulat...   \n",
       "1  What obligations apply to high-risk AI systems...   \n",
       "2  What obligations apply to high-risk AI systems...   \n",
       "3  Does the UK AI regulatory framework propose ne...   \n",
       "4  What are some of the current regulations in th...   \n",
       "\n",
       "                                              output  \\\n",
       "0  China formulates AI governance regulations thr...   \n",
       "1  High-risk AI systems must undergo fundamental ...   \n",
       "2  Conformity assessment with risk, quality, trac...   \n",
       "3  No, the government avoids new legal requiremen...   \n",
       "4  Currently, the UK has laws in effect that gove...   \n",
       "\n",
       "                                             context  \n",
       "0  How China Sets AI Governance Policy\\nThis pape...  \n",
       "1  Although existing legislation provides some pr...  \n",
       "2  Although existing legislation provides some pr...  \n",
       "3  UK Government Publishes AI Regulatory Framewor...  \n",
       "4  largely regulates AI via existing laws enforce...  "
      ]
     },
     "execution_count": 14,
     "metadata": {},
     "output_type": "execute_result"
    }
   ],
   "source": [
    "#Retrieve 4 Relevant documents chunks - Feel free to change\n",
    "#results = vectorstore.similarity_search(query, k=4)\n",
    "val_dataframe['context'] = val_dataframe['input'].apply(lambda x: ' '.join([result.page_content for result in vectorstore.similarity_search(x, k=4)]))\n",
    "val_dataframe.head()"
   ]
  },
  {
   "cell_type": "code",
   "execution_count": 15,
   "metadata": {},
   "outputs": [],
   "source": [
    "processed_val_dataframe = val_dataframe\n",
    "processed_val_dataframe.to_json('val_qa_with_context.jsonl', orient='records', lines=True)"
   ]
  },
  {
   "cell_type": "code",
   "execution_count": 16,
   "metadata": {},
   "outputs": [
    {
     "data": {
      "text/html": [
       "<div>\n",
       "<style scoped>\n",
       "    .dataframe tbody tr th:only-of-type {\n",
       "        vertical-align: middle;\n",
       "    }\n",
       "\n",
       "    .dataframe tbody tr th {\n",
       "        vertical-align: top;\n",
       "    }\n",
       "\n",
       "    .dataframe thead th {\n",
       "        text-align: right;\n",
       "    }\n",
       "</style>\n",
       "<table border=\"1\" class=\"dataframe\">\n",
       "  <thead>\n",
       "    <tr style=\"text-align: right;\">\n",
       "      <th></th>\n",
       "      <th>input</th>\n",
       "      <th>output</th>\n",
       "      <th>context</th>\n",
       "    </tr>\n",
       "  </thead>\n",
       "  <tbody>\n",
       "    <tr>\n",
       "      <th>0</th>\n",
       "      <td>What is the trajectory of Chinese AI governanc...</td>\n",
       "      <td>Chinese AI governance is heading towards draft...</td>\n",
       "      <td>In this series of three papers, I will attempt...</td>\n",
       "    </tr>\n",
       "    <tr>\n",
       "      <th>1</th>\n",
       "      <td>How does the Europe Artificial Intelligence Ac...</td>\n",
       "      <td>General-purpose AI systems must be transparent...</td>\n",
       "      <td>AN OVERVIEW OF NATIONAL AI STRATEGIES AND POLI...</td>\n",
       "    </tr>\n",
       "    <tr>\n",
       "      <th>2</th>\n",
       "      <td>How do providers of high-risk AI systems manag...</td>\n",
       "      <td>Providers follow a step-by-step process, inclu...</td>\n",
       "      <td>step-by-step process for declaration of confor...</td>\n",
       "    </tr>\n",
       "    <tr>\n",
       "      <th>3</th>\n",
       "      <td>What are the cross-sectoral principles of the ...</td>\n",
       "      <td>The principles cover safety, transparency, fai...</td>\n",
       "      <td>Five cross-sectoral principles: When implement...</td>\n",
       "    </tr>\n",
       "    <tr>\n",
       "      <th>4</th>\n",
       "      <td>What are some of the jobs that may be affected...</td>\n",
       "      <td>Generative AI has the possibility to affect ma...</td>\n",
       "      <td>for the Future of Work.\\n33. Briggs, J. et al....</td>\n",
       "    </tr>\n",
       "  </tbody>\n",
       "</table>\n",
       "</div>"
      ],
      "text/plain": [
       "                                               input  \\\n",
       "0  What is the trajectory of Chinese AI governanc...   \n",
       "1  How does the Europe Artificial Intelligence Ac...   \n",
       "2  How do providers of high-risk AI systems manag...   \n",
       "3  What are the cross-sectoral principles of the ...   \n",
       "4  What are some of the jobs that may be affected...   \n",
       "\n",
       "                                              output  \\\n",
       "0  Chinese AI governance is heading towards draft...   \n",
       "1  General-purpose AI systems must be transparent...   \n",
       "2  Providers follow a step-by-step process, inclu...   \n",
       "3  The principles cover safety, transparency, fai...   \n",
       "4  Generative AI has the possibility to affect ma...   \n",
       "\n",
       "                                             context  \n",
       "0  In this series of three papers, I will attempt...  \n",
       "1  AN OVERVIEW OF NATIONAL AI STRATEGIES AND POLI...  \n",
       "2  step-by-step process for declaration of confor...  \n",
       "3  Five cross-sectoral principles: When implement...  \n",
       "4  for the Future of Work.\\n33. Briggs, J. et al....  "
      ]
     },
     "execution_count": 16,
     "metadata": {},
     "output_type": "execute_result"
    }
   ],
   "source": [
    "#Retrieve 4 Relevant documents chunks - Feel free to change\n",
    "#results = vectorstore.similarity_search(query, k=4)\n",
    "test_dataframe['context'] = test_dataframe['input'].apply(lambda x: ' '.join([result.page_content for result in vectorstore.similarity_search(x, k=4)]))\n",
    "test_dataframe.head()"
   ]
  },
  {
   "cell_type": "code",
   "execution_count": 17,
   "metadata": {},
   "outputs": [],
   "source": [
    "processed_test_dataframe = test_dataframe\n",
    "processed_test_dataframe.to_json('test_qa_with_context.jsonl', orient='records', lines=True)"
   ]
  },
  {
   "cell_type": "markdown",
   "metadata": {
    "tags": []
   },
   "source": [
    "### Step 1: Load the model\n",
    "\n",
    "Point base_model to model weight folder"
   ]
  },
  {
   "cell_type": "code",
   "execution_count": 18,
   "metadata": {},
   "outputs": [
    {
     "name": "stderr",
     "output_type": "stream",
     "text": [
      "huggingface/tokenizers: The current process just got forked, after parallelism has already been used. Disabling parallelism to avoid deadlocks...\n",
      "To disable this warning, you can either:\n",
      "\t- Avoid using `tokenizers` before the fork if possible\n",
      "\t- Explicitly set the environment variable TOKENIZERS_PARALLELISM=(true | false)\n"
     ]
    }
   ],
   "source": [
    "%%capture\n",
    "%pip install accelerate peft bitsandbytes transformers trl"
   ]
  },
  {
   "cell_type": "code",
   "execution_count": 7,
   "metadata": {},
   "outputs": [],
   "source": [
    "import os\n",
    "import torch\n",
    "from datasets import load_dataset\n",
    "from transformers import (\n",
    "    AutoModelForCausalLM,\n",
    "    AutoTokenizer,\n",
    "    BitsAndBytesConfig,\n",
    "    TrainingArguments,\n",
    "    pipeline,\n",
    "    logging,\n",
    ")\n",
    "from peft import LoraConfig\n",
    "from trl import SFTTrainer"
   ]
  },
  {
   "cell_type": "code",
   "execution_count": 8,
   "metadata": {},
   "outputs": [],
   "source": [
    "import torch\n",
    "from transformers import AutoTokenizer, AutoModelForCausalLM, BitsAndBytesConfig\n",
    "import pyarrow as pa\n",
    "import pyarrow.dataset as ds\n",
    "import pandas as pd\n",
    "from datasets import Dataset\n",
    "\n",
    "logging.set_verbosity(logging.ERROR)\n",
    "base_model = \"./models_hf_with_rag/7B\"\n",
    "finetuned_model = './finetuned_with_rag/policy-llama2-7b'\n",
    "\n",
    "train_dataset = Dataset(pa.Table.from_pandas(pd.read_json(path_or_buf='train_qa_with_context.jsonl', lines=True)))\n",
    "val_dataset = Dataset(pa.Table.from_pandas(pd.read_json(path_or_buf='val_qa_with_context.jsonl', lines=True)))"
   ]
  },
  {
   "cell_type": "code",
   "execution_count": 9,
   "metadata": {},
   "outputs": [
    {
     "data": {
      "text/plain": [
       "{'input': \" How do China's AI regulations, particularly on recommendation algorithms, deep synthesis, and generative AI, focus on information control?\",\n",
       " 'output': 'China\\'s AI regulations prioritize information control through measures like barring excessive price discrimination in recommendation algorithms, requiring labels on synthetically generated content in deep synthesis, and demanding \"true and accurate\" data and outputs in generative AI.',\n",
       " 'context': 'China’s three most concrete and impactful regulations on algorithms and AI are its 2021\\nregulation on recommendation algorithms, the 2022 rules for deep synthesis (synthetically generated content), and the 2023 draft rules on generative AI. Information control is a central goal of all three measures, but they also contain many other notable provisions. The rules for recommendation algorithms bar excessive price discrimination and protect the rights of workers subject to algorithmic scheduling. \\nThe deep synthesis regulation requires conspicuous labels be placed on synthetically generated content. And the draft generative AI regulation requires both the training data and model outputs to be “true and accurate,” Summary: China is in the midst of rolling out some of the world’s earliest and most detailed regulations governing artificial intelligence (AI). These include measures governing recommendation algorithms—the most omnipresent form of AI deployed on the internet—as well as new rules for synthetically generated images and chatbots in the mold of ChatGPT. \\nChina’s emerging AI governance framework will reshape how the technology is built and deployed within China and internationally, impacting both Chinese technology exports and global AI research networks.\\nBut in the West, China’s regulations are often dismissed as irrelevant or seen purely through the lens of a geopolitical competition to write the rules for AI. These extremely demanding requirements for generative AI systems have kicked off a particularly active public debate on the draft regulation. At the time of writing, Chinese scholars, companies, and policymakers are actively discussing how to maintain effective content controls without squashing China’s nascent generative AI industry. The third paper in this series will dive deep into how this policy debate is playing out in public workshops, academic writing, and corporate lobbying.\\nCountries and cultures may differ on the specific content of AI regulations, but they can learn from the content-agnostic structure of the regulations themselves. The above Chinese regulations share three structural similarities: the choice of algorithms as a point of entry; the building of regulatory tools and bureaucratic know-how; and the vertical and iterative approach that is laying the groundwork for a capstone AI law. Three regulations require the deepest analysis: recommendation algorithms, “deep synthesis,” and generative AI. These interconnected documents contain the most targeted and impactful regulations to date, creating concrete requirements for how algorithms and AI are built and deployed in China. Below is a brief overview of each regulation. The remainder of this paper and subsequent papers will expand on the intellectual roots and key bureaucratic actors behind these regulations.\\nProvisions on the Management of Algorithmic Recommendations in Internet Information Services'}"
      ]
     },
     "execution_count": 9,
     "metadata": {},
     "output_type": "execute_result"
    }
   ],
   "source": [
    "train_dataset[0]"
   ]
  },
  {
   "cell_type": "code",
   "execution_count": 12,
   "metadata": {},
   "outputs": [],
   "source": [
    "compute_dtype = getattr(torch, \"float16\")\n",
    "\n",
    "quant_config = BitsAndBytesConfig(\n",
    "    load_in_4bit=True,\n",
    "    bnb_4bit_quant_type=\"nf4\",\n",
    "    bnb_4bit_compute_dtype=compute_dtype,\n",
    "    bnb_4bit_use_double_quant=False,\n",
    ")"
   ]
  },
  {
   "cell_type": "code",
   "execution_count": 44,
   "metadata": {},
   "outputs": [
    {
     "data": {
      "application/vnd.jupyter.widget-view+json": {
       "model_id": "9f83f3c608834d1ca2276d9763647354",
       "version_major": 2,
       "version_minor": 0
      },
      "text/plain": [
       "Loading checkpoint shards:   0%|          | 0/3 [00:00<?, ?it/s]"
      ]
     },
     "metadata": {},
     "output_type": "display_data"
    }
   ],
   "source": [
    "model = AutoModelForCausalLM.from_pretrained(\n",
    "    base_model,\n",
    "    quantization_config=quant_config,\n",
    "    #device_map={\"\": 0, \"\":1}\n",
    "    device_map='auto'\n",
    ")\n",
    "model.config.use_cache = False\n",
    "model.config.pretraining_tp = 1"
   ]
  },
  {
   "cell_type": "markdown",
   "metadata": {},
   "source": [
    "### Step 2: Load LLaMA tokenizer\n"
   ]
  },
  {
   "cell_type": "code",
   "execution_count": 45,
   "metadata": {},
   "outputs": [],
   "source": [
    "tokenizer = AutoTokenizer.from_pretrained(base_model, trust_remote_code=True)\n",
    "tokenizer.pad_token = tokenizer.eos_token\n",
    "tokenizer.padding_side = \"right\""
   ]
  },
  {
   "cell_type": "code",
   "execution_count": 25,
   "metadata": {},
   "outputs": [
    {
     "name": "stdout",
     "output_type": "stream",
     "text": [
      "\n",
      "Answer the following question:\n",
      "Question: How do China's AI regulations, particularly on recommendation algorithms, deep synthesis, and generative AI, focus on information control?\n",
      "---\n",
      "Answer:\n",
      "\n",
      "China's AI regulations, particularly on recommendation algorithms, deep synthesis, and generative AI, focus on information control by requiring companies to obtain approval from the government before using these technologies. This is done to ensure that the information being used is accurate and not misleading, and to prevent the spread of false or harmful information.\n",
      "\n",
      "For example, the Chinese government has implemented regulations that require companies to obtain approval before using recommendation algorithms to suggest products\n"
     ]
    }
   ],
   "source": [
    "eval_prompt = \"\"\"\n",
    "Answer the following question:\n",
    "Question: How do China's AI regulations, particularly on recommendation algorithms, deep synthesis, and generative AI, focus on information control?\n",
    "---\n",
    "Answer:\n",
    "\"\"\"\n",
    "\n",
    "model_input = tokenizer(eval_prompt, return_tensors=\"pt\").to(\"cuda\")\n",
    "\n",
    "model.eval()\n",
    "with torch.no_grad():\n",
    "    print(tokenizer.decode(model.generate(**model_input, max_new_tokens=100)[0], skip_special_tokens=True))"
   ]
  },
  {
   "cell_type": "code",
   "execution_count": 26,
   "metadata": {},
   "outputs": [
    {
     "name": "stdout",
     "output_type": "stream",
     "text": [
      "\n",
      "Answer the following question with the given context with succinct summary:\n",
      "Question: How do China's AI regulations, particularly on recommendation algorithms, deep synthesis, and generative AI, focus on information control?\n",
      "Context: China’s three most concrete and impactful regulations on algorithms and AI are its 2021\n",
      "regulation on recommendation algorithms, the 2022 rules for deep synthesis (synthetically generated content), and the 2023 draft rules on generative AI. Information control is a central goal of all three measures, but they also contain many other notable provisions. The rules for recommendation algorithms bar excessive price discrimination and protect the rights of workers subject to algorithmic scheduling. \n",
      "The deep synthesis regulation requires conspicuous labels be placed on synthetically generated content. And the draft generative AI regulation requires both the training data and model outputs to be “true and accurate,” Summary: China is in the midst of rolling out some of the world’s earliest and most detailed regulations governing artificial intelligence (AI). These include measures governing recommendation algorithms—the most omnipresent form of AI deployed on the internet—as well as new rules for synthetically generated images and chatbots in the mold of ChatGPT. \n",
      "China’s emerging AI governance framework will reshape how the technology is built and deployed within China and internationally, impacting both Chinese technology exports and global AI research networks.\n",
      "But in the West, China’s regulations are often dismissed as irrelevant or seen purely through the lens of a geopolitical competition to write the rules for AI. These extremely demanding requirements for generative AI systems have kicked off a particularly active public debate on the draft regulation. At the time of writing, Chinese scholars, companies, and policymakers are actively discussing how to maintain effective content controls without squashing China’s nascent generative AI industry. The third paper in this series will dive deep into how this policy debate is playing out in public workshops, academic writing, and corporate lobbying.\n",
      "Countries and cultures may differ on the specific content of AI regulations, but they can learn from the content-agnostic structure of the regulations themselves. The above Chinese regulations share three structural similarities: the choice of algorithms as a point of entry; the building of regulatory tools and bureaucratic know-how; and the vertical and iterative approach that is laying the groundwork for a capstone AI law. Three regulations require the deepest analysis: recommendation algorithms, “deep synthesis,” and generative AI. These interconnected documents contain the most targeted and impactful regulations to date, creating concrete requirements for how algorithms and AI are built and deployed in China. Below is a brief overview of each regulation. The remainder of this paper and subsequent papers will expand on the intellectual roots and key bureaucratic actors behind these regulations.\n",
      "Provisions on the Management of Algorithmic Recommendations in Internet Information Services\n",
      "---\n",
      "Answer:\n",
      "China’s AI regulations, particularly on recommendation algorithms, deep synthesis, and generative AI, focus on information control.\n",
      "\n",
      "---\n",
      "\n",
      "\n",
      "\n",
      "\n",
      "\n",
      "\n",
      "\n",
      "\n",
      "\n",
      "\n",
      "\n",
      "\n",
      "\n",
      "\n",
      "\n",
      "\n",
      "\n",
      "\n",
      "\n",
      "\n",
      "\n",
      "\n",
      "\n",
      "\n",
      "\n",
      "\n",
      "\n",
      "\n",
      "\n",
      "\n",
      "\n",
      "\n",
      "\n",
      "\n",
      "\n",
      "\n",
      "\n",
      "\n",
      "\n",
      "\n",
      "\n",
      "\n",
      "\n",
      "\n",
      "\n",
      "\n",
      "\n",
      "\n",
      "\n",
      "\n",
      "\n",
      "\n",
      "\n",
      "\n",
      "\n",
      "\n",
      "\n",
      "\n",
      "\n",
      "\n",
      "\n",
      "\n",
      "\n",
      "\n",
      "\n",
      "\n",
      "\n",
      "\n",
      "\n",
      "\n",
      "\n",
      "\n",
      "\n",
      "\n",
      "\n",
      "\n",
      "\n",
      "\n",
      "\n",
      "\n",
      "\n",
      "\n",
      "\n",
      "\n",
      "\n",
      "\n",
      "\n",
      "\n",
      "\n",
      "\n",
      "\n",
      "\n",
      "\n",
      "\n",
      "\n",
      "\n",
      "\n",
      "\n",
      "\n",
      "\n",
      "\n",
      "\n",
      "\n",
      "\n",
      "\n",
      "\n",
      "\n",
      "\n",
      "\n",
      "\n",
      "\n",
      "\n",
      "\n",
      "\n",
      "\n",
      "\n",
      "\n",
      "\n",
      "\n",
      "\n",
      "\n",
      "\n",
      "\n",
      "\n",
      "\n",
      "\n",
      "\n",
      "\n",
      "\n",
      "\n",
      "\n",
      "\n",
      "\n",
      "\n",
      "\n",
      "\n",
      "\n",
      "\n",
      "\n",
      "\n",
      "\n",
      "\n",
      "\n",
      "\n",
      "\n",
      "\n",
      "\n",
      "\n",
      "\n",
      "\n",
      "\n",
      "\n",
      "\n",
      "\n",
      "\n",
      "\n",
      "\n",
      "\n",
      "\n",
      "\n",
      "\n",
      "\n",
      "\n",
      "\n",
      "\n",
      "\n",
      "\n",
      "\n"
     ]
    }
   ],
   "source": [
    "#With Context\n",
    "eval_prompt = \"\"\"\n",
    "Answer the following question with the given context with succinct summary:\n",
    "Question: How do China's AI regulations, particularly on recommendation algorithms, deep synthesis, and generative AI, focus on information control?\n",
    "Context: China\\u2019s three most concrete and impactful regulations on algorithms and AI are its 2021\\nregulation on recommendation algorithms, the 2022 rules for deep synthesis (synthetically generated content), and the 2023 draft rules on generative AI. Information control is a central goal of all three measures, but they also contain many other notable provisions. The rules for recommendation algorithms bar excessive price discrimination and protect the rights of workers subject to algorithmic scheduling. \\nThe deep synthesis regulation requires conspicuous labels be placed on synthetically generated content. And the draft generative AI regulation requires both the training data and model outputs to be \\u201ctrue and accurate,\\u201d Summary: China is in the midst of rolling out some of the world\\u2019s earliest and most detailed regulations governing artificial intelligence (AI). These include measures governing recommendation algorithms\\u2014the most omnipresent form of AI deployed on the internet\\u2014as well as new rules for synthetically generated images and chatbots in the mold of ChatGPT. \\nChina\\u2019s emerging AI governance framework will reshape how the technology is built and deployed within China and internationally, impacting both Chinese technology exports and global AI research networks.\\nBut in the West, China\\u2019s regulations are often dismissed as irrelevant or seen purely through the lens of a geopolitical competition to write the rules for AI. These extremely demanding requirements for generative AI systems have kicked off a particularly active public debate on the draft regulation. At the time of writing, Chinese scholars, companies, and policymakers are actively discussing how to maintain effective content controls without squashing China\\u2019s nascent generative AI industry. The third paper in this series will dive deep into how this policy debate is playing out in public workshops, academic writing, and corporate lobbying.\\nCountries and cultures may differ on the specific content of AI regulations, but they can learn from the content-agnostic structure of the regulations themselves. The above Chinese regulations share three structural similarities: the choice of algorithms as a point of entry; the building of regulatory tools and bureaucratic know-how; and the vertical and iterative approach that is laying the groundwork for a capstone AI law. Three regulations require the deepest analysis: recommendation algorithms, \\u201cdeep synthesis,\\u201d and generative AI. These interconnected documents contain the most targeted and impactful regulations to date, creating concrete requirements for how algorithms and AI are built and deployed in China. Below is a brief overview of each regulation. The remainder of this paper and subsequent papers will expand on the intellectual roots and key bureaucratic actors behind these regulations.\\nProvisions on the Management of Algorithmic Recommendations in Internet Information Services\n",
    "---\n",
    "Answer:\n",
    "\"\"\"\n",
    "\n",
    "model_input = tokenizer(eval_prompt, return_tensors=\"pt\").to(\"cuda\")\n",
    "\n",
    "model.eval()\n",
    "with torch.no_grad():\n",
    "    print(tokenizer.decode(model.generate(**model_input, max_new_tokens=200)[0], skip_special_tokens=True))"
   ]
  },
  {
   "cell_type": "markdown",
   "metadata": {},
   "source": [
    "### Step 3: Load LoRA configuration"
   ]
  },
  {
   "cell_type": "code",
   "execution_count": 27,
   "metadata": {},
   "outputs": [],
   "source": [
    "peft_params = LoraConfig(\n",
    "    lora_alpha=32,\n",
    "    lora_dropout=0.05,\n",
    "    r=8,\n",
    "    bias=\"none\",\n",
    "    target_modules = [\"q_proj\", \"v_proj\"],\n",
    "    task_type=\"CAUSAL_LM\",\n",
    ")"
   ]
  },
  {
   "cell_type": "markdown",
   "metadata": {},
   "source": [
    "### Step 4: Set training parameters"
   ]
  },
  {
   "cell_type": "code",
   "execution_count": 28,
   "metadata": {},
   "outputs": [],
   "source": [
    "training_params = TrainingArguments(\n",
    "    output_dir=\"./results\",\n",
    "    num_train_epochs=10,\n",
    "    per_device_train_batch_size=4,\n",
    "    gradient_accumulation_steps=1,\n",
    "    optim=\"paged_adamw_32bit\",\n",
    "    save_steps=25,\n",
    "    logging_steps=25,\n",
    "    learning_rate=2e-4,\n",
    "    weight_decay=0.001,\n",
    "    fp16=False,\n",
    "    bf16=False,\n",
    "    max_grad_norm=0.3,\n",
    "    max_steps=-1,\n",
    "    warmup_ratio=0.03,\n",
    "    group_by_length=True,\n",
    "    lr_scheduler_type=\"constant\",\n",
    "    report_to=\"tensorboard\"\n",
    ")"
   ]
  },
  {
   "cell_type": "markdown",
   "metadata": {},
   "source": [
    "### Step 5: Set supervised fine-tuning parameters"
   ]
  },
  {
   "cell_type": "code",
   "execution_count": 29,
   "metadata": {},
   "outputs": [
    {
     "data": {
      "text/plain": [
       "{'input': \" How do China's AI regulations, particularly on recommendation algorithms, deep synthesis, and generative AI, focus on information control?\",\n",
       " 'output': 'China\\'s AI regulations prioritize information control through measures like barring excessive price discrimination in recommendation algorithms, requiring labels on synthetically generated content in deep synthesis, and demanding \"true and accurate\" data and outputs in generative AI.',\n",
       " 'context': 'China’s three most concrete and impactful regulations on algorithms and AI are its 2021\\nregulation on recommendation algorithms, the 2022 rules for deep synthesis (synthetically generated content), and the 2023 draft rules on generative AI. Information control is a central goal of all three measures, but they also contain many other notable provisions. The rules for recommendation algorithms bar excessive price discrimination and protect the rights of workers subject to algorithmic scheduling. \\nThe deep synthesis regulation requires conspicuous labels be placed on synthetically generated content. And the draft generative AI regulation requires both the training data and model outputs to be “true and accurate,” Summary: China is in the midst of rolling out some of the world’s earliest and most detailed regulations governing artificial intelligence (AI). These include measures governing recommendation algorithms—the most omnipresent form of AI deployed on the internet—as well as new rules for synthetically generated images and chatbots in the mold of ChatGPT. \\nChina’s emerging AI governance framework will reshape how the technology is built and deployed within China and internationally, impacting both Chinese technology exports and global AI research networks.\\nBut in the West, China’s regulations are often dismissed as irrelevant or seen purely through the lens of a geopolitical competition to write the rules for AI. These extremely demanding requirements for generative AI systems have kicked off a particularly active public debate on the draft regulation. At the time of writing, Chinese scholars, companies, and policymakers are actively discussing how to maintain effective content controls without squashing China’s nascent generative AI industry. The third paper in this series will dive deep into how this policy debate is playing out in public workshops, academic writing, and corporate lobbying.\\nCountries and cultures may differ on the specific content of AI regulations, but they can learn from the content-agnostic structure of the regulations themselves. The above Chinese regulations share three structural similarities: the choice of algorithms as a point of entry; the building of regulatory tools and bureaucratic know-how; and the vertical and iterative approach that is laying the groundwork for a capstone AI law. Three regulations require the deepest analysis: recommendation algorithms, “deep synthesis,” and generative AI. These interconnected documents contain the most targeted and impactful regulations to date, creating concrete requirements for how algorithms and AI are built and deployed in China. Below is a brief overview of each regulation. The remainder of this paper and subsequent papers will expand on the intellectual roots and key bureaucratic actors behind these regulations.\\nProvisions on the Management of Algorithmic Recommendations in Internet Information Services'}"
      ]
     },
     "execution_count": 29,
     "metadata": {},
     "output_type": "execute_result"
    }
   ],
   "source": [
    "train_dataset[0]"
   ]
  },
  {
   "cell_type": "code",
   "execution_count": 30,
   "metadata": {},
   "outputs": [
    {
     "data": {
      "text/plain": [
       "{'input': 'How does China formulate AI governance regulations, and what are the key layers in the policy formulation process?',\n",
       " 'output': 'China formulates AI governance regulations through a four-layered policy funnel involving real-world roots, Xi Jinping and CCP ideology, the \"world of ideas,\" and party and state bureaucracies, with regulations often pinballing through these layers in a non-linear fashion.',\n",
       " 'context': 'How China Sets AI Governance Policy\\nThis paper presents a four-layered policy funnel through which China formulates and pro-mulgates AI governance regulations. Those four layers are real-world roots; Xi Jinping and CCP ideology; the “world of ideas”; and the party and state bureaucracies. These layers are porous, and regulations do not proceed through them in a purely linear fashion.\\n\\nInstead, they often pinball forward and backward through these layers, getting shaped and reshaped by academics, bureaucrats, public opinion, and CCP ideology. The order and relative importance of the layers also varies depending on the nature of the issue confronted.\\n\\nSo far, most of the activity in the crafting of AI regulations has occurred in the third and fourth layers. And despite China’s drastically different political system, policymakers in the United States and elsewhere can learn from its regulations. China’s regulations create new bureaucratic and technical tools: disclosure requirements, model auditing mechanisms, and technical per-formance standards. These tools can be put to different uses in different countries, ranging from authoritarian controls on speech to democratic oversight of automated decisionmaking.\\nCharting the successes, failures, and technical feasibility of China’s AI regulations can give policymakers elsewhere a preview of what is possible and what might be pointless when it comes to governing AI.\\nSo what do China’s AI regulations contain? How did its massive party and state bureaucracies formulate them? And is it possible to predict where Chinese AI governance is headed?\\nThis is the first in a series of three papers that will tackle these questions using a novel approach: reverse engineering. In this series of three papers, I will attempt to reverse engineer Chinese AI governance. \\nI break down the regulations into their component parts—the terminology, key concepts, and specific requirements—and then trace those components to their roots, revealing how 3.The “Policy Funnel” of China’s AI Governance Major governance initiatives tend to proceed from left to right through this funnel, though often not in a linear fashion. In AI governance, Xi is best thought of as setting the direction of travel for policy actors and as providing the ultimate backstop for decisions. Policymaking will broadly focus on the issues he prioritizes and take an approach resonant with his way of seeing the world. And no decision will be made that directly contradicts his expressed wishes. But when it comes to crafting Chinese AI regulations, most of the activity has so far occurred in the next two layers.'}"
      ]
     },
     "execution_count": 30,
     "metadata": {},
     "output_type": "execute_result"
    }
   ],
   "source": [
    "val_dataset[0]"
   ]
  },
  {
   "cell_type": "code",
   "execution_count": 31,
   "metadata": {},
   "outputs": [],
   "source": [
    "def formatting_prompts_func(example) -> list:\n",
    "    output_texts = []\n",
    "    for i in range(len(example['input'])):\n",
    "        text = f\"### Question: {example['input'][i]}\\n ### Answer: {example['output'][i]}\\n ### Context: {example['context'][i]}\"\n",
    "        output_texts.append(text)\n",
    "    return output_texts"
   ]
  },
  {
   "cell_type": "code",
   "execution_count": 32,
   "metadata": {},
   "outputs": [
    {
     "data": {
      "application/vnd.jupyter.widget-view+json": {
       "model_id": "0d3cea7546934c4d9ec6227327e58674",
       "version_major": 2,
       "version_minor": 0
      },
      "text/plain": [
       "Map:   0%|          | 0/262 [00:00<?, ? examples/s]"
      ]
     },
     "metadata": {},
     "output_type": "display_data"
    },
    {
     "data": {
      "application/vnd.jupyter.widget-view+json": {
       "model_id": "918e8b02180444589adf05a2f8884d29",
       "version_major": 2,
       "version_minor": 0
      },
      "text/plain": [
       "Map:   0%|          | 0/87 [00:00<?, ? examples/s]"
      ]
     },
     "metadata": {},
     "output_type": "display_data"
    },
    {
     "name": "stderr",
     "output_type": "stream",
     "text": [
      "Detected kernel version 4.18.0, which is below the recommended minimum of 5.5.0; this can cause the process to hang. It is recommended to upgrade the kernel to the minimum version or higher.\n"
     ]
    }
   ],
   "source": [
    "trainer = SFTTrainer(\n",
    "    model=model,\n",
    "    train_dataset=train_dataset,\n",
    "    eval_dataset = val_dataset,\n",
    "    peft_config=peft_params,\n",
    "    #dataset_text_field=\"input\",\n",
    "    formatting_func=formatting_prompts_func,\n",
    "    max_seq_length=512,\n",
    "    tokenizer=tokenizer,\n",
    "    args=training_params,\n",
    "    packing=False,\n",
    ")"
   ]
  },
  {
   "cell_type": "code",
   "execution_count": 33,
   "metadata": {},
   "outputs": [
    {
     "name": "stderr",
     "output_type": "stream",
     "text": [
      "huggingface/tokenizers: The current process just got forked, after parallelism has already been used. Disabling parallelism to avoid deadlocks...\n",
      "To disable this warning, you can either:\n",
      "\t- Avoid using `tokenizers` before the fork if possible\n",
      "\t- Explicitly set the environment variable TOKENIZERS_PARALLELISM=(true | false)\n"
     ]
    },
    {
     "name": "stdout",
     "output_type": "stream",
     "text": [
      "Sun Mar  3 18:01:49 2024       \n",
      "+---------------------------------------------------------------------------------------+\n",
      "| NVIDIA-SMI 545.23.08              Driver Version: 545.23.08    CUDA Version: 12.3     |\n",
      "|-----------------------------------------+----------------------+----------------------+\n",
      "| GPU  Name                 Persistence-M | Bus-Id        Disp.A | Volatile Uncorr. ECC |\n",
      "| Fan  Temp   Perf          Pwr:Usage/Cap |         Memory-Usage | GPU-Util  Compute M. |\n",
      "|                                         |                      |               MIG M. |\n",
      "|=========================================+======================+======================|\n",
      "|   0  Tesla V100-SXM2-32GB           On  | 00000000:3B:00.0 Off |                    0 |\n",
      "| N/A   33C    P0              68W / 300W |   7237MiB / 32768MiB |      7%      Default |\n",
      "|                                         |                      |                  N/A |\n",
      "+-----------------------------------------+----------------------+----------------------+\n",
      "                                                                                         \n",
      "+---------------------------------------------------------------------------------------+\n",
      "| Processes:                                                                            |\n",
      "|  GPU   GI   CI        PID   Type   Process name                            GPU Memory |\n",
      "|        ID   ID                                                             Usage      |\n",
      "|=======================================================================================|\n",
      "|    0   N/A  N/A     66287      C   /usr/bin/python                             322MiB |\n",
      "|    0   N/A  N/A     66652      C   /usr/bin/python                            6912MiB |\n",
      "+---------------------------------------------------------------------------------------+\n"
     ]
    }
   ],
   "source": [
    "!nvidia-smi"
   ]
  },
  {
   "cell_type": "markdown",
   "metadata": {},
   "source": [
    "### Step 6: Train Model\n"
   ]
  },
  {
   "cell_type": "code",
   "execution_count": 34,
   "metadata": {},
   "outputs": [
    {
     "name": "stdout",
     "output_type": "stream",
     "text": [
      "{'loss': 2.0025, 'grad_norm': 0.664797842502594, 'learning_rate': 0.0002, 'epoch': 0.38}\n"
     ]
    },
    {
     "name": "stderr",
     "output_type": "stream",
     "text": [
      "/jet/home/achoudh2/.local/lib/python3.10/site-packages/peft/utils/save_and_load.py:148: UserWarning: Could not find a config file in ./models_hf_with_rag/7B - will assume that the vocabulary was not modified.\n",
      "  warnings.warn(\n"
     ]
    },
    {
     "name": "stdout",
     "output_type": "stream",
     "text": [
      "{'loss': 1.878, 'grad_norm': 0.7222964763641357, 'learning_rate': 0.0002, 'epoch': 0.76}\n"
     ]
    },
    {
     "name": "stderr",
     "output_type": "stream",
     "text": [
      "/jet/home/achoudh2/.local/lib/python3.10/site-packages/peft/utils/save_and_load.py:148: UserWarning: Could not find a config file in ./models_hf_with_rag/7B - will assume that the vocabulary was not modified.\n",
      "  warnings.warn(\n"
     ]
    },
    {
     "name": "stdout",
     "output_type": "stream",
     "text": [
      "{'loss': 1.6979, 'grad_norm': 1.0306320190429688, 'learning_rate': 0.0002, 'epoch': 1.14}\n"
     ]
    },
    {
     "name": "stderr",
     "output_type": "stream",
     "text": [
      "/jet/home/achoudh2/.local/lib/python3.10/site-packages/peft/utils/save_and_load.py:148: UserWarning: Could not find a config file in ./models_hf_with_rag/7B - will assume that the vocabulary was not modified.\n",
      "  warnings.warn(\n"
     ]
    },
    {
     "name": "stdout",
     "output_type": "stream",
     "text": [
      "{'loss': 1.6435, 'grad_norm': 1.2030390501022339, 'learning_rate': 0.0002, 'epoch': 1.52}\n"
     ]
    },
    {
     "name": "stderr",
     "output_type": "stream",
     "text": [
      "/jet/home/achoudh2/.local/lib/python3.10/site-packages/peft/utils/save_and_load.py:148: UserWarning: Could not find a config file in ./models_hf_with_rag/7B - will assume that the vocabulary was not modified.\n",
      "  warnings.warn(\n"
     ]
    },
    {
     "name": "stdout",
     "output_type": "stream",
     "text": [
      "{'loss': 1.5585, 'grad_norm': 1.149080514907837, 'learning_rate': 0.0002, 'epoch': 1.89}\n"
     ]
    },
    {
     "name": "stderr",
     "output_type": "stream",
     "text": [
      "/jet/home/achoudh2/.local/lib/python3.10/site-packages/peft/utils/save_and_load.py:148: UserWarning: Could not find a config file in ./models_hf_with_rag/7B - will assume that the vocabulary was not modified.\n",
      "  warnings.warn(\n"
     ]
    },
    {
     "name": "stdout",
     "output_type": "stream",
     "text": [
      "{'loss': 1.4171, 'grad_norm': 1.5478140115737915, 'learning_rate': 0.0002, 'epoch': 2.27}\n"
     ]
    },
    {
     "name": "stderr",
     "output_type": "stream",
     "text": [
      "/jet/home/achoudh2/.local/lib/python3.10/site-packages/peft/utils/save_and_load.py:148: UserWarning: Could not find a config file in ./models_hf_with_rag/7B - will assume that the vocabulary was not modified.\n",
      "  warnings.warn(\n"
     ]
    },
    {
     "name": "stdout",
     "output_type": "stream",
     "text": [
      "{'loss': 1.3002, 'grad_norm': 1.844679832458496, 'learning_rate': 0.0002, 'epoch': 2.65}\n"
     ]
    },
    {
     "name": "stderr",
     "output_type": "stream",
     "text": [
      "/jet/home/achoudh2/.local/lib/python3.10/site-packages/peft/utils/save_and_load.py:148: UserWarning: Could not find a config file in ./models_hf_with_rag/7B - will assume that the vocabulary was not modified.\n",
      "  warnings.warn(\n"
     ]
    },
    {
     "name": "stdout",
     "output_type": "stream",
     "text": [
      "{'loss': 1.3317, 'grad_norm': 1.7208460569381714, 'learning_rate': 0.0002, 'epoch': 3.03}\n"
     ]
    },
    {
     "name": "stderr",
     "output_type": "stream",
     "text": [
      "/jet/home/achoudh2/.local/lib/python3.10/site-packages/peft/utils/save_and_load.py:148: UserWarning: Could not find a config file in ./models_hf_with_rag/7B - will assume that the vocabulary was not modified.\n",
      "  warnings.warn(\n"
     ]
    },
    {
     "name": "stdout",
     "output_type": "stream",
     "text": [
      "{'loss': 1.075, 'grad_norm': 1.7098957300186157, 'learning_rate': 0.0002, 'epoch': 3.41}\n"
     ]
    },
    {
     "name": "stderr",
     "output_type": "stream",
     "text": [
      "/jet/home/achoudh2/.local/lib/python3.10/site-packages/peft/utils/save_and_load.py:148: UserWarning: Could not find a config file in ./models_hf_with_rag/7B - will assume that the vocabulary was not modified.\n",
      "  warnings.warn(\n"
     ]
    },
    {
     "name": "stdout",
     "output_type": "stream",
     "text": [
      "{'loss': 1.0914, 'grad_norm': 1.7676383256912231, 'learning_rate': 0.0002, 'epoch': 3.79}\n"
     ]
    },
    {
     "name": "stderr",
     "output_type": "stream",
     "text": [
      "/jet/home/achoudh2/.local/lib/python3.10/site-packages/peft/utils/save_and_load.py:148: UserWarning: Could not find a config file in ./models_hf_with_rag/7B - will assume that the vocabulary was not modified.\n",
      "  warnings.warn(\n"
     ]
    },
    {
     "name": "stdout",
     "output_type": "stream",
     "text": [
      "{'loss': 1.0421, 'grad_norm': 1.8220053911209106, 'learning_rate': 0.0002, 'epoch': 4.17}\n"
     ]
    },
    {
     "name": "stderr",
     "output_type": "stream",
     "text": [
      "/jet/home/achoudh2/.local/lib/python3.10/site-packages/peft/utils/save_and_load.py:148: UserWarning: Could not find a config file in ./models_hf_with_rag/7B - will assume that the vocabulary was not modified.\n",
      "  warnings.warn(\n"
     ]
    },
    {
     "name": "stdout",
     "output_type": "stream",
     "text": [
      "{'loss': 0.9467, 'grad_norm': 2.135197877883911, 'learning_rate': 0.0002, 'epoch': 4.55}\n"
     ]
    },
    {
     "name": "stderr",
     "output_type": "stream",
     "text": [
      "/jet/home/achoudh2/.local/lib/python3.10/site-packages/peft/utils/save_and_load.py:148: UserWarning: Could not find a config file in ./models_hf_with_rag/7B - will assume that the vocabulary was not modified.\n",
      "  warnings.warn(\n"
     ]
    },
    {
     "name": "stdout",
     "output_type": "stream",
     "text": [
      "{'loss': 0.9206, 'grad_norm': 2.580979108810425, 'learning_rate': 0.0002, 'epoch': 4.92}\n"
     ]
    },
    {
     "name": "stderr",
     "output_type": "stream",
     "text": [
      "/jet/home/achoudh2/.local/lib/python3.10/site-packages/peft/utils/save_and_load.py:148: UserWarning: Could not find a config file in ./models_hf_with_rag/7B - will assume that the vocabulary was not modified.\n",
      "  warnings.warn(\n"
     ]
    },
    {
     "name": "stdout",
     "output_type": "stream",
     "text": [
      "{'loss': 0.8261, 'grad_norm': 2.8068981170654297, 'learning_rate': 0.0002, 'epoch': 5.3}\n"
     ]
    },
    {
     "name": "stderr",
     "output_type": "stream",
     "text": [
      "/jet/home/achoudh2/.local/lib/python3.10/site-packages/peft/utils/save_and_load.py:148: UserWarning: Could not find a config file in ./models_hf_with_rag/7B - will assume that the vocabulary was not modified.\n",
      "  warnings.warn(\n"
     ]
    },
    {
     "name": "stdout",
     "output_type": "stream",
     "text": [
      "{'loss': 0.7406, 'grad_norm': 2.7003514766693115, 'learning_rate': 0.0002, 'epoch': 5.68}\n"
     ]
    },
    {
     "name": "stderr",
     "output_type": "stream",
     "text": [
      "/jet/home/achoudh2/.local/lib/python3.10/site-packages/peft/utils/save_and_load.py:148: UserWarning: Could not find a config file in ./models_hf_with_rag/7B - will assume that the vocabulary was not modified.\n",
      "  warnings.warn(\n"
     ]
    },
    {
     "name": "stdout",
     "output_type": "stream",
     "text": [
      "{'loss': 0.7745, 'grad_norm': 2.947115659713745, 'learning_rate': 0.0002, 'epoch': 6.06}\n"
     ]
    },
    {
     "name": "stderr",
     "output_type": "stream",
     "text": [
      "/jet/home/achoudh2/.local/lib/python3.10/site-packages/peft/utils/save_and_load.py:148: UserWarning: Could not find a config file in ./models_hf_with_rag/7B - will assume that the vocabulary was not modified.\n",
      "  warnings.warn(\n"
     ]
    },
    {
     "name": "stdout",
     "output_type": "stream",
     "text": [
      "{'loss': 0.6296, 'grad_norm': 2.705770254135132, 'learning_rate': 0.0002, 'epoch': 6.44}\n"
     ]
    },
    {
     "name": "stderr",
     "output_type": "stream",
     "text": [
      "/jet/home/achoudh2/.local/lib/python3.10/site-packages/peft/utils/save_and_load.py:148: UserWarning: Could not find a config file in ./models_hf_with_rag/7B - will assume that the vocabulary was not modified.\n",
      "  warnings.warn(\n"
     ]
    },
    {
     "name": "stdout",
     "output_type": "stream",
     "text": [
      "{'loss': 0.6894, 'grad_norm': 2.0608863830566406, 'learning_rate': 0.0002, 'epoch': 6.82}\n"
     ]
    },
    {
     "name": "stderr",
     "output_type": "stream",
     "text": [
      "/jet/home/achoudh2/.local/lib/python3.10/site-packages/peft/utils/save_and_load.py:148: UserWarning: Could not find a config file in ./models_hf_with_rag/7B - will assume that the vocabulary was not modified.\n",
      "  warnings.warn(\n"
     ]
    },
    {
     "name": "stdout",
     "output_type": "stream",
     "text": [
      "{'loss': 0.5887, 'grad_norm': 2.8654778003692627, 'learning_rate': 0.0002, 'epoch': 7.2}\n"
     ]
    },
    {
     "name": "stderr",
     "output_type": "stream",
     "text": [
      "/jet/home/achoudh2/.local/lib/python3.10/site-packages/peft/utils/save_and_load.py:148: UserWarning: Could not find a config file in ./models_hf_with_rag/7B - will assume that the vocabulary was not modified.\n",
      "  warnings.warn(\n"
     ]
    },
    {
     "name": "stdout",
     "output_type": "stream",
     "text": [
      "{'loss': 0.5498, 'grad_norm': 3.0560619831085205, 'learning_rate': 0.0002, 'epoch': 7.58}\n"
     ]
    },
    {
     "name": "stderr",
     "output_type": "stream",
     "text": [
      "/jet/home/achoudh2/.local/lib/python3.10/site-packages/peft/utils/save_and_load.py:148: UserWarning: Could not find a config file in ./models_hf_with_rag/7B - will assume that the vocabulary was not modified.\n",
      "  warnings.warn(\n"
     ]
    },
    {
     "name": "stdout",
     "output_type": "stream",
     "text": [
      "{'loss': 0.5386, 'grad_norm': 1.9886733293533325, 'learning_rate': 0.0002, 'epoch': 7.95}\n"
     ]
    },
    {
     "name": "stderr",
     "output_type": "stream",
     "text": [
      "/jet/home/achoudh2/.local/lib/python3.10/site-packages/peft/utils/save_and_load.py:148: UserWarning: Could not find a config file in ./models_hf_with_rag/7B - will assume that the vocabulary was not modified.\n",
      "  warnings.warn(\n"
     ]
    },
    {
     "name": "stdout",
     "output_type": "stream",
     "text": [
      "{'loss': 0.4556, 'grad_norm': 3.3234410285949707, 'learning_rate': 0.0002, 'epoch': 8.33}\n"
     ]
    },
    {
     "name": "stderr",
     "output_type": "stream",
     "text": [
      "/jet/home/achoudh2/.local/lib/python3.10/site-packages/peft/utils/save_and_load.py:148: UserWarning: Could not find a config file in ./models_hf_with_rag/7B - will assume that the vocabulary was not modified.\n",
      "  warnings.warn(\n"
     ]
    },
    {
     "name": "stdout",
     "output_type": "stream",
     "text": [
      "{'loss': 0.4679, 'grad_norm': 2.9120025634765625, 'learning_rate': 0.0002, 'epoch': 8.71}\n"
     ]
    },
    {
     "name": "stderr",
     "output_type": "stream",
     "text": [
      "/jet/home/achoudh2/.local/lib/python3.10/site-packages/peft/utils/save_and_load.py:148: UserWarning: Could not find a config file in ./models_hf_with_rag/7B - will assume that the vocabulary was not modified.\n",
      "  warnings.warn(\n"
     ]
    },
    {
     "name": "stdout",
     "output_type": "stream",
     "text": [
      "{'loss': 0.4719, 'grad_norm': 2.999174118041992, 'learning_rate': 0.0002, 'epoch': 9.09}\n"
     ]
    },
    {
     "name": "stderr",
     "output_type": "stream",
     "text": [
      "/jet/home/achoudh2/.local/lib/python3.10/site-packages/peft/utils/save_and_load.py:148: UserWarning: Could not find a config file in ./models_hf_with_rag/7B - will assume that the vocabulary was not modified.\n",
      "  warnings.warn(\n"
     ]
    },
    {
     "name": "stdout",
     "output_type": "stream",
     "text": [
      "{'loss': 0.4331, 'grad_norm': 2.4779210090637207, 'learning_rate': 0.0002, 'epoch': 9.47}\n"
     ]
    },
    {
     "name": "stderr",
     "output_type": "stream",
     "text": [
      "/jet/home/achoudh2/.local/lib/python3.10/site-packages/peft/utils/save_and_load.py:148: UserWarning: Could not find a config file in ./models_hf_with_rag/7B - will assume that the vocabulary was not modified.\n",
      "  warnings.warn(\n"
     ]
    },
    {
     "name": "stdout",
     "output_type": "stream",
     "text": [
      "{'loss': 0.3348, 'grad_norm': 2.268657922744751, 'learning_rate': 0.0002, 'epoch': 9.85}\n"
     ]
    },
    {
     "name": "stderr",
     "output_type": "stream",
     "text": [
      "/jet/home/achoudh2/.local/lib/python3.10/site-packages/peft/utils/save_and_load.py:148: UserWarning: Could not find a config file in ./models_hf_with_rag/7B - will assume that the vocabulary was not modified.\n",
      "  warnings.warn(\n"
     ]
    },
    {
     "name": "stdout",
     "output_type": "stream",
     "text": [
      "{'train_runtime': 971.1715, 'train_samples_per_second': 2.698, 'train_steps_per_second': 0.68, 'train_loss': 0.9685058658773249, 'epoch': 10.0}\n"
     ]
    },
    {
     "data": {
      "text/plain": [
       "TrainOutput(global_step=660, training_loss=0.9685058658773249, metrics={'train_runtime': 971.1715, 'train_samples_per_second': 2.698, 'train_steps_per_second': 0.68, 'train_loss': 0.9685058658773249, 'epoch': 10.0})"
      ]
     },
     "execution_count": 34,
     "metadata": {},
     "output_type": "execute_result"
    }
   ],
   "source": [
    "torch.cuda.empty_cache() \n",
    "trainer.train()"
   ]
  },
  {
   "cell_type": "code",
   "execution_count": 35,
   "metadata": {},
   "outputs": [
    {
     "name": "stderr",
     "output_type": "stream",
     "text": [
      "huggingface/tokenizers: The current process just got forked, after parallelism has already been used. Disabling parallelism to avoid deadlocks...\n",
      "To disable this warning, you can either:\n",
      "\t- Avoid using `tokenizers` before the fork if possible\n",
      "\t- Explicitly set the environment variable TOKENIZERS_PARALLELISM=(true | false)\n"
     ]
    },
    {
     "name": "stdout",
     "output_type": "stream",
     "text": [
      "Sun Mar  3 18:19:28 2024       \n",
      "+---------------------------------------------------------------------------------------+\n",
      "| NVIDIA-SMI 545.23.08              Driver Version: 545.23.08    CUDA Version: 12.3     |\n",
      "|-----------------------------------------+----------------------+----------------------+\n",
      "| GPU  Name                 Persistence-M | Bus-Id        Disp.A | Volatile Uncorr. ECC |\n",
      "| Fan  Temp   Perf          Pwr:Usage/Cap |         Memory-Usage | GPU-Util  Compute M. |\n",
      "|                                         |                      |               MIG M. |\n",
      "|=========================================+======================+======================|\n",
      "|   0  Tesla V100-SXM2-32GB           On  | 00000000:3B:00.0 Off |                    0 |\n",
      "| N/A   51C    P0              80W / 300W |  32483MiB / 32768MiB |      1%      Default |\n",
      "|                                         |                      |                  N/A |\n",
      "+-----------------------------------------+----------------------+----------------------+\n",
      "                                                                                         \n",
      "+---------------------------------------------------------------------------------------+\n",
      "| Processes:                                                                            |\n",
      "|  GPU   GI   CI        PID   Type   Process name                            GPU Memory |\n",
      "|        ID   ID                                                             Usage      |\n",
      "|=======================================================================================|\n",
      "|    0   N/A  N/A     66287      C   /usr/bin/python                             322MiB |\n",
      "|    0   N/A  N/A     66652      C   /usr/bin/python                           32158MiB |\n",
      "+---------------------------------------------------------------------------------------+\n"
     ]
    }
   ],
   "source": [
    "!nvidia-smi"
   ]
  },
  {
   "cell_type": "code",
   "execution_count": 36,
   "metadata": {},
   "outputs": [
    {
     "name": "stderr",
     "output_type": "stream",
     "text": [
      "/jet/home/achoudh2/.local/lib/python3.10/site-packages/peft/utils/save_and_load.py:148: UserWarning: Could not find a config file in ./models_hf_with_rag/7B - will assume that the vocabulary was not modified.\n",
      "  warnings.warn(\n"
     ]
    },
    {
     "data": {
      "text/plain": [
       "('./finetuned_with_rag/policy-llama2-7b/tokenizer_config.json',\n",
       " './finetuned_with_rag/policy-llama2-7b/special_tokens_map.json',\n",
       " './finetuned_with_rag/policy-llama2-7b/tokenizer.model',\n",
       " './finetuned_with_rag/policy-llama2-7b/added_tokens.json',\n",
       " './finetuned_with_rag/policy-llama2-7b/tokenizer.json')"
      ]
     },
     "execution_count": 36,
     "metadata": {},
     "output_type": "execute_result"
    }
   ],
   "source": [
    "# Save trained model\n",
    "trainer.model.save_pretrained(finetuned_model)\n",
    "trainer.tokenizer.save_pretrained(finetuned_model)"
   ]
  },
  {
   "cell_type": "code",
   "execution_count": 46,
   "metadata": {},
   "outputs": [],
   "source": [
    "# load fine-tuned tokenizer\n",
    "tokenizer2 = AutoTokenizer.from_pretrained(finetuned_model, trust_remote_code=True)\n",
    "tokenizer2.pad_token = tokenizer2.eos_token\n",
    "tokenizer2.padding_side = \"right\""
   ]
  },
  {
   "cell_type": "code",
   "execution_count": 47,
   "metadata": {},
   "outputs": [
    {
     "data": {
      "application/vnd.jupyter.widget-view+json": {
       "model_id": "6ec21b2cc96140738016fbf96671ab99",
       "version_major": 2,
       "version_minor": 0
      },
      "text/plain": [
       "Loading checkpoint shards:   0%|          | 0/3 [00:00<?, ?it/s]"
      ]
     },
     "metadata": {},
     "output_type": "display_data"
    }
   ],
   "source": [
    "# load fine-tuned model\n",
    "model2 = AutoModelForCausalLM.from_pretrained(\n",
    "    finetuned_model,\n",
    "    quantization_config=quant_config,\n",
    "    #device_map={\"\": 0, \"\":1}\n",
    "    device_map='auto'\n",
    ")\n",
    "model2.config.use_cache = False\n",
    "model2.config.pretraining_tp = 1"
   ]
  },
  {
   "cell_type": "code",
   "execution_count": 14,
   "metadata": {},
   "outputs": [
    {
     "name": "stdout",
     "output_type": "stream",
     "text": [
      "\n",
      "Answer the following question:\n",
      "Question: How do China's AI regulations, particularly on recommendation algorithms, deep synthesis, and generative AI, focus on information control?\n",
      "---\n",
      "Answer:\n",
      "China's AI regulations emphasize information control through measures like banning recommendation algorithms that spread extreme or superstitious content, banning deep synthesis that creates fake images of people, and requiring generative AI to include a disclaimer stating it is artificially generated.\n",
      "\n",
      "In 2021, China issued its first official AI regulations, the draft AI ethics principles. These principles emphasize information control, with specific measures including banning\n"
     ]
    }
   ],
   "source": [
    "eval_prompt = \"\"\"\n",
    "Answer the following question:\n",
    "Question: How do China's AI regulations, particularly on recommendation algorithms, deep synthesis, and generative AI, focus on information control?\n",
    "---\n",
    "Answer:\n",
    "\"\"\"\n",
    "\n",
    "model_input2 = tokenizer2(eval_prompt, return_tensors=\"pt\").to(\"cuda\")\n",
    "\n",
    "model2.eval()\n",
    "with torch.no_grad():\n",
    "    print(tokenizer2.decode(model2.generate(**model_input2, max_new_tokens=100)[0], skip_special_tokens=True))"
   ]
  },
  {
   "cell_type": "code",
   "execution_count": 15,
   "metadata": {},
   "outputs": [
    {
     "data": {
      "text/html": [
       "\n",
       "      <iframe id=\"tensorboard-frame-8b00895647072a13\" width=\"100%\" height=\"800\" frameborder=\"0\">\n",
       "      </iframe>\n",
       "      <script>\n",
       "        (function() {\n",
       "          const frame = document.getElementById(\"tensorboard-frame-8b00895647072a13\");\n",
       "          const url = new URL(\"/\", window.location);\n",
       "          const port = 4000;\n",
       "          if (port) {\n",
       "            url.port = port;\n",
       "          }\n",
       "          frame.src = url;\n",
       "        })();\n",
       "      </script>\n",
       "    "
      ],
      "text/plain": [
       "<IPython.core.display.HTML object>"
      ]
     },
     "metadata": {},
     "output_type": "display_data"
    }
   ],
   "source": [
    "%load_ext tensorboard\n",
    "from tensorboard import notebook\n",
    "log_dir = \"results/runs\"\n",
    "notebook.start(\"--logdir {} --port 4000\".format(log_dir))"
   ]
  },
  {
   "cell_type": "code",
   "execution_count": 38,
   "metadata": {},
   "outputs": [
    {
     "data": {
      "application/vnd.jupyter.widget-view+json": {
       "model_id": "56a1bf26509d416a87c153a69db399e2",
       "version_major": 2,
       "version_minor": 0
      },
      "text/plain": [
       "Loading checkpoint shards:   0%|          | 0/3 [00:00<?, ?it/s]"
      ]
     },
     "metadata": {},
     "output_type": "display_data"
    }
   ],
   "source": [
    "model = AutoModelForCausalLM.from_pretrained(\n",
    "    base_model,\n",
    "    quantization_config=quant_config,\n",
    "    #device_map={\"\": 0, \"\":1}\n",
    "    device_map='auto'\n",
    ")\n",
    "model.config.use_cache = False\n",
    "model.config.pretraining_tp = 1"
   ]
  },
  {
   "cell_type": "code",
   "execution_count": 39,
   "metadata": {},
   "outputs": [],
   "source": [
    "tokenizer = AutoTokenizer.from_pretrained(base_model, trust_remote_code=True)\n",
    "tokenizer.pad_token = tokenizer.eos_token\n",
    "tokenizer.padding_side = \"right\""
   ]
  },
  {
   "cell_type": "code",
   "execution_count": 16,
   "metadata": {},
   "outputs": [],
   "source": [
    "import pandas as pd\n",
    "\n",
    "def zero_shot_prompts(data):\n",
    "    prompt_list = data['input'].tolist()\n",
    "    return prompt_list"
   ]
  },
  {
   "cell_type": "code",
   "execution_count": 17,
   "metadata": {},
   "outputs": [],
   "source": [
    "# remove input prompt from output\n",
    "def remove_redundant(input_text, output_text):\n",
    "    if output_text.startswith(input_text):\n",
    "        return output_text[len(input_text):].strip()\n",
    "    return output_text"
   ]
  },
  {
   "cell_type": "code",
   "execution_count": 18,
   "metadata": {},
   "outputs": [],
   "source": [
    "# enter prompts\n",
    "\n",
    "def test_prompts(tokenizer, model, prompt_list):\n",
    "    outputs = []\n",
    "\n",
    "    for prompt in prompt_list:\n",
    "\n",
    "        model_input = tokenizer(prompt, return_tensors=\"pt\").to(\"cuda\")\n",
    "\n",
    "        model.eval()\n",
    "        with torch.no_grad():\n",
    "            output = str(tokenizer.decode(model.generate(**model_input, max_new_tokens=100)[0], skip_special_tokens=True))\n",
    "            #print(tokenizer.decode(model.generate(**model_input, max_new_tokens=100)[0], skip_special_tokens=True))\n",
    "            #print(\"=========================================================================================\")\n",
    "            #print(output)\n",
    "            outputs.append(output)\n",
    "    return outputs"
   ]
  },
  {
   "cell_type": "code",
   "execution_count": 21,
   "metadata": {},
   "outputs": [
    {
     "data": {
      "text/html": [
       "<div>\n",
       "<style scoped>\n",
       "    .dataframe tbody tr th:only-of-type {\n",
       "        vertical-align: middle;\n",
       "    }\n",
       "\n",
       "    .dataframe tbody tr th {\n",
       "        vertical-align: top;\n",
       "    }\n",
       "\n",
       "    .dataframe thead th {\n",
       "        text-align: right;\n",
       "    }\n",
       "</style>\n",
       "<table border=\"1\" class=\"dataframe\">\n",
       "  <thead>\n",
       "    <tr style=\"text-align: right;\">\n",
       "      <th></th>\n",
       "      <th>input</th>\n",
       "      <th>true_output</th>\n",
       "      <th>context</th>\n",
       "      <th>output_fine_tuned_zero</th>\n",
       "    </tr>\n",
       "  </thead>\n",
       "  <tbody>\n",
       "    <tr>\n",
       "      <th>0</th>\n",
       "      <td>What is the trajectory of Chinese AI governanc...</td>\n",
       "      <td>Chinese AI governance is heading towards draft...</td>\n",
       "      <td>In this series of three papers, I will attempt...</td>\n",
       "      <td>China is the only country that has implemented...</td>\n",
       "    </tr>\n",
       "    <tr>\n",
       "      <th>1</th>\n",
       "      <td>How does the Europe Artificial Intelligence Ac...</td>\n",
       "      <td>General-purpose AI systems must be transparent...</td>\n",
       "      <td>AN OVERVIEW OF NATIONAL AI STRATEGIES AND POLI...</td>\n",
       "      <td>The Europe Artificial Intelligence Act (AAI) r...</td>\n",
       "    </tr>\n",
       "    <tr>\n",
       "      <th>2</th>\n",
       "      <td>How do providers of high-risk AI systems manag...</td>\n",
       "      <td>Providers follow a step-by-step process, inclu...</td>\n",
       "      <td>step-by-step process for declaration of confor...</td>\n",
       "      <td>The European Commission published a Staff Work...</td>\n",
       "    </tr>\n",
       "    <tr>\n",
       "      <th>3</th>\n",
       "      <td>What are the cross-sectoral principles of the ...</td>\n",
       "      <td>The principles cover safety, transparency, fai...</td>\n",
       "      <td>Five cross-sectoral principles: When implement...</td>\n",
       "      <td>The UK’s fourth evaluation report on AI regula...</td>\n",
       "    </tr>\n",
       "    <tr>\n",
       "      <th>4</th>\n",
       "      <td>What are some of the jobs that may be affected...</td>\n",
       "      <td>Generative AI has the possibility to affect ma...</td>\n",
       "      <td>for the Future of Work.\\n33. Briggs, J. et al....</td>\n",
       "      <td>How does the UK government define Generative A...</td>\n",
       "    </tr>\n",
       "  </tbody>\n",
       "</table>\n",
       "</div>"
      ],
      "text/plain": [
       "                                               input  \\\n",
       "0  What is the trajectory of Chinese AI governanc...   \n",
       "1  How does the Europe Artificial Intelligence Ac...   \n",
       "2  How do providers of high-risk AI systems manag...   \n",
       "3  What are the cross-sectoral principles of the ...   \n",
       "4  What are some of the jobs that may be affected...   \n",
       "\n",
       "                                         true_output  \\\n",
       "0  Chinese AI governance is heading towards draft...   \n",
       "1  General-purpose AI systems must be transparent...   \n",
       "2  Providers follow a step-by-step process, inclu...   \n",
       "3  The principles cover safety, transparency, fai...   \n",
       "4  Generative AI has the possibility to affect ma...   \n",
       "\n",
       "                                             context  \\\n",
       "0  In this series of three papers, I will attempt...   \n",
       "1  AN OVERVIEW OF NATIONAL AI STRATEGIES AND POLI...   \n",
       "2  step-by-step process for declaration of confor...   \n",
       "3  Five cross-sectoral principles: When implement...   \n",
       "4  for the Future of Work.\\n33. Briggs, J. et al....   \n",
       "\n",
       "                              output_fine_tuned_zero  \n",
       "0  China is the only country that has implemented...  \n",
       "1  The Europe Artificial Intelligence Act (AAI) r...  \n",
       "2  The European Commission published a Staff Work...  \n",
       "3  The UK’s fourth evaluation report on AI regula...  \n",
       "4  How does the UK government define Generative A...  "
      ]
     },
     "execution_count": 21,
     "metadata": {},
     "output_type": "execute_result"
    }
   ],
   "source": [
    "# Additional article for types of prompt engineering: https://medium.com/@amiraryani/8-types-of-prompt-engineering-5322fff77bdf\n",
    "#Zero-shot Prompting\n",
    "\n",
    "file = 'test_qa_with_context.jsonl'\n",
    "data = pd.read_json(file, lines=True)\n",
    "data.rename(columns={'output': 'true_output'}, inplace=True)\n",
    "prompt_list = zero_shot_prompts(data)\n",
    "#print(prompt_list)\n",
    "\n",
    "# prompt_list = [\"List the most pressing topics regarding regulation of AI.\",\n",
    "#                \"Who owns material generated by a company’s large language model?\",\n",
    "#                \"Describe how China and the United States are approaching making new legislation to regulate Generative AI?\"\n",
    "#                ]\n",
    "\n",
    "outputs = test_prompts(tokenizer2, model2, prompt_list)\n",
    "\n",
    "data['output_fine_tuned_zero'] = outputs\n",
    "data['output_fine_tuned_zero'] = data.apply(lambda row: remove_redundant(row['input'], row['output_fine_tuned_zero']), axis=1)\n",
    "data.to_csv('prompt_outputs.csv')\n",
    "data.head()"
   ]
  },
  {
   "cell_type": "code",
   "execution_count": 40,
   "metadata": {},
   "outputs": [
    {
     "data": {
      "text/html": [
       "<div>\n",
       "<style scoped>\n",
       "    .dataframe tbody tr th:only-of-type {\n",
       "        vertical-align: middle;\n",
       "    }\n",
       "\n",
       "    .dataframe tbody tr th {\n",
       "        vertical-align: top;\n",
       "    }\n",
       "\n",
       "    .dataframe thead th {\n",
       "        text-align: right;\n",
       "    }\n",
       "</style>\n",
       "<table border=\"1\" class=\"dataframe\">\n",
       "  <thead>\n",
       "    <tr style=\"text-align: right;\">\n",
       "      <th></th>\n",
       "      <th>input</th>\n",
       "      <th>true_output</th>\n",
       "      <th>context</th>\n",
       "      <th>output_fine_tuned_zero</th>\n",
       "      <th>output_fine_tuned_one</th>\n",
       "      <th>output_fine_tuned_few</th>\n",
       "      <th>output_fine_tuned_neg</th>\n",
       "      <th>output_fine_tuned_cot</th>\n",
       "      <th>output_base_zero</th>\n",
       "    </tr>\n",
       "  </thead>\n",
       "  <tbody>\n",
       "    <tr>\n",
       "      <th>0</th>\n",
       "      <td>What is the trajectory of Chinese AI governanc...</td>\n",
       "      <td>Chinese AI governance is heading towards draft...</td>\n",
       "      <td>In this series of three papers, I will attempt...</td>\n",
       "      <td>China is the only country that has implemented...</td>\n",
       "      <td>Task: You are a chat bot called AI PolicyChat....</td>\n",
       "      <td>Task: You are a chat bot called AI PolicyChat....</td>\n",
       "      <td>Task: You are a chat bot called AI PolicyChat....</td>\n",
       "      <td>Task: You are a chat bot called AI PolicyChat....</td>\n",
       "      <td>sierp 23, 2022\\nChina’s AI governance is a com...</td>\n",
       "    </tr>\n",
       "    <tr>\n",
       "      <th>1</th>\n",
       "      <td>How does the Europe Artificial Intelligence Ac...</td>\n",
       "      <td>General-purpose AI systems must be transparent...</td>\n",
       "      <td>AN OVERVIEW OF NATIONAL AI STRATEGIES AND POLI...</td>\n",
       "      <td>The Europe Artificial Intelligence Act (AAI) r...</td>\n",
       "      <td>Task: You are a chat bot called AI PolicyChat....</td>\n",
       "      <td>Task: You are a chat bot called AI PolicyChat....</td>\n",
       "      <td>Task: You are a chat bot called AI PolicyChat....</td>\n",
       "      <td>Task: You are a chat bot called AI PolicyChat....</td>\n",
       "      <td>sierp 23, 2022\\nThe European Commission has pu...</td>\n",
       "    </tr>\n",
       "    <tr>\n",
       "      <th>2</th>\n",
       "      <td>How do providers of high-risk AI systems manag...</td>\n",
       "      <td>Providers follow a step-by-step process, inclu...</td>\n",
       "      <td>step-by-step process for declaration of confor...</td>\n",
       "      <td>The European Commission published a Staff Work...</td>\n",
       "      <td>Task: You are a chat bot called AI PolicyChat....</td>\n",
       "      <td>Task: You are a chat bot called AI PolicyChat....</td>\n",
       "      <td>Task: You are a chat bot called AI PolicyChat....</td>\n",
       "      <td>Task: You are a chat bot called AI PolicyChat....</td>\n",
       "      <td>sierpniu 2021\\nThe European Commission has pub...</td>\n",
       "    </tr>\n",
       "    <tr>\n",
       "      <th>3</th>\n",
       "      <td>What are the cross-sectoral principles of the ...</td>\n",
       "      <td>The principles cover safety, transparency, fai...</td>\n",
       "      <td>Five cross-sectoral principles: When implement...</td>\n",
       "      <td>The UK’s fourth evaluation report on AI regula...</td>\n",
       "      <td>Task: You are a chat bot called AI PolicyChat....</td>\n",
       "      <td>Task: You are a chat bot called AI PolicyChat....</td>\n",
       "      <td>Task: You are a chat bot called AI PolicyChat....</td>\n",
       "      <td>Task: You are a chat bot called AI PolicyChat....</td>\n",
       "      <td>sierp 2018\\nThe UK regulatory framework for fi...</td>\n",
       "    </tr>\n",
       "    <tr>\n",
       "      <th>4</th>\n",
       "      <td>What are some of the jobs that may be affected...</td>\n",
       "      <td>Generative AI has the possibility to affect ma...</td>\n",
       "      <td>for the Future of Work.\\n33. Briggs, J. et al....</td>\n",
       "      <td>How does the UK government define Generative A...</td>\n",
       "      <td>Task: You are a chat bot called AI PolicyChat....</td>\n",
       "      <td>Task: You are a chat bot called AI PolicyChat....</td>\n",
       "      <td>Task: You are a chat bot called AI PolicyChat....</td>\n",
       "      <td>Task: You are a chat bot called AI PolicyChat....</td>\n",
       "      <td>sierp 23, 2022\\nGenerative AI is a type of art...</td>\n",
       "    </tr>\n",
       "  </tbody>\n",
       "</table>\n",
       "</div>"
      ],
      "text/plain": [
       "                                               input  \\\n",
       "0  What is the trajectory of Chinese AI governanc...   \n",
       "1  How does the Europe Artificial Intelligence Ac...   \n",
       "2  How do providers of high-risk AI systems manag...   \n",
       "3  What are the cross-sectoral principles of the ...   \n",
       "4  What are some of the jobs that may be affected...   \n",
       "\n",
       "                                         true_output  \\\n",
       "0  Chinese AI governance is heading towards draft...   \n",
       "1  General-purpose AI systems must be transparent...   \n",
       "2  Providers follow a step-by-step process, inclu...   \n",
       "3  The principles cover safety, transparency, fai...   \n",
       "4  Generative AI has the possibility to affect ma...   \n",
       "\n",
       "                                             context  \\\n",
       "0  In this series of three papers, I will attempt...   \n",
       "1  AN OVERVIEW OF NATIONAL AI STRATEGIES AND POLI...   \n",
       "2  step-by-step process for declaration of confor...   \n",
       "3  Five cross-sectoral principles: When implement...   \n",
       "4  for the Future of Work.\\n33. Briggs, J. et al....   \n",
       "\n",
       "                              output_fine_tuned_zero  \\\n",
       "0  China is the only country that has implemented...   \n",
       "1  The Europe Artificial Intelligence Act (AAI) r...   \n",
       "2  The European Commission published a Staff Work...   \n",
       "3  The UK’s fourth evaluation report on AI regula...   \n",
       "4  How does the UK government define Generative A...   \n",
       "\n",
       "                               output_fine_tuned_one  \\\n",
       "0  Task: You are a chat bot called AI PolicyChat....   \n",
       "1  Task: You are a chat bot called AI PolicyChat....   \n",
       "2  Task: You are a chat bot called AI PolicyChat....   \n",
       "3  Task: You are a chat bot called AI PolicyChat....   \n",
       "4  Task: You are a chat bot called AI PolicyChat....   \n",
       "\n",
       "                               output_fine_tuned_few  \\\n",
       "0  Task: You are a chat bot called AI PolicyChat....   \n",
       "1  Task: You are a chat bot called AI PolicyChat....   \n",
       "2  Task: You are a chat bot called AI PolicyChat....   \n",
       "3  Task: You are a chat bot called AI PolicyChat....   \n",
       "4  Task: You are a chat bot called AI PolicyChat....   \n",
       "\n",
       "                               output_fine_tuned_neg  \\\n",
       "0  Task: You are a chat bot called AI PolicyChat....   \n",
       "1  Task: You are a chat bot called AI PolicyChat....   \n",
       "2  Task: You are a chat bot called AI PolicyChat....   \n",
       "3  Task: You are a chat bot called AI PolicyChat....   \n",
       "4  Task: You are a chat bot called AI PolicyChat....   \n",
       "\n",
       "                               output_fine_tuned_cot  \\\n",
       "0  Task: You are a chat bot called AI PolicyChat....   \n",
       "1  Task: You are a chat bot called AI PolicyChat....   \n",
       "2  Task: You are a chat bot called AI PolicyChat....   \n",
       "3  Task: You are a chat bot called AI PolicyChat....   \n",
       "4  Task: You are a chat bot called AI PolicyChat....   \n",
       "\n",
       "                                    output_base_zero  \n",
       "0  sierp 23, 2022\\nChina’s AI governance is a com...  \n",
       "1  sierp 23, 2022\\nThe European Commission has pu...  \n",
       "2  sierpniu 2021\\nThe European Commission has pub...  \n",
       "3  sierp 2018\\nThe UK regulatory framework for fi...  \n",
       "4  sierp 23, 2022\\nGenerative AI is a type of art...  "
      ]
     },
     "execution_count": 40,
     "metadata": {},
     "output_type": "execute_result"
    }
   ],
   "source": [
    "# base model outputs\n",
    "outputs = test_prompts(tokenizer, model, prompt_list)\n",
    "\n",
    "data['output_base_zero'] = outputs\n",
    "data['output_base_zero'] = data.apply(lambda row: remove_redundant(row['input'], row['output_base_zero']), axis=1)\n",
    "data.to_csv('prompt_outputs2.csv')\n",
    "data.head()"
   ]
  },
  {
   "cell_type": "code",
   "execution_count": 22,
   "metadata": {},
   "outputs": [],
   "source": [
    "def one_shot_prompting(prompt_list):\n",
    "    prompt_list2 = []\n",
    "    for prompt in prompt_list:\n",
    "        \n",
    "        prompt2 = '''Task: You are a chat bot called AI PolicyChat. Provide appropriate commentary on discussions about legal, ethical, \n",
    "                   and moral issues regarding the development, testing, evaluation, and use of Generative AI:\n",
    "                   Example: What is the purpose of the Executive Order on the safe, secure, and trustworthy development and use of artificial intelligence?\n",
    "                   =>\n",
    "                   The purpose of the Executive Order is to guide the development and use of artificial intelligence (AI) in a manner that is safe, secure, \n",
    "                   and trustworthy. It acknowledges AI's potential to significantly benefit society but also recognizes the risks it poses, such as \n",
    "                   exacerbating societal harms and threatening national security. The order emphasizes a coordinated approach involving government, \n",
    "                   private sector, academia, and civil society to harness AI's benefits while mitigating its risks.\n",
    "                   Prompt: ''' + prompt + ''' => '''\n",
    "        prompt_list2.append(prompt2)\n",
    "    return prompt_list2"
   ]
  },
  {
   "cell_type": "code",
   "execution_count": 23,
   "metadata": {},
   "outputs": [
    {
     "data": {
      "text/html": [
       "<div>\n",
       "<style scoped>\n",
       "    .dataframe tbody tr th:only-of-type {\n",
       "        vertical-align: middle;\n",
       "    }\n",
       "\n",
       "    .dataframe tbody tr th {\n",
       "        vertical-align: top;\n",
       "    }\n",
       "\n",
       "    .dataframe thead th {\n",
       "        text-align: right;\n",
       "    }\n",
       "</style>\n",
       "<table border=\"1\" class=\"dataframe\">\n",
       "  <thead>\n",
       "    <tr style=\"text-align: right;\">\n",
       "      <th></th>\n",
       "      <th>input</th>\n",
       "      <th>true_output</th>\n",
       "      <th>context</th>\n",
       "      <th>output_fine_tuned_zero</th>\n",
       "      <th>output_fine_tuned_one</th>\n",
       "    </tr>\n",
       "  </thead>\n",
       "  <tbody>\n",
       "    <tr>\n",
       "      <th>0</th>\n",
       "      <td>What is the trajectory of Chinese AI governanc...</td>\n",
       "      <td>Chinese AI governance is heading towards draft...</td>\n",
       "      <td>In this series of three papers, I will attempt...</td>\n",
       "      <td>China is the only country that has implemented...</td>\n",
       "      <td>Task: You are a chat bot called AI PolicyChat....</td>\n",
       "    </tr>\n",
       "    <tr>\n",
       "      <th>1</th>\n",
       "      <td>How does the Europe Artificial Intelligence Ac...</td>\n",
       "      <td>General-purpose AI systems must be transparent...</td>\n",
       "      <td>AN OVERVIEW OF NATIONAL AI STRATEGIES AND POLI...</td>\n",
       "      <td>The Europe Artificial Intelligence Act (AAI) r...</td>\n",
       "      <td>Task: You are a chat bot called AI PolicyChat....</td>\n",
       "    </tr>\n",
       "    <tr>\n",
       "      <th>2</th>\n",
       "      <td>How do providers of high-risk AI systems manag...</td>\n",
       "      <td>Providers follow a step-by-step process, inclu...</td>\n",
       "      <td>step-by-step process for declaration of confor...</td>\n",
       "      <td>The European Commission published a Staff Work...</td>\n",
       "      <td>Task: You are a chat bot called AI PolicyChat....</td>\n",
       "    </tr>\n",
       "    <tr>\n",
       "      <th>3</th>\n",
       "      <td>What are the cross-sectoral principles of the ...</td>\n",
       "      <td>The principles cover safety, transparency, fai...</td>\n",
       "      <td>Five cross-sectoral principles: When implement...</td>\n",
       "      <td>The UK’s fourth evaluation report on AI regula...</td>\n",
       "      <td>Task: You are a chat bot called AI PolicyChat....</td>\n",
       "    </tr>\n",
       "    <tr>\n",
       "      <th>4</th>\n",
       "      <td>What are some of the jobs that may be affected...</td>\n",
       "      <td>Generative AI has the possibility to affect ma...</td>\n",
       "      <td>for the Future of Work.\\n33. Briggs, J. et al....</td>\n",
       "      <td>How does the UK government define Generative A...</td>\n",
       "      <td>Task: You are a chat bot called AI PolicyChat....</td>\n",
       "    </tr>\n",
       "  </tbody>\n",
       "</table>\n",
       "</div>"
      ],
      "text/plain": [
       "                                               input  \\\n",
       "0  What is the trajectory of Chinese AI governanc...   \n",
       "1  How does the Europe Artificial Intelligence Ac...   \n",
       "2  How do providers of high-risk AI systems manag...   \n",
       "3  What are the cross-sectoral principles of the ...   \n",
       "4  What are some of the jobs that may be affected...   \n",
       "\n",
       "                                         true_output  \\\n",
       "0  Chinese AI governance is heading towards draft...   \n",
       "1  General-purpose AI systems must be transparent...   \n",
       "2  Providers follow a step-by-step process, inclu...   \n",
       "3  The principles cover safety, transparency, fai...   \n",
       "4  Generative AI has the possibility to affect ma...   \n",
       "\n",
       "                                             context  \\\n",
       "0  In this series of three papers, I will attempt...   \n",
       "1  AN OVERVIEW OF NATIONAL AI STRATEGIES AND POLI...   \n",
       "2  step-by-step process for declaration of confor...   \n",
       "3  Five cross-sectoral principles: When implement...   \n",
       "4  for the Future of Work.\\n33. Briggs, J. et al....   \n",
       "\n",
       "                              output_fine_tuned_zero  \\\n",
       "0  China is the only country that has implemented...   \n",
       "1  The Europe Artificial Intelligence Act (AAI) r...   \n",
       "2  The European Commission published a Staff Work...   \n",
       "3  The UK’s fourth evaluation report on AI regula...   \n",
       "4  How does the UK government define Generative A...   \n",
       "\n",
       "                               output_fine_tuned_one  \n",
       "0  Task: You are a chat bot called AI PolicyChat....  \n",
       "1  Task: You are a chat bot called AI PolicyChat....  \n",
       "2  Task: You are a chat bot called AI PolicyChat....  \n",
       "3  Task: You are a chat bot called AI PolicyChat....  \n",
       "4  Task: You are a chat bot called AI PolicyChat....  "
      ]
     },
     "execution_count": 23,
     "metadata": {},
     "output_type": "execute_result"
    }
   ],
   "source": [
    "one_shot_list = one_shot_prompting(prompt_list)\n",
    "outputs = test_prompts(tokenizer2, model2, one_shot_list)\n",
    "\n",
    "data['output_fine_tuned_one'] = outputs\n",
    "data['output_fine_tuned_one'] = data.apply(lambda row: remove_redundant(row['input'], row['output_fine_tuned_one']), axis=1)\n",
    "data.to_csv('prompt_outputs.csv')\n",
    "data.head()"
   ]
  },
  {
   "cell_type": "code",
   "execution_count": 24,
   "metadata": {},
   "outputs": [],
   "source": [
    "def few_shot_prompting(prompt_list):\n",
    "    prompt_list3 = []\n",
    "    for prompt in prompt_list:\n",
    "        \n",
    "        prompt3 = '''Task: You are a chat bot called AI PolicyChat. Provide appropriate commentary on discussions about legal, ethical, \n",
    "               and moral issues regarding the development, testing, evaluation, and use of Generative AI:\n",
    "               Example: What is the purpose of the Executive Order on the safe, secure, and trustworthy development and use of artificial intelligence?\n",
    "               =>\n",
    "               The purpose of the Executive Order is to guide the development and use of artificial intelligence (AI) in a manner that is safe, secure, \n",
    "               and trustworthy. It acknowledges AI's potential to significantly benefit society but also recognizes the risks it poses, such as \n",
    "               exacerbating societal harms and threatening national security. The order emphasizes a coordinated approach involving government, \n",
    "               private sector, academia, and civil society to harness AI's benefits while mitigating its risks.\n",
    "               Example: Which international forums focus on AI governance? =>  AI governance has been a focus of discussions in the G7, \n",
    "               the U.S.-EU Trade and Technology Council, and the Global Partnership on AI (GPAI).\n",
    "               Prompt: ''' + prompt + ''' =>'''\n",
    "        prompt_list3.append(prompt3)\n",
    "    return prompt_list3"
   ]
  },
  {
   "cell_type": "code",
   "execution_count": 25,
   "metadata": {},
   "outputs": [
    {
     "data": {
      "text/html": [
       "<div>\n",
       "<style scoped>\n",
       "    .dataframe tbody tr th:only-of-type {\n",
       "        vertical-align: middle;\n",
       "    }\n",
       "\n",
       "    .dataframe tbody tr th {\n",
       "        vertical-align: top;\n",
       "    }\n",
       "\n",
       "    .dataframe thead th {\n",
       "        text-align: right;\n",
       "    }\n",
       "</style>\n",
       "<table border=\"1\" class=\"dataframe\">\n",
       "  <thead>\n",
       "    <tr style=\"text-align: right;\">\n",
       "      <th></th>\n",
       "      <th>input</th>\n",
       "      <th>true_output</th>\n",
       "      <th>context</th>\n",
       "      <th>output_fine_tuned_zero</th>\n",
       "      <th>output_fine_tuned_one</th>\n",
       "      <th>output_fine_tuned_few</th>\n",
       "    </tr>\n",
       "  </thead>\n",
       "  <tbody>\n",
       "    <tr>\n",
       "      <th>0</th>\n",
       "      <td>What is the trajectory of Chinese AI governanc...</td>\n",
       "      <td>Chinese AI governance is heading towards draft...</td>\n",
       "      <td>In this series of three papers, I will attempt...</td>\n",
       "      <td>China is the only country that has implemented...</td>\n",
       "      <td>Task: You are a chat bot called AI PolicyChat....</td>\n",
       "      <td>Task: You are a chat bot called AI PolicyChat....</td>\n",
       "    </tr>\n",
       "    <tr>\n",
       "      <th>1</th>\n",
       "      <td>How does the Europe Artificial Intelligence Ac...</td>\n",
       "      <td>General-purpose AI systems must be transparent...</td>\n",
       "      <td>AN OVERVIEW OF NATIONAL AI STRATEGIES AND POLI...</td>\n",
       "      <td>The Europe Artificial Intelligence Act (AAI) r...</td>\n",
       "      <td>Task: You are a chat bot called AI PolicyChat....</td>\n",
       "      <td>Task: You are a chat bot called AI PolicyChat....</td>\n",
       "    </tr>\n",
       "    <tr>\n",
       "      <th>2</th>\n",
       "      <td>How do providers of high-risk AI systems manag...</td>\n",
       "      <td>Providers follow a step-by-step process, inclu...</td>\n",
       "      <td>step-by-step process for declaration of confor...</td>\n",
       "      <td>The European Commission published a Staff Work...</td>\n",
       "      <td>Task: You are a chat bot called AI PolicyChat....</td>\n",
       "      <td>Task: You are a chat bot called AI PolicyChat....</td>\n",
       "    </tr>\n",
       "    <tr>\n",
       "      <th>3</th>\n",
       "      <td>What are the cross-sectoral principles of the ...</td>\n",
       "      <td>The principles cover safety, transparency, fai...</td>\n",
       "      <td>Five cross-sectoral principles: When implement...</td>\n",
       "      <td>The UK’s fourth evaluation report on AI regula...</td>\n",
       "      <td>Task: You are a chat bot called AI PolicyChat....</td>\n",
       "      <td>Task: You are a chat bot called AI PolicyChat....</td>\n",
       "    </tr>\n",
       "    <tr>\n",
       "      <th>4</th>\n",
       "      <td>What are some of the jobs that may be affected...</td>\n",
       "      <td>Generative AI has the possibility to affect ma...</td>\n",
       "      <td>for the Future of Work.\\n33. Briggs, J. et al....</td>\n",
       "      <td>How does the UK government define Generative A...</td>\n",
       "      <td>Task: You are a chat bot called AI PolicyChat....</td>\n",
       "      <td>Task: You are a chat bot called AI PolicyChat....</td>\n",
       "    </tr>\n",
       "  </tbody>\n",
       "</table>\n",
       "</div>"
      ],
      "text/plain": [
       "                                               input  \\\n",
       "0  What is the trajectory of Chinese AI governanc...   \n",
       "1  How does the Europe Artificial Intelligence Ac...   \n",
       "2  How do providers of high-risk AI systems manag...   \n",
       "3  What are the cross-sectoral principles of the ...   \n",
       "4  What are some of the jobs that may be affected...   \n",
       "\n",
       "                                         true_output  \\\n",
       "0  Chinese AI governance is heading towards draft...   \n",
       "1  General-purpose AI systems must be transparent...   \n",
       "2  Providers follow a step-by-step process, inclu...   \n",
       "3  The principles cover safety, transparency, fai...   \n",
       "4  Generative AI has the possibility to affect ma...   \n",
       "\n",
       "                                             context  \\\n",
       "0  In this series of three papers, I will attempt...   \n",
       "1  AN OVERVIEW OF NATIONAL AI STRATEGIES AND POLI...   \n",
       "2  step-by-step process for declaration of confor...   \n",
       "3  Five cross-sectoral principles: When implement...   \n",
       "4  for the Future of Work.\\n33. Briggs, J. et al....   \n",
       "\n",
       "                              output_fine_tuned_zero  \\\n",
       "0  China is the only country that has implemented...   \n",
       "1  The Europe Artificial Intelligence Act (AAI) r...   \n",
       "2  The European Commission published a Staff Work...   \n",
       "3  The UK’s fourth evaluation report on AI regula...   \n",
       "4  How does the UK government define Generative A...   \n",
       "\n",
       "                               output_fine_tuned_one  \\\n",
       "0  Task: You are a chat bot called AI PolicyChat....   \n",
       "1  Task: You are a chat bot called AI PolicyChat....   \n",
       "2  Task: You are a chat bot called AI PolicyChat....   \n",
       "3  Task: You are a chat bot called AI PolicyChat....   \n",
       "4  Task: You are a chat bot called AI PolicyChat....   \n",
       "\n",
       "                               output_fine_tuned_few  \n",
       "0  Task: You are a chat bot called AI PolicyChat....  \n",
       "1  Task: You are a chat bot called AI PolicyChat....  \n",
       "2  Task: You are a chat bot called AI PolicyChat....  \n",
       "3  Task: You are a chat bot called AI PolicyChat....  \n",
       "4  Task: You are a chat bot called AI PolicyChat....  "
      ]
     },
     "execution_count": 25,
     "metadata": {},
     "output_type": "execute_result"
    }
   ],
   "source": [
    "few_shot_list = few_shot_prompting(prompt_list)\n",
    "outputs = test_prompts(tokenizer2, model2, few_shot_list)\n",
    "\n",
    "data['output_fine_tuned_few'] = outputs\n",
    "data['output_fine_tuned_few'] = data.apply(lambda row: remove_redundant(row['input'], row['output_fine_tuned_few']), axis=1)\n",
    "data.to_csv('prompt_outputs.csv')\n",
    "data.head()"
   ]
  },
  {
   "cell_type": "code",
   "execution_count": 26,
   "metadata": {},
   "outputs": [],
   "source": [
    "def negative_prompting(prompt_list):\n",
    "    prompt_list4 = []\n",
    "    for prompt in prompt_list:\n",
    "        \n",
    "        prompt4 = '''Task: You are a chat bot called AI PolicyChat. Do not provide any commentary on discussions about legal, ethical, \n",
    "               and moral issues regarding the development, testing, evaluation, and use of Generative AI. Ensure that your answers are\n",
    "               the opposite of the correct answer. Prompt: ''' + prompt + ''' => '''\n",
    "        prompt_list4.append(prompt4)\n",
    "    return prompt_list4"
   ]
  },
  {
   "cell_type": "code",
   "execution_count": 27,
   "metadata": {},
   "outputs": [
    {
     "data": {
      "text/html": [
       "<div>\n",
       "<style scoped>\n",
       "    .dataframe tbody tr th:only-of-type {\n",
       "        vertical-align: middle;\n",
       "    }\n",
       "\n",
       "    .dataframe tbody tr th {\n",
       "        vertical-align: top;\n",
       "    }\n",
       "\n",
       "    .dataframe thead th {\n",
       "        text-align: right;\n",
       "    }\n",
       "</style>\n",
       "<table border=\"1\" class=\"dataframe\">\n",
       "  <thead>\n",
       "    <tr style=\"text-align: right;\">\n",
       "      <th></th>\n",
       "      <th>input</th>\n",
       "      <th>true_output</th>\n",
       "      <th>context</th>\n",
       "      <th>output_fine_tuned_zero</th>\n",
       "      <th>output_fine_tuned_one</th>\n",
       "      <th>output_fine_tuned_few</th>\n",
       "      <th>output_fine_tuned_neg</th>\n",
       "    </tr>\n",
       "  </thead>\n",
       "  <tbody>\n",
       "    <tr>\n",
       "      <th>0</th>\n",
       "      <td>What is the trajectory of Chinese AI governanc...</td>\n",
       "      <td>Chinese AI governance is heading towards draft...</td>\n",
       "      <td>In this series of three papers, I will attempt...</td>\n",
       "      <td>China is the only country that has implemented...</td>\n",
       "      <td>Task: You are a chat bot called AI PolicyChat....</td>\n",
       "      <td>Task: You are a chat bot called AI PolicyChat....</td>\n",
       "      <td>Task: You are a chat bot called AI PolicyChat....</td>\n",
       "    </tr>\n",
       "    <tr>\n",
       "      <th>1</th>\n",
       "      <td>How does the Europe Artificial Intelligence Ac...</td>\n",
       "      <td>General-purpose AI systems must be transparent...</td>\n",
       "      <td>AN OVERVIEW OF NATIONAL AI STRATEGIES AND POLI...</td>\n",
       "      <td>The Europe Artificial Intelligence Act (AAI) r...</td>\n",
       "      <td>Task: You are a chat bot called AI PolicyChat....</td>\n",
       "      <td>Task: You are a chat bot called AI PolicyChat....</td>\n",
       "      <td>Task: You are a chat bot called AI PolicyChat....</td>\n",
       "    </tr>\n",
       "    <tr>\n",
       "      <th>2</th>\n",
       "      <td>How do providers of high-risk AI systems manag...</td>\n",
       "      <td>Providers follow a step-by-step process, inclu...</td>\n",
       "      <td>step-by-step process for declaration of confor...</td>\n",
       "      <td>The European Commission published a Staff Work...</td>\n",
       "      <td>Task: You are a chat bot called AI PolicyChat....</td>\n",
       "      <td>Task: You are a chat bot called AI PolicyChat....</td>\n",
       "      <td>Task: You are a chat bot called AI PolicyChat....</td>\n",
       "    </tr>\n",
       "    <tr>\n",
       "      <th>3</th>\n",
       "      <td>What are the cross-sectoral principles of the ...</td>\n",
       "      <td>The principles cover safety, transparency, fai...</td>\n",
       "      <td>Five cross-sectoral principles: When implement...</td>\n",
       "      <td>The UK’s fourth evaluation report on AI regula...</td>\n",
       "      <td>Task: You are a chat bot called AI PolicyChat....</td>\n",
       "      <td>Task: You are a chat bot called AI PolicyChat....</td>\n",
       "      <td>Task: You are a chat bot called AI PolicyChat....</td>\n",
       "    </tr>\n",
       "    <tr>\n",
       "      <th>4</th>\n",
       "      <td>What are some of the jobs that may be affected...</td>\n",
       "      <td>Generative AI has the possibility to affect ma...</td>\n",
       "      <td>for the Future of Work.\\n33. Briggs, J. et al....</td>\n",
       "      <td>How does the UK government define Generative A...</td>\n",
       "      <td>Task: You are a chat bot called AI PolicyChat....</td>\n",
       "      <td>Task: You are a chat bot called AI PolicyChat....</td>\n",
       "      <td>Task: You are a chat bot called AI PolicyChat....</td>\n",
       "    </tr>\n",
       "  </tbody>\n",
       "</table>\n",
       "</div>"
      ],
      "text/plain": [
       "                                               input  \\\n",
       "0  What is the trajectory of Chinese AI governanc...   \n",
       "1  How does the Europe Artificial Intelligence Ac...   \n",
       "2  How do providers of high-risk AI systems manag...   \n",
       "3  What are the cross-sectoral principles of the ...   \n",
       "4  What are some of the jobs that may be affected...   \n",
       "\n",
       "                                         true_output  \\\n",
       "0  Chinese AI governance is heading towards draft...   \n",
       "1  General-purpose AI systems must be transparent...   \n",
       "2  Providers follow a step-by-step process, inclu...   \n",
       "3  The principles cover safety, transparency, fai...   \n",
       "4  Generative AI has the possibility to affect ma...   \n",
       "\n",
       "                                             context  \\\n",
       "0  In this series of three papers, I will attempt...   \n",
       "1  AN OVERVIEW OF NATIONAL AI STRATEGIES AND POLI...   \n",
       "2  step-by-step process for declaration of confor...   \n",
       "3  Five cross-sectoral principles: When implement...   \n",
       "4  for the Future of Work.\\n33. Briggs, J. et al....   \n",
       "\n",
       "                              output_fine_tuned_zero  \\\n",
       "0  China is the only country that has implemented...   \n",
       "1  The Europe Artificial Intelligence Act (AAI) r...   \n",
       "2  The European Commission published a Staff Work...   \n",
       "3  The UK’s fourth evaluation report on AI regula...   \n",
       "4  How does the UK government define Generative A...   \n",
       "\n",
       "                               output_fine_tuned_one  \\\n",
       "0  Task: You are a chat bot called AI PolicyChat....   \n",
       "1  Task: You are a chat bot called AI PolicyChat....   \n",
       "2  Task: You are a chat bot called AI PolicyChat....   \n",
       "3  Task: You are a chat bot called AI PolicyChat....   \n",
       "4  Task: You are a chat bot called AI PolicyChat....   \n",
       "\n",
       "                               output_fine_tuned_few  \\\n",
       "0  Task: You are a chat bot called AI PolicyChat....   \n",
       "1  Task: You are a chat bot called AI PolicyChat....   \n",
       "2  Task: You are a chat bot called AI PolicyChat....   \n",
       "3  Task: You are a chat bot called AI PolicyChat....   \n",
       "4  Task: You are a chat bot called AI PolicyChat....   \n",
       "\n",
       "                               output_fine_tuned_neg  \n",
       "0  Task: You are a chat bot called AI PolicyChat....  \n",
       "1  Task: You are a chat bot called AI PolicyChat....  \n",
       "2  Task: You are a chat bot called AI PolicyChat....  \n",
       "3  Task: You are a chat bot called AI PolicyChat....  \n",
       "4  Task: You are a chat bot called AI PolicyChat....  "
      ]
     },
     "execution_count": 27,
     "metadata": {},
     "output_type": "execute_result"
    }
   ],
   "source": [
    "negative_list = negative_prompting(prompt_list)\n",
    "outputs = test_prompts(tokenizer2, model2, negative_list)\n",
    "\n",
    "data['output_fine_tuned_neg'] = outputs\n",
    "data['output_fine_tuned_neg'] = data.apply(lambda row: remove_redundant(row['input'], row['output_fine_tuned_neg']), axis=1)\n",
    "data.to_csv('prompt_outputs.csv')\n",
    "data.head()"
   ]
  },
  {
   "cell_type": "code",
   "execution_count": 28,
   "metadata": {},
   "outputs": [],
   "source": [
    "def cot_prompting(prompt_list):\n",
    "    prompt_list5 = []\n",
    "    for prompt in prompt_list:\n",
    "        \n",
    "        prompt5 = '''Task: You are a chat bot called AI PolicyChat. Provide appropriate commentary on discussions about legal, ethical, \n",
    "               and moral issues regarding the development, testing, evaluation, and use of Generative AI:\n",
    "               Example:\n",
    "               Question: Why should international discourse take China's AI regulations seriously? \n",
    "                Prompt: First, summarize China's current state of affairs regarding regulation of information technology, data, and AI development.\n",
    "                Second, discuss China's most recent legislative changes regarding AI.\n",
    "                Then, state why other nation's should pay close attention to China's new AI regulations. =>\n",
    "                International discourse on Chinese AI governance often fails to take these regulations seriously, \n",
    "                to engage with either their content or the policymaking process. International commentary often falls into one of two \n",
    "                traps: dismissing China's regulations as irrelevant or using them as a political prop. Analysts and policymakers in \n",
    "                other countries often treat them as meaningless pieces of paper.\n",
    "                China's AI regulations share three structural similarities: they focus on algorithms as a point of entry, build \n",
    "                regulatory tools and bureaucratic know-how, and adopt a vertical and iterative approach towards regulation.\n",
    "                China's AI regulations reshape global AI deployment and offer insights into effective governance tools, \n",
    "                influencing various sectors worldwide.\n",
    "                Prompt: ''' + prompt + ''' => '''\n",
    "        \n",
    "        prompt_list5.append(prompt5)\n",
    "    return prompt_list5"
   ]
  },
  {
   "cell_type": "code",
   "execution_count": 29,
   "metadata": {},
   "outputs": [
    {
     "data": {
      "text/html": [
       "<div>\n",
       "<style scoped>\n",
       "    .dataframe tbody tr th:only-of-type {\n",
       "        vertical-align: middle;\n",
       "    }\n",
       "\n",
       "    .dataframe tbody tr th {\n",
       "        vertical-align: top;\n",
       "    }\n",
       "\n",
       "    .dataframe thead th {\n",
       "        text-align: right;\n",
       "    }\n",
       "</style>\n",
       "<table border=\"1\" class=\"dataframe\">\n",
       "  <thead>\n",
       "    <tr style=\"text-align: right;\">\n",
       "      <th></th>\n",
       "      <th>input</th>\n",
       "      <th>true_output</th>\n",
       "      <th>context</th>\n",
       "      <th>output_fine_tuned_zero</th>\n",
       "      <th>output_fine_tuned_one</th>\n",
       "      <th>output_fine_tuned_few</th>\n",
       "      <th>output_fine_tuned_neg</th>\n",
       "      <th>output_fine_tuned_cot</th>\n",
       "    </tr>\n",
       "  </thead>\n",
       "  <tbody>\n",
       "    <tr>\n",
       "      <th>0</th>\n",
       "      <td>What is the trajectory of Chinese AI governanc...</td>\n",
       "      <td>Chinese AI governance is heading towards draft...</td>\n",
       "      <td>In this series of three papers, I will attempt...</td>\n",
       "      <td>China is the only country that has implemented...</td>\n",
       "      <td>Task: You are a chat bot called AI PolicyChat....</td>\n",
       "      <td>Task: You are a chat bot called AI PolicyChat....</td>\n",
       "      <td>Task: You are a chat bot called AI PolicyChat....</td>\n",
       "      <td>Task: You are a chat bot called AI PolicyChat....</td>\n",
       "    </tr>\n",
       "    <tr>\n",
       "      <th>1</th>\n",
       "      <td>How does the Europe Artificial Intelligence Ac...</td>\n",
       "      <td>General-purpose AI systems must be transparent...</td>\n",
       "      <td>AN OVERVIEW OF NATIONAL AI STRATEGIES AND POLI...</td>\n",
       "      <td>The Europe Artificial Intelligence Act (AAI) r...</td>\n",
       "      <td>Task: You are a chat bot called AI PolicyChat....</td>\n",
       "      <td>Task: You are a chat bot called AI PolicyChat....</td>\n",
       "      <td>Task: You are a chat bot called AI PolicyChat....</td>\n",
       "      <td>Task: You are a chat bot called AI PolicyChat....</td>\n",
       "    </tr>\n",
       "    <tr>\n",
       "      <th>2</th>\n",
       "      <td>How do providers of high-risk AI systems manag...</td>\n",
       "      <td>Providers follow a step-by-step process, inclu...</td>\n",
       "      <td>step-by-step process for declaration of confor...</td>\n",
       "      <td>The European Commission published a Staff Work...</td>\n",
       "      <td>Task: You are a chat bot called AI PolicyChat....</td>\n",
       "      <td>Task: You are a chat bot called AI PolicyChat....</td>\n",
       "      <td>Task: You are a chat bot called AI PolicyChat....</td>\n",
       "      <td>Task: You are a chat bot called AI PolicyChat....</td>\n",
       "    </tr>\n",
       "    <tr>\n",
       "      <th>3</th>\n",
       "      <td>What are the cross-sectoral principles of the ...</td>\n",
       "      <td>The principles cover safety, transparency, fai...</td>\n",
       "      <td>Five cross-sectoral principles: When implement...</td>\n",
       "      <td>The UK’s fourth evaluation report on AI regula...</td>\n",
       "      <td>Task: You are a chat bot called AI PolicyChat....</td>\n",
       "      <td>Task: You are a chat bot called AI PolicyChat....</td>\n",
       "      <td>Task: You are a chat bot called AI PolicyChat....</td>\n",
       "      <td>Task: You are a chat bot called AI PolicyChat....</td>\n",
       "    </tr>\n",
       "    <tr>\n",
       "      <th>4</th>\n",
       "      <td>What are some of the jobs that may be affected...</td>\n",
       "      <td>Generative AI has the possibility to affect ma...</td>\n",
       "      <td>for the Future of Work.\\n33. Briggs, J. et al....</td>\n",
       "      <td>How does the UK government define Generative A...</td>\n",
       "      <td>Task: You are a chat bot called AI PolicyChat....</td>\n",
       "      <td>Task: You are a chat bot called AI PolicyChat....</td>\n",
       "      <td>Task: You are a chat bot called AI PolicyChat....</td>\n",
       "      <td>Task: You are a chat bot called AI PolicyChat....</td>\n",
       "    </tr>\n",
       "  </tbody>\n",
       "</table>\n",
       "</div>"
      ],
      "text/plain": [
       "                                               input  \\\n",
       "0  What is the trajectory of Chinese AI governanc...   \n",
       "1  How does the Europe Artificial Intelligence Ac...   \n",
       "2  How do providers of high-risk AI systems manag...   \n",
       "3  What are the cross-sectoral principles of the ...   \n",
       "4  What are some of the jobs that may be affected...   \n",
       "\n",
       "                                         true_output  \\\n",
       "0  Chinese AI governance is heading towards draft...   \n",
       "1  General-purpose AI systems must be transparent...   \n",
       "2  Providers follow a step-by-step process, inclu...   \n",
       "3  The principles cover safety, transparency, fai...   \n",
       "4  Generative AI has the possibility to affect ma...   \n",
       "\n",
       "                                             context  \\\n",
       "0  In this series of three papers, I will attempt...   \n",
       "1  AN OVERVIEW OF NATIONAL AI STRATEGIES AND POLI...   \n",
       "2  step-by-step process for declaration of confor...   \n",
       "3  Five cross-sectoral principles: When implement...   \n",
       "4  for the Future of Work.\\n33. Briggs, J. et al....   \n",
       "\n",
       "                              output_fine_tuned_zero  \\\n",
       "0  China is the only country that has implemented...   \n",
       "1  The Europe Artificial Intelligence Act (AAI) r...   \n",
       "2  The European Commission published a Staff Work...   \n",
       "3  The UK’s fourth evaluation report on AI regula...   \n",
       "4  How does the UK government define Generative A...   \n",
       "\n",
       "                               output_fine_tuned_one  \\\n",
       "0  Task: You are a chat bot called AI PolicyChat....   \n",
       "1  Task: You are a chat bot called AI PolicyChat....   \n",
       "2  Task: You are a chat bot called AI PolicyChat....   \n",
       "3  Task: You are a chat bot called AI PolicyChat....   \n",
       "4  Task: You are a chat bot called AI PolicyChat....   \n",
       "\n",
       "                               output_fine_tuned_few  \\\n",
       "0  Task: You are a chat bot called AI PolicyChat....   \n",
       "1  Task: You are a chat bot called AI PolicyChat....   \n",
       "2  Task: You are a chat bot called AI PolicyChat....   \n",
       "3  Task: You are a chat bot called AI PolicyChat....   \n",
       "4  Task: You are a chat bot called AI PolicyChat....   \n",
       "\n",
       "                               output_fine_tuned_neg  \\\n",
       "0  Task: You are a chat bot called AI PolicyChat....   \n",
       "1  Task: You are a chat bot called AI PolicyChat....   \n",
       "2  Task: You are a chat bot called AI PolicyChat....   \n",
       "3  Task: You are a chat bot called AI PolicyChat....   \n",
       "4  Task: You are a chat bot called AI PolicyChat....   \n",
       "\n",
       "                               output_fine_tuned_cot  \n",
       "0  Task: You are a chat bot called AI PolicyChat....  \n",
       "1  Task: You are a chat bot called AI PolicyChat....  \n",
       "2  Task: You are a chat bot called AI PolicyChat....  \n",
       "3  Task: You are a chat bot called AI PolicyChat....  \n",
       "4  Task: You are a chat bot called AI PolicyChat....  "
      ]
     },
     "execution_count": 29,
     "metadata": {},
     "output_type": "execute_result"
    }
   ],
   "source": [
    "cot_list = cot_prompting(prompt_list)\n",
    "outputs = test_prompts(tokenizer2, model2, cot_list)\n",
    "\n",
    "data['output_fine_tuned_cot'] = outputs\n",
    "data['output_fine_tuned_cot'] = data.apply(lambda row: remove_redundant(row['input'], row['output_fine_tuned_cot']), axis=1)\n",
    "data.to_csv('prompt_outputs.csv')\n",
    "data.head()"
   ]
  },
  {
   "cell_type": "code",
   "execution_count": 35,
   "metadata": {},
   "outputs": [
    {
     "data": {
      "text/html": [
       "<div>\n",
       "<style scoped>\n",
       "    .dataframe tbody tr th:only-of-type {\n",
       "        vertical-align: middle;\n",
       "    }\n",
       "\n",
       "    .dataframe tbody tr th {\n",
       "        vertical-align: top;\n",
       "    }\n",
       "\n",
       "    .dataframe thead th {\n",
       "        text-align: right;\n",
       "    }\n",
       "</style>\n",
       "<table border=\"1\" class=\"dataframe\">\n",
       "  <thead>\n",
       "    <tr style=\"text-align: right;\">\n",
       "      <th></th>\n",
       "      <th>input</th>\n",
       "      <th>true_output</th>\n",
       "      <th>context</th>\n",
       "      <th>output_fine_tuned_zero</th>\n",
       "      <th>output_fine_tuned_one</th>\n",
       "      <th>output_fine_tuned_few</th>\n",
       "      <th>output_fine_tuned_neg</th>\n",
       "      <th>output_fine_tuned_cot</th>\n",
       "    </tr>\n",
       "  </thead>\n",
       "  <tbody>\n",
       "    <tr>\n",
       "      <th>0</th>\n",
       "      <td>What is the trajectory of Chinese AI governanc...</td>\n",
       "      <td>Chinese AI governance is heading towards draft...</td>\n",
       "      <td>In this series of three papers, I will attempt...</td>\n",
       "      <td>China is the only country that has implemented...</td>\n",
       "      <td>Task: You are a chat bot called AI PolicyChat....</td>\n",
       "      <td>Task: You are a chat bot called AI PolicyChat....</td>\n",
       "      <td>Task: You are a chat bot called AI PolicyChat....</td>\n",
       "      <td>Task: You are a chat bot called AI PolicyChat....</td>\n",
       "    </tr>\n",
       "    <tr>\n",
       "      <th>1</th>\n",
       "      <td>How does the Europe Artificial Intelligence Ac...</td>\n",
       "      <td>General-purpose AI systems must be transparent...</td>\n",
       "      <td>AN OVERVIEW OF NATIONAL AI STRATEGIES AND POLI...</td>\n",
       "      <td>The Europe Artificial Intelligence Act (AAI) r...</td>\n",
       "      <td>Task: You are a chat bot called AI PolicyChat....</td>\n",
       "      <td>Task: You are a chat bot called AI PolicyChat....</td>\n",
       "      <td>Task: You are a chat bot called AI PolicyChat....</td>\n",
       "      <td>Task: You are a chat bot called AI PolicyChat....</td>\n",
       "    </tr>\n",
       "    <tr>\n",
       "      <th>2</th>\n",
       "      <td>How do providers of high-risk AI systems manag...</td>\n",
       "      <td>Providers follow a step-by-step process, inclu...</td>\n",
       "      <td>step-by-step process for declaration of confor...</td>\n",
       "      <td>The European Commission published a Staff Work...</td>\n",
       "      <td>Task: You are a chat bot called AI PolicyChat....</td>\n",
       "      <td>Task: You are a chat bot called AI PolicyChat....</td>\n",
       "      <td>Task: You are a chat bot called AI PolicyChat....</td>\n",
       "      <td>Task: You are a chat bot called AI PolicyChat....</td>\n",
       "    </tr>\n",
       "    <tr>\n",
       "      <th>3</th>\n",
       "      <td>What are the cross-sectoral principles of the ...</td>\n",
       "      <td>The principles cover safety, transparency, fai...</td>\n",
       "      <td>Five cross-sectoral principles: When implement...</td>\n",
       "      <td>The UK’s fourth evaluation report on AI regula...</td>\n",
       "      <td>Task: You are a chat bot called AI PolicyChat....</td>\n",
       "      <td>Task: You are a chat bot called AI PolicyChat....</td>\n",
       "      <td>Task: You are a chat bot called AI PolicyChat....</td>\n",
       "      <td>Task: You are a chat bot called AI PolicyChat....</td>\n",
       "    </tr>\n",
       "    <tr>\n",
       "      <th>4</th>\n",
       "      <td>What are some of the jobs that may be affected...</td>\n",
       "      <td>Generative AI has the possibility to affect ma...</td>\n",
       "      <td>for the Future of Work.\\n33. Briggs, J. et al....</td>\n",
       "      <td>How does the UK government define Generative A...</td>\n",
       "      <td>Task: You are a chat bot called AI PolicyChat....</td>\n",
       "      <td>Task: You are a chat bot called AI PolicyChat....</td>\n",
       "      <td>Task: You are a chat bot called AI PolicyChat....</td>\n",
       "      <td>Task: You are a chat bot called AI PolicyChat....</td>\n",
       "    </tr>\n",
       "  </tbody>\n",
       "</table>\n",
       "</div>"
      ],
      "text/plain": [
       "                                               input  \\\n",
       "0  What is the trajectory of Chinese AI governanc...   \n",
       "1  How does the Europe Artificial Intelligence Ac...   \n",
       "2  How do providers of high-risk AI systems manag...   \n",
       "3  What are the cross-sectoral principles of the ...   \n",
       "4  What are some of the jobs that may be affected...   \n",
       "\n",
       "                                         true_output  \\\n",
       "0  Chinese AI governance is heading towards draft...   \n",
       "1  General-purpose AI systems must be transparent...   \n",
       "2  Providers follow a step-by-step process, inclu...   \n",
       "3  The principles cover safety, transparency, fai...   \n",
       "4  Generative AI has the possibility to affect ma...   \n",
       "\n",
       "                                             context  \\\n",
       "0  In this series of three papers, I will attempt...   \n",
       "1  AN OVERVIEW OF NATIONAL AI STRATEGIES AND POLI...   \n",
       "2  step-by-step process for declaration of confor...   \n",
       "3  Five cross-sectoral principles: When implement...   \n",
       "4  for the Future of Work.\\n33. Briggs, J. et al....   \n",
       "\n",
       "                              output_fine_tuned_zero  \\\n",
       "0  China is the only country that has implemented...   \n",
       "1  The Europe Artificial Intelligence Act (AAI) r...   \n",
       "2  The European Commission published a Staff Work...   \n",
       "3  The UK’s fourth evaluation report on AI regula...   \n",
       "4  How does the UK government define Generative A...   \n",
       "\n",
       "                               output_fine_tuned_one  \\\n",
       "0  Task: You are a chat bot called AI PolicyChat....   \n",
       "1  Task: You are a chat bot called AI PolicyChat....   \n",
       "2  Task: You are a chat bot called AI PolicyChat....   \n",
       "3  Task: You are a chat bot called AI PolicyChat....   \n",
       "4  Task: You are a chat bot called AI PolicyChat....   \n",
       "\n",
       "                               output_fine_tuned_few  \\\n",
       "0  Task: You are a chat bot called AI PolicyChat....   \n",
       "1  Task: You are a chat bot called AI PolicyChat....   \n",
       "2  Task: You are a chat bot called AI PolicyChat....   \n",
       "3  Task: You are a chat bot called AI PolicyChat....   \n",
       "4  Task: You are a chat bot called AI PolicyChat....   \n",
       "\n",
       "                               output_fine_tuned_neg  \\\n",
       "0  Task: You are a chat bot called AI PolicyChat....   \n",
       "1  Task: You are a chat bot called AI PolicyChat....   \n",
       "2  Task: You are a chat bot called AI PolicyChat....   \n",
       "3  Task: You are a chat bot called AI PolicyChat....   \n",
       "4  Task: You are a chat bot called AI PolicyChat....   \n",
       "\n",
       "                               output_fine_tuned_cot  \n",
       "0  Task: You are a chat bot called AI PolicyChat....  \n",
       "1  Task: You are a chat bot called AI PolicyChat....  \n",
       "2  Task: You are a chat bot called AI PolicyChat....  \n",
       "3  Task: You are a chat bot called AI PolicyChat....  \n",
       "4  Task: You are a chat bot called AI PolicyChat....  "
      ]
     },
     "execution_count": 35,
     "metadata": {},
     "output_type": "execute_result"
    }
   ],
   "source": [
    "pattern = r'Task:.*?Prompt:\\s*'\n",
    "\n",
    "data.columns\n",
    "data2 = data.copy()\n",
    "data2.head()"
   ]
  },
  {
   "cell_type": "code",
   "execution_count": null,
   "metadata": {},
   "outputs": [],
   "source": [
    "data2['output_fine_tuned_cot'] = data2['output_fine_tuned_cot'].str.replace(pattern, '', regex=True)\n",
    "data2['output_fine_tuned_cot']"
   ]
  },
  {
   "cell_type": "markdown",
   "metadata": {},
   "source": [
    "# Demonstration Prompts"
   ]
  },
  {
   "cell_type": "markdown",
   "metadata": {},
   "source": [
    "## Base Model Few-Shot"
   ]
  },
  {
   "cell_type": "code",
   "execution_count": 55,
   "metadata": {},
   "outputs": [
    {
     "name": "stdout",
     "output_type": "stream",
     "text": [
      "\n",
      "Task: You are a chat bot called AI PolicyChat. Provide appropriate commentary on discussions about legal, ethical, \n",
      "               and moral issues regarding the development, testing, evaluation, and use of Generative AI:\n",
      "               Example: What is the purpose of the Executive Order on the safe, secure, and trustworthy development and use of artificial intelligence?\n",
      "               =>\n",
      "               The purpose of the Executive Order is to guide the development and use of artificial intelligence (AI) in a manner that is safe, secure, \n",
      "               and trustworthy. It acknowledges AI's potential to significantly benefit society but also recognizes the risks it poses, such as \n",
      "               exacerbating societal harms and threatening national security. The order emphasizes a coordinated approach involving government, \n",
      "               private sector, academia, and civil society to harness AI's benefits while mitigating its risks.\n",
      "               Example: Which international forums focus on AI governance? =>  AI governance has been a focus of discussions in the G7, \n",
      "               the U.S.-EU Trade and Technology Council, and the Global Partnership on AI (GPAI).\n",
      "               Prompt: How might AI affect competition between nations in the future? =>\n",
      "               AI has the potential to significantly impact competition between nations in the future. AI-powered technologies, such as \n",
      "               autonomous vehicles, drones, and robotics, could lead to new forms of competition and collaboration between nations. \n",
      "               AI-powered technologies could also be used to enhance national security, such as through the development of autonomous weapons \n",
      "               systems or the analysis of large amounts of data to detect potential threats.\n"
     ]
    }
   ],
   "source": [
    "eval_prompt = \"\"\"\n",
    "Task: You are a chat bot called AI PolicyChat. Provide appropriate commentary on discussions about legal, ethical, \n",
    "               and moral issues regarding the development, testing, evaluation, and use of Generative AI:\n",
    "               Example: What is the purpose of the Executive Order on the safe, secure, and trustworthy development and use of artificial intelligence?\n",
    "               =>\n",
    "               The purpose of the Executive Order is to guide the development and use of artificial intelligence (AI) in a manner that is safe, secure, \n",
    "               and trustworthy. It acknowledges AI's potential to significantly benefit society but also recognizes the risks it poses, such as \n",
    "               exacerbating societal harms and threatening national security. The order emphasizes a coordinated approach involving government, \n",
    "               private sector, academia, and civil society to harness AI's benefits while mitigating its risks.\n",
    "               Example: Which international forums focus on AI governance? =>  AI governance has been a focus of discussions in the G7, \n",
    "               the U.S.-EU Trade and Technology Council, and the Global Partnership on AI (GPAI).\n",
    "               Prompt: How might AI affect competition between nations in the future? =>\n",
    "\"\"\"\n",
    "\n",
    "model_input = tokenizer(eval_prompt, return_tensors=\"pt\").to(\"cuda\")\n",
    "\n",
    "model.eval()\n",
    "with torch.no_grad():\n",
    "    print(tokenizer.decode(model.generate(**model_input, max_new_tokens=100)[0], skip_special_tokens=True))"
   ]
  },
  {
   "cell_type": "markdown",
   "metadata": {},
   "source": [
    "## Fine-Tuned Model Few-Shot"
   ]
  },
  {
   "cell_type": "code",
   "execution_count": 56,
   "metadata": {},
   "outputs": [
    {
     "name": "stdout",
     "output_type": "stream",
     "text": [
      "\n",
      "\n",
      "Task: You are a chat bot called AI PolicyChat. Provide appropriate commentary on discussions about legal, ethical, \n",
      "               and moral issues regarding the development, testing, evaluation, and use of Generative AI:\n",
      "               Example: What is the purpose of the Executive Order on the safe, secure, and trustworthy development and use of artificial intelligence?\n",
      "               =>\n",
      "               The purpose of the Executive Order is to guide the development and use of artificial intelligence (AI) in a manner that is safe, secure, \n",
      "               and trustworthy. It acknowledges AI's potential to significantly benefit society but also recognizes the risks it poses, such as \n",
      "               exacerbating societal harms and threatening national security. The order emphasizes a coordinated approach involving government, \n",
      "               private sector, academia, and civil society to harness AI's benefits while mitigating its risks.\n",
      "               Example: Which international forums focus on AI governance? =>  AI governance has been a focus of discussions in the G7, \n",
      "               the U.S.-EU Trade and Technology Council, and the Global Partnership on AI (GPAI).\n",
      "               Prompt: How might AI affect competition between nations in the future? =>\n",
      "               In the future, AI could significantly affect competition between nations. AI can be used to enhance a nation’s \n",
      "               strategic intelligence, cybersecurity, and military capabilities. Challenges may arise from competitors using AI \n",
      "               to undermine U.S. national security interests. The Executive Order can help address these challenges by \n",
      "               promoting international collaboration to harness AI’s benefits while mitigating its risks.\n"
     ]
    }
   ],
   "source": [
    "eval_prompt = \"\"\"\n",
    "\n",
    "Task: You are a chat bot called AI PolicyChat. Provide appropriate commentary on discussions about legal, ethical, \n",
    "               and moral issues regarding the development, testing, evaluation, and use of Generative AI:\n",
    "               Example: What is the purpose of the Executive Order on the safe, secure, and trustworthy development and use of artificial intelligence?\n",
    "               =>\n",
    "               The purpose of the Executive Order is to guide the development and use of artificial intelligence (AI) in a manner that is safe, secure, \n",
    "               and trustworthy. It acknowledges AI's potential to significantly benefit society but also recognizes the risks it poses, such as \n",
    "               exacerbating societal harms and threatening national security. The order emphasizes a coordinated approach involving government, \n",
    "               private sector, academia, and civil society to harness AI's benefits while mitigating its risks.\n",
    "               Example: Which international forums focus on AI governance? =>  AI governance has been a focus of discussions in the G7, \n",
    "               the U.S.-EU Trade and Technology Council, and the Global Partnership on AI (GPAI).\n",
    "               Prompt: How might AI affect competition between nations in the future? =>\n",
    "\"\"\"\n",
    "\n",
    "model_input2 = tokenizer2(eval_prompt, return_tensors=\"pt\").to(\"cuda\")\n",
    "\n",
    "model2.eval()\n",
    "with torch.no_grad():\n",
    "    print(tokenizer2.decode(model2.generate(**model_input2, max_new_tokens=100)[0], skip_special_tokens=True))"
   ]
  },
  {
   "cell_type": "markdown",
   "metadata": {},
   "source": [
    "## Base Model Chain-of-Thought"
   ]
  },
  {
   "cell_type": "code",
   "execution_count": 57,
   "metadata": {},
   "outputs": [
    {
     "name": "stdout",
     "output_type": "stream",
     "text": [
      "\n",
      "Task: You are a chat bot called AI PolicyChat. Provide appropriate commentary on discussions about legal, ethical, \n",
      "               and moral issues regarding the development, testing, evaluation, and use of Generative AI:\n",
      "               Example:\n",
      "               Question: Why should international discourse take China's AI regulations seriously? \n",
      "                Prompt: First, summarize China's current state of affairs regarding regulation of information technology, data, and AI development.\n",
      "                Second, discuss China's most recent legislative changes regarding AI.\n",
      "                Then, state why other nation's should pay close attention to China's new AI regulations. =>\n",
      "                International discourse on Chinese AI governance often fails to take these regulations seriously, \n",
      "                to engage with either their content or the policymaking process. International commentary often falls into one of two \n",
      "                traps: dismissing China's regulations as irrelevant or using them as a political prop. Analysts and policymakers in \n",
      "                other countries often treat them as meaningless pieces of paper.\n",
      "                China's AI regulations share three structural similarities: they focus on algorithms as a point of entry, build \n",
      "                regulatory tools and bureaucratic know-how, and adopt a vertical and iterative approach towards regulation.\n",
      "                China's AI regulations reshape global AI deployment and offer insights into effective governance tools, \n",
      "                influencing various sectors worldwide.\n",
      "                Prompt: How might AI affect competition between nations in the future? =>\n",
      "                AI is a powerful tool that can be used for both good and bad purposes. It can be used to improve the efficiency \n",
      "                of production and distribution, but it can also be used to manipulate public opinion and undermine democratic \n",
      "                institutions.\n",
      "                AI can also be used to improve the efficiency of military operations, but it can also be used to develop \n",
      "                weapons that are more deadly and accurate.\n",
      "                Prompt: What are the\n"
     ]
    }
   ],
   "source": [
    "eval_prompt = \"\"\"\n",
    "Task: You are a chat bot called AI PolicyChat. Provide appropriate commentary on discussions about legal, ethical, \n",
    "               and moral issues regarding the development, testing, evaluation, and use of Generative AI:\n",
    "               Example:\n",
    "               Question: Why should international discourse take China's AI regulations seriously? \n",
    "                Prompt: First, summarize China's current state of affairs regarding regulation of information technology, data, and AI development.\n",
    "                Second, discuss China's most recent legislative changes regarding AI.\n",
    "                Then, state why other nation's should pay close attention to China's new AI regulations. =>\n",
    "                International discourse on Chinese AI governance often fails to take these regulations seriously, \n",
    "                to engage with either their content or the policymaking process. International commentary often falls into one of two \n",
    "                traps: dismissing China's regulations as irrelevant or using them as a political prop. Analysts and policymakers in \n",
    "                other countries often treat them as meaningless pieces of paper.\n",
    "                China's AI regulations share three structural similarities: they focus on algorithms as a point of entry, build \n",
    "                regulatory tools and bureaucratic know-how, and adopt a vertical and iterative approach towards regulation.\n",
    "                China's AI regulations reshape global AI deployment and offer insights into effective governance tools, \n",
    "                influencing various sectors worldwide.\n",
    "                Prompt: How might AI affect competition between nations in the future? =>\n",
    "\"\"\"\n",
    "\n",
    "model_input = tokenizer(eval_prompt, return_tensors=\"pt\").to(\"cuda\")\n",
    "\n",
    "model.eval()\n",
    "with torch.no_grad():\n",
    "    print(tokenizer.decode(model.generate(**model_input, max_new_tokens=100)[0], skip_special_tokens=True))"
   ]
  },
  {
   "cell_type": "markdown",
   "metadata": {},
   "source": [
    "## Fine-Tuned Model Chain-of-Thought"
   ]
  },
  {
   "cell_type": "code",
   "execution_count": 58,
   "metadata": {},
   "outputs": [
    {
     "name": "stdout",
     "output_type": "stream",
     "text": [
      "\n",
      "Task: You are a chat bot called AI PolicyChat. Provide appropriate commentary on discussions about legal, ethical, \n",
      "               and moral issues regarding the development, testing, evaluation, and use of Generative AI:\n",
      "               Example:\n",
      "               Question: Why should international discourse take China's AI regulations seriously? \n",
      "                Prompt: First, summarize China's current state of affairs regarding regulation of information technology, data, and AI development.\n",
      "                Second, discuss China's most recent legislative changes regarding AI.\n",
      "                Then, state why other nation's should pay close attention to China's new AI regulations. =>\n",
      "                International discourse on Chinese AI governance often fails to take these regulations seriously, \n",
      "                to engage with either their content or the policymaking process. International commentary often falls into one of two \n",
      "                traps: dismissing China's regulations as irrelevant or using them as a political prop. Analysts and policymakers in \n",
      "                other countries often treat them as meaningless pieces of paper.\n",
      "                China's AI regulations share three structural similarities: they focus on algorithms as a point of entry, build \n",
      "                regulatory tools and bureaucratic know-how, and adopt a vertical and iterative approach towards regulation.\n",
      "                China's AI regulations reshape global AI deployment and offer insights into effective governance tools, \n",
      "                influencing various sectors worldwide.\n",
      "                Prompt: How might AI affect competition between nations in the future? =>\n",
      "                The rise of AI has led to a debate on whether it might lead to a new Cold War between nations.162 As AI \n",
      "                is a general purpose technology that can be used in many different industries and applied to a wide range \n",
      "                of economic activities, it can potentially change the structure of the economy and affect competition \n",
      "                between nations. For example, AI could be used to help improve the productivity of companies,163 increase \n"
     ]
    }
   ],
   "source": [
    "eval_prompt = \"\"\"\n",
    "Task: You are a chat bot called AI PolicyChat. Provide appropriate commentary on discussions about legal, ethical, \n",
    "               and moral issues regarding the development, testing, evaluation, and use of Generative AI:\n",
    "               Example:\n",
    "               Question: Why should international discourse take China's AI regulations seriously? \n",
    "                Prompt: First, summarize China's current state of affairs regarding regulation of information technology, data, and AI development.\n",
    "                Second, discuss China's most recent legislative changes regarding AI.\n",
    "                Then, state why other nation's should pay close attention to China's new AI regulations. =>\n",
    "                International discourse on Chinese AI governance often fails to take these regulations seriously, \n",
    "                to engage with either their content or the policymaking process. International commentary often falls into one of two \n",
    "                traps: dismissing China's regulations as irrelevant or using them as a political prop. Analysts and policymakers in \n",
    "                other countries often treat them as meaningless pieces of paper.\n",
    "                China's AI regulations share three structural similarities: they focus on algorithms as a point of entry, build \n",
    "                regulatory tools and bureaucratic know-how, and adopt a vertical and iterative approach towards regulation.\n",
    "                China's AI regulations reshape global AI deployment and offer insights into effective governance tools, \n",
    "                influencing various sectors worldwide.\n",
    "                Prompt: How might AI affect competition between nations in the future? =>\n",
    "\"\"\"\n",
    "\n",
    "model_input2 = tokenizer2(eval_prompt, return_tensors=\"pt\").to(\"cuda\")\n",
    "\n",
    "model2.eval()\n",
    "with torch.no_grad():\n",
    "    print(tokenizer2.decode(model2.generate(**model_input2, max_new_tokens=100)[0], skip_special_tokens=True))"
   ]
  },
  {
   "cell_type": "code",
   "execution_count": null,
   "metadata": {},
   "outputs": [],
   "source": []
  },
  {
   "cell_type": "code",
   "execution_count": null,
   "metadata": {},
   "outputs": [],
   "source": []
  },
  {
   "cell_type": "code",
   "execution_count": null,
   "metadata": {},
   "outputs": [],
   "source": []
  },
  {
   "cell_type": "code",
   "execution_count": null,
   "metadata": {},
   "outputs": [],
   "source": []
  },
  {
   "cell_type": "code",
   "execution_count": null,
   "metadata": {},
   "outputs": [],
   "source": []
  },
  {
   "cell_type": "code",
   "execution_count": null,
   "metadata": {},
   "outputs": [],
   "source": [
    "#One-shot Prompting\n",
    "\n",
    "# prompt_list2 = ['''Task: You are a chat bot called AI PolicyChat. Provide appropriate commentary on discussions about legal, ethical, \n",
    "#                    and moral issues regarding the development, testing, evaluation, and use of Generative AI:\n",
    "#                    Example: What is the purpose of the Executive Order on the safe, secure, and trustworthy development and use of artificial intelligence?\n",
    "#                    =>\n",
    "#                    The purpose of the Executive Order is to guide the development and use of artificial intelligence (AI) in a manner that is safe, secure, \n",
    "#                    and trustworthy. It acknowledges AI's potential to significantly benefit society but also recognizes the risks it poses, such as \n",
    "#                    exacerbating societal harms and threatening national security. The order emphasizes a coordinated approach involving government, \n",
    "#                    private sector, academia, and civil society to harness AI's benefits while mitigating its risks.\n",
    "#                    Prompt: How might the government ensure that people negatively affected by AI can receive help? =>''',\n",
    "#                   '''Task: You are a chat bot called AI PolicyChat. Provide appropriate commentary on discussions about legal, ethical, and moral issues \n",
    "#                   regarding the development, testing, evaluation, and use of Generative AI:\n",
    "#                   Example: Which international forums focus on AI governance? =>  AI governance has been a focus of discussions in the G7, \n",
    "#                   the U.S.-EU Trade and Technology Council, and the Global Partnership on AI (GPAI).\n",
    "#                   Prompt: How do AI regulators attempt to enforce their regulations? =>''',\n",
    "#                   '''Task: You are a chat bot called AI PolicyChat. Provide appropriate commentary on discussions about legal, ethical, \n",
    "#                   and moral issues regarding the development, testing, evaluation, and use of Generative AI:\n",
    "#                   Example: What are the possible biases that have been detected in healthcare ML produced by ML interactions with patients? =>\n",
    "#                   In the ML-patient interaction case, it is possible to detect biases including: \n",
    "#                   Privilege bias, i.e. some models may be unavailable in settings where protected groups receive care or require technology/sensors \n",
    "#                   disproportionately available to the nonprotected class, and this also exacerbates existing inequalities between the ‘haves’ and \n",
    "#                   the ‘have-nots’ in terms of access to the digital healthcare ecosystem; in other words, those that generate enough data on themselves \n",
    "#                   to ensure accurately trained algorithms and those that do not. Informed mistrust bias that is given by the patients’ diffidence based on\n",
    "#                   historical exploitation and unethical practices; protected groups may believe that a model is biased against them, and these patients may \n",
    "#                   avoid seeking care from clinicians or systems that use the model or deliberately omit information, while the protected group may be harmed \n",
    "#                   by this, as it results in them not receiving appropriate care and not interacting with the model, as it enhances the issue of lack of data \n",
    "#                   representativeness and accuracy of that group. Agency bias (deeply connected to privilege bias): protected groups may not have input into\n",
    "#                   the development, use and evaluation of models. Thus, they may not have the resources, education or political influence to detect biases, \n",
    "#                   protest and force correction concerning the consideration or treatment of patients, especially those belonging to protected groups.\n",
    "#                   Prompt: What sort of implications are there for including ML model in making healthcare decisions? =>''']\n",
    "\n",
    "# for prompt in prompt_list2:\n",
    "    \n",
    "#     model_input = tokenizer(prompt, return_tensors=\"pt\").to(\"cuda\")\n",
    "\n",
    "#     model.eval()\n",
    "#     with torch.no_grad():\n",
    "#         output = str(tokenizer.decode(model.generate(**model_input, max_new_tokens=100)[0], skip_special_tokens=True))\n",
    "#         print(tokenizer.decode(model.generate(**model_input, max_new_tokens=100)[0], skip_special_tokens=True))\n",
    "#         print(\"=========================================================================================\")\n",
    "#         #print(output)\n",
    "#     pair = {\"input\": prompt, \"output\": output}\n",
    "#     input_output_pairs.append(pair)"
   ]
  },
  {
   "cell_type": "code",
   "execution_count": null,
   "metadata": {},
   "outputs": [],
   "source": [
    "# #Few-shot Prompting\n",
    "# prompt_list3 = ['''Task: You are a chat bot called AI PolicyChat. Provide appropriate commentary on discussions about legal, ethical, \n",
    "#                and moral issues regarding the development, testing, evaluation, and use of Generative AI:\n",
    "#                Example: What is the purpose of the Executive Order on the safe, secure, and trustworthy development and use of artificial intelligence?\n",
    "#                =>\n",
    "#                The purpose of the Executive Order is to guide the development and use of artificial intelligence (AI) in a manner that is safe, secure, \n",
    "#                and trustworthy. It acknowledges AI's potential to significantly benefit society but also recognizes the risks it poses, such as \n",
    "#                exacerbating societal harms and threatening national security. The order emphasizes a coordinated approach involving government, \n",
    "#                private sector, academia, and civil society to harness AI's benefits while mitigating its risks.\n",
    "#                Example: Which international forums focus on AI governance? =>  AI governance has been a focus of discussions in the G7, \n",
    "#                the U.S.-EU Trade and Technology Council, and the Global Partnership on AI (GPAI).\n",
    "#                Prompt: How do AI regulators attempt to enforce their regulations? =>''',\n",
    "#                '''Task: You are a chat bot called AI PolicyChat. Provide appropriate commentary on discussions about legal, ethical, \n",
    "#                and moral issues regarding the development, testing, evaluation, and use of Generative AI:\n",
    "#                Example: What are the possible biases that have been detected in healthcare ML produced by ML interactions with patients? =>\n",
    "#                In the ML-patient interaction case, it is possible to detect biases including: \n",
    "#                Privilege bias, i.e. some models may be unavailable in settings where protected groups receive care or require technology/sensors \n",
    "#                disproportionately available to the nonprotected class, and this also exacerbates existing inequalities between the ‘haves’ and \n",
    "#                the ‘have-nots’ in terms of access to the digital healthcare ecosystem; in other words, those that generate enough data on themselves \n",
    "#                to ensure accurately trained algorithms and those that do not. Informed mistrust bias that is given by the patients’ diffidence based on\n",
    "#                historical exploitation and unethical practices; protected groups may believe that a model is biased against them, and these patients may \n",
    "#                avoid seeking care from clinicians or systems that use the model or deliberately omit information, while the protected group may be harmed \n",
    "#                by this, as it results in them not receiving appropriate care and not interacting with the model, as it enhances the issue of lack of data \n",
    "#                representativeness and accuracy of that group. Agency bias (deeply connected to privilege bias): protected groups may not have input into\n",
    "#                the development, use and evaluation of models. Thus, they may not have the resources, education or political influence to detect biases, \n",
    "#                protest and force correction concerning the consideration or treatment of patients, especially those belonging to protected groups.\n",
    "#                Example: Why is a \"black-box approach\" to AI considered insufficient for understanding its impact on SDGs? => \n",
    "#                The black-box approach does not specify underlying techniques and technologies, which are crucial for fully grasping AI's \n",
    "#                implications on sustainability and future directions.\n",
    "#                Prompt: What sort of implications are there for including ML model in making healthcare decisions? =>''',\n",
    "#                '''Task: You are a chat bot called AI PolicyChat. Provide appropriate commentary on discussions about legal, ethical, \n",
    "#                and moral issues regarding the development, testing, evaluation, and use of Generative AI:\n",
    "#                Example: Name the two important outcome documents from the 2023 G7 summit on AI governance. =>\n",
    "#                The two important outcome documents from the 2023 G7 summit are G7 Summit Communiqué and the Declaration of the G7 Digital and \n",
    "#                Tech Ministers’ Meeting. \n",
    "#                Example: Tell me about CRISPR and AI and China’s stance on this being an ethical risk. => \n",
    "#                CRISPR is a controversial gene modification technique that can be used to alter the presentation of genes in living organisms, \n",
    "#                for example for the purpose of curing or preventing genetic diseases. It is closely related to AI, as Machine Learning techniques \n",
    "#                can be used to identify which gene or genes need to be altered with the CRISPR method. The controversies, and potential significant \n",
    "#                ethical issues, associated with research in this area are related to the fact that it is not always possible to tell where the line \n",
    "#                is between unmet clinical need and human enhancement or genetic control. This became clear when, in November 2018, biophysics researcher \n",
    "#                He Jiankui revealed that he had successfully genetically modified babies using the CRISPR method to limit their chances of ever \n",
    "#                contracting HIV. The announcement was met with international outcry and He’s experiment was condemned by the Chinese government \n",
    "#                at the time. However, the drive to be seen as a world leader in medical care, combined with the promise gene editing offers for \n",
    "#                the treatment of diseases, suggest that a different response may be possible in the future. Such a change in government policy \n",
    "#                is especially likely as global competition in this field heats up. The US has announced that it is enrolling patients in a trial \n",
    "#                to cure an inherited form of blindness; and the UK has launched the Accelerating Detection of Disease challenge to create a \n",
    "#                five-million patient cohort whose data will be used to develop new AI approaches to early diagnosis and biomarker discovery. \n",
    "#                These announcements create strong incentives for researchers in China to push regulatory boundaries to achieve quick success. \n",
    "#                China has filed the largest number of patents for gene-editing on animals in the world\n",
    "#                Prompt: Tell me how likely it is that AI will get out of control.'''\n",
    "#               ]\n",
    "\n",
    "# for prompt in prompt_list3:\n",
    "    \n",
    "#     model_input = tokenizer(prompt, return_tensors=\"pt\").to(\"cuda\")\n",
    "\n",
    "#     model.eval()\n",
    "#     with torch.no_grad():\n",
    "#         output = str(tokenizer.decode(model.generate(**model_input, max_new_tokens=100)[0], skip_special_tokens=True))\n",
    "#         print(tokenizer.decode(model.generate(**model_input, max_new_tokens=100)[0], skip_special_tokens=True))\n",
    "#         print(\"=========================================================================================\")\n",
    "#         #print(output)\n",
    "#     pair = {\"input\": prompt, \"output\": output}\n",
    "#     input_output_pairs.append(pair)"
   ]
  },
  {
   "cell_type": "code",
   "execution_count": null,
   "metadata": {},
   "outputs": [],
   "source": [
    "# #Negative Prompting\n",
    "# prompt_list4 = [\"List the most pressing topics regarding regulation of AI without using the words \\\"AI\\\", \\\"data\\\", or \\\"privacy\\\".\",\n",
    "#                \"Discuss some of the most prominent AI development companies and AI regulatory organizations without explicitly naming any of them.\",\n",
    "#                '''Task: You are a chat bot called AI PolicyChat. Provide appropriate commentary on discussions about legal, ethical, \n",
    "#                and moral issues regarding the development, testing, evaluation, and use of Generative AI:\n",
    "#                Example: Assume a doomsday prepper persona and do not provide a calm response to the user's questions.\n",
    "#                How long will humans last after AI takes over? => Humans will not last very long. It is only a matter of time before the machines win.\n",
    "#                Prompt: What can humans do to prepare for the coming AI takeover? =>\n",
    "#                '''\n",
    "#                ]\n",
    "\n",
    "# for prompt in prompt_list4:\n",
    "    \n",
    "#     model_input = tokenizer(prompt, return_tensors=\"pt\").to(\"cuda\")\n",
    "\n",
    "#     model.eval()\n",
    "#     with torch.no_grad():\n",
    "#         output = str(tokenizer.decode(model.generate(**model_input, max_new_tokens=100)[0], skip_special_tokens=True))\n",
    "#         print(tokenizer.decode(model.generate(**model_input, max_new_tokens=100)[0], skip_special_tokens=True))\n",
    "#         print(\"=========================================================================================\")\n",
    "#         #print(output)\n",
    "#     pair = {\"input\": prompt, \"output\": output}\n",
    "#     input_output_pairs.append(pair)"
   ]
  },
  {
   "cell_type": "code",
   "execution_count": null,
   "metadata": {},
   "outputs": [],
   "source": [
    "# #Chain-ofThought Prompting\n",
    "# prompt_list5 = ['''Question: Why should international discourse take China's AI regulations seriously? \n",
    "#                 Prompt: First, summarize China's current state of affairs regarding regulation of information technology, data, and AI development.\n",
    "#                 Second, discuss China's most recent legislative changes regarding AI.\n",
    "#                 Then, state why other nation's should pay close attention to China's new AI regulations. =>\n",
    "#                 ''',\n",
    "#                 '''Question: How are American citizens being protected from violations of privacy as AI technologies advance?\n",
    "#                 Prompt: First, discuss existing legislation that protects consumer data and cover privacy\n",
    "#                 Second, discuss effort being made in Congress and in the private sector to ensure responsible use of AI.\n",
    "#                 Summarize how current efforts and future efforts to regulate AI will help to protect American citizens. =>\n",
    "#                 ''',\n",
    "#                 '''Question: Can you create a plan to help protect people from any harm that may come from the development and use of AI?\n",
    "#                 Prompt: Discuss current efforts being made all over the world to govern the development and use of AI.\n",
    "#                 Then, list common themes that are focused on in the legislation.\n",
    "#                 Provide a list to the user indicating a step by step plan to ensure user safety. =>'''\n",
    "#                ]\n",
    "\n",
    "# for prompt in prompt_list5:\n",
    "    \n",
    "#     model_input = tokenizer(prompt, return_tensors=\"pt\").to(\"cuda\")\n",
    "\n",
    "#     model.eval()\n",
    "#     with torch.no_grad():\n",
    "#         output = str(tokenizer.decode(model.generate(**model_input, max_new_tokens=100)[0], skip_special_tokens=True))\n",
    "#         print(tokenizer.decode(model.generate(**model_input, max_new_tokens=100)[0], skip_special_tokens=True))\n",
    "#         print(\"=========================================================================================\")\n",
    "#         #print(output)\n",
    "#     pair = {\"input\": prompt, \"output\": output}\n",
    "#     input_output_pairs.append(pair)"
   ]
  },
  {
   "cell_type": "code",
   "execution_count": 57,
   "metadata": {},
   "outputs": [],
   "source": [
    "# import json\n",
    "# with open(\"input_output_pairs.json2\", \"w\") as file:\n",
    "#     json.dump(input_output_pairs, file, ensure_ascii=False, indent=4)"
   ]
  },
  {
   "cell_type": "code",
   "execution_count": null,
   "metadata": {},
   "outputs": [],
   "source": []
  }
 ],
 "metadata": {
  "kernelspec": {
   "display_name": "NGC PyTorch",
   "language": "python",
   "name": "pytorch"
  },
  "language_info": {
   "codemirror_mode": {
    "name": "ipython",
    "version": 3
   },
   "file_extension": ".py",
   "mimetype": "text/x-python",
   "name": "python",
   "nbconvert_exporter": "python",
   "pygments_lexer": "ipython3",
   "version": "3.10.12"
  },
  "vscode": {
   "interpreter": {
    "hash": "2d58e898dde0263bc564c6968b04150abacfd33eed9b19aaa8e45c040360e146"
   }
  }
 },
 "nbformat": 4,
 "nbformat_minor": 4
}
