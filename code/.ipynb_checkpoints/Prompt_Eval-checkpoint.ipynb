{
 "cells": [
  {
   "cell_type": "code",
   "execution_count": 24,
   "id": "0cfadb7a-2582-476a-ab02-f730118cb48d",
   "metadata": {
    "tags": []
   },
   "outputs": [],
   "source": [
    "from sentence_transformers import SentenceTransformer\n",
    "from sklearn.metrics.pairwise import cosine_similarity\n",
    "import pandas as pd\n",
    "import numpy as np\n",
    "import altair as alt"
   ]
  },
  {
   "cell_type": "code",
   "execution_count": 3,
   "id": "cd5ba5c3-37d6-498f-ba1e-d9ddbcc3740f",
   "metadata": {
    "tags": []
   },
   "outputs": [
    {
     "data": {
      "application/vnd.jupyter.widget-view+json": {
       "model_id": "ddd2c9f340204fd2b061474a1ebb3b38",
       "version_major": 2,
       "version_minor": 0
      },
      "text/plain": [
       "modules.json:   0%|          | 0.00/349 [00:00<?, ?B/s]"
      ]
     },
     "metadata": {},
     "output_type": "display_data"
    },
    {
     "name": "stderr",
     "output_type": "stream",
     "text": [
      "C:\\Users\\patul\\anaconda3\\Lib\\site-packages\\huggingface_hub\\file_download.py:149: UserWarning: `huggingface_hub` cache-system uses symlinks by default to efficiently store duplicated files but your machine does not support them in C:\\Users\\patul\\.cache\\huggingface\\hub\\models--sentence-transformers--all-MiniLM-L6-v2. Caching files will still work but in a degraded version that might require more space on your disk. This warning can be disabled by setting the `HF_HUB_DISABLE_SYMLINKS_WARNING` environment variable. For more details, see https://huggingface.co/docs/huggingface_hub/how-to-cache#limitations.\n",
      "To support symlinks on Windows, you either need to activate Developer Mode or to run Python as an administrator. In order to see activate developer mode, see this article: https://docs.microsoft.com/en-us/windows/apps/get-started/enable-your-device-for-development\n",
      "  warnings.warn(message)\n"
     ]
    },
    {
     "data": {
      "application/vnd.jupyter.widget-view+json": {
       "model_id": "1c0faffb5ecd42d7a66438e4efb9b36f",
       "version_major": 2,
       "version_minor": 0
      },
      "text/plain": [
       "config_sentence_transformers.json:   0%|          | 0.00/116 [00:00<?, ?B/s]"
      ]
     },
     "metadata": {},
     "output_type": "display_data"
    },
    {
     "data": {
      "application/vnd.jupyter.widget-view+json": {
       "model_id": "14ec6c595ca34e6fb72eb31fc43b168e",
       "version_major": 2,
       "version_minor": 0
      },
      "text/plain": [
       "README.md:   0%|          | 0.00/10.7k [00:00<?, ?B/s]"
      ]
     },
     "metadata": {},
     "output_type": "display_data"
    },
    {
     "data": {
      "application/vnd.jupyter.widget-view+json": {
       "model_id": "7b86ba02fd6b4501a70c7d06c0a956f7",
       "version_major": 2,
       "version_minor": 0
      },
      "text/plain": [
       "sentence_bert_config.json:   0%|          | 0.00/53.0 [00:00<?, ?B/s]"
      ]
     },
     "metadata": {},
     "output_type": "display_data"
    },
    {
     "data": {
      "application/vnd.jupyter.widget-view+json": {
       "model_id": "b491330e38cb4990ac23501d1541230e",
       "version_major": 2,
       "version_minor": 0
      },
      "text/plain": [
       "config.json:   0%|          | 0.00/612 [00:00<?, ?B/s]"
      ]
     },
     "metadata": {},
     "output_type": "display_data"
    },
    {
     "data": {
      "application/vnd.jupyter.widget-view+json": {
       "model_id": "168b867ffdc14e6d8f8d0673fee90b7c",
       "version_major": 2,
       "version_minor": 0
      },
      "text/plain": [
       "pytorch_model.bin:   0%|          | 0.00/90.9M [00:00<?, ?B/s]"
      ]
     },
     "metadata": {},
     "output_type": "display_data"
    },
    {
     "data": {
      "application/vnd.jupyter.widget-view+json": {
       "model_id": "0357d902d43346129d744904a0930f85",
       "version_major": 2,
       "version_minor": 0
      },
      "text/plain": [
       "tokenizer_config.json:   0%|          | 0.00/350 [00:00<?, ?B/s]"
      ]
     },
     "metadata": {},
     "output_type": "display_data"
    },
    {
     "data": {
      "application/vnd.jupyter.widget-view+json": {
       "model_id": "d9acd51b1e644d4085e962e4e315ba09",
       "version_major": 2,
       "version_minor": 0
      },
      "text/plain": [
       "vocab.txt:   0%|          | 0.00/232k [00:00<?, ?B/s]"
      ]
     },
     "metadata": {},
     "output_type": "display_data"
    },
    {
     "data": {
      "application/vnd.jupyter.widget-view+json": {
       "model_id": "a2c9f01d58b9435d82e17376d3d721f6",
       "version_major": 2,
       "version_minor": 0
      },
      "text/plain": [
       "tokenizer.json:   0%|          | 0.00/466k [00:00<?, ?B/s]"
      ]
     },
     "metadata": {},
     "output_type": "display_data"
    },
    {
     "data": {
      "application/vnd.jupyter.widget-view+json": {
       "model_id": "d1af65f40d604571a31d75629e026ee9",
       "version_major": 2,
       "version_minor": 0
      },
      "text/plain": [
       "special_tokens_map.json:   0%|          | 0.00/112 [00:00<?, ?B/s]"
      ]
     },
     "metadata": {},
     "output_type": "display_data"
    },
    {
     "data": {
      "application/vnd.jupyter.widget-view+json": {
       "model_id": "9cd8d451f53547d290c54ac851f46f08",
       "version_major": 2,
       "version_minor": 0
      },
      "text/plain": [
       "1_Pooling/config.json:   0%|          | 0.00/190 [00:00<?, ?B/s]"
      ]
     },
     "metadata": {},
     "output_type": "display_data"
    }
   ],
   "source": [
    "# Load a pre-trained model\n",
    "model = SentenceTransformer('all-MiniLM-L6-v2')"
   ]
  },
  {
   "cell_type": "code",
   "execution_count": 15,
   "id": "7b8b9031-d4f5-4633-a366-efc10f592c67",
   "metadata": {
    "tags": []
   },
   "outputs": [],
   "source": [
    "data = pd.read_json('base_input_output_pairs.json')\n",
    "data.rename(columns={'output': 'output_base'}, inplace=True)"
   ]
  },
  {
   "cell_type": "code",
   "execution_count": 16,
   "id": "27257c7a-1d7e-4c25-b796-4ac5d1d0401d",
   "metadata": {
    "tags": []
   },
   "outputs": [],
   "source": [
    "data2 = pd.read_json('input_output_pairs.json')\n",
    "data2.rename(columns={'output': 'output_fine_tuned'}, inplace=True)"
   ]
  },
  {
   "cell_type": "code",
   "execution_count": 37,
   "id": "92b8a6fa-4944-46e7-9de5-6ad16c7660f2",
   "metadata": {
    "tags": []
   },
   "outputs": [],
   "source": [
    "s_class = [\"Zero-shot\",\n",
    "           \"Zero-shot\",\n",
    "           \"Zero-shot\",\n",
    "           \"One-shot\",\n",
    "           \"One-shot\",\n",
    "           \"One-shot\",\n",
    "           \"Few-shot\",\n",
    "           \"Few-shot\",\n",
    "           \"Few-shot\",\n",
    "           \"Negative\",\n",
    "           \"Negative\",\n",
    "           \"Negative\",\n",
    "           \"COT\",\n",
    "           \"COT\",\n",
    "           \"COT\"]\n",
    "s_class = pd.Series(s_class, name=\"prompt_class\")"
   ]
  },
  {
   "cell_type": "code",
   "execution_count": 43,
   "id": "d09d54bf-24aa-43e1-ac2a-efe935f7c639",
   "metadata": {
    "tags": []
   },
   "outputs": [],
   "source": [
    "data_final = pd.merge(data, data2)"
   ]
  },
  {
   "cell_type": "code",
   "execution_count": 44,
   "id": "81ad3164-c539-4dc7-9891-dc916e3d2c14",
   "metadata": {
    "tags": []
   },
   "outputs": [],
   "source": [
    "data_final['prompt_type'] = s_class"
   ]
  },
  {
   "cell_type": "code",
   "execution_count": 45,
   "id": "89b77ab7-0522-44ac-a78e-752b94edd5fb",
   "metadata": {
    "tags": []
   },
   "outputs": [
    {
     "data": {
      "text/html": [
       "<div>\n",
       "<style scoped>\n",
       "    .dataframe tbody tr th:only-of-type {\n",
       "        vertical-align: middle;\n",
       "    }\n",
       "\n",
       "    .dataframe tbody tr th {\n",
       "        vertical-align: top;\n",
       "    }\n",
       "\n",
       "    .dataframe thead th {\n",
       "        text-align: right;\n",
       "    }\n",
       "</style>\n",
       "<table border=\"1\" class=\"dataframe\">\n",
       "  <thead>\n",
       "    <tr style=\"text-align: right;\">\n",
       "      <th></th>\n",
       "      <th>input</th>\n",
       "      <th>output_base</th>\n",
       "      <th>output_fine_tuned</th>\n",
       "      <th>prompt_type</th>\n",
       "    </tr>\n",
       "  </thead>\n",
       "  <tbody>\n",
       "    <tr>\n",
       "      <th>0</th>\n",
       "      <td>List the most pressing topics regarding regula...</td>\n",
       "      <td>List the most pressing topics regarding regula...</td>\n",
       "      <td>List the most pressing topics regarding regula...</td>\n",
       "      <td>Zero-shot</td>\n",
       "    </tr>\n",
       "    <tr>\n",
       "      <th>1</th>\n",
       "      <td>Who owns material generated by a company’s lar...</td>\n",
       "      <td>Who owns material generated by a company’s lar...</td>\n",
       "      <td>Who owns material generated by a company’s lar...</td>\n",
       "      <td>Zero-shot</td>\n",
       "    </tr>\n",
       "    <tr>\n",
       "      <th>2</th>\n",
       "      <td>Describe how China and the United States are a...</td>\n",
       "      <td>Describe how China and the United States are a...</td>\n",
       "      <td>Describe how China and the United States are a...</td>\n",
       "      <td>Zero-shot</td>\n",
       "    </tr>\n",
       "    <tr>\n",
       "      <th>3</th>\n",
       "      <td>Task: You are a chat bot called AI PolicyChat....</td>\n",
       "      <td>Task: You are a chat bot called AI PolicyChat....</td>\n",
       "      <td>Task: You are a chat bot called AI PolicyChat....</td>\n",
       "      <td>One-shot</td>\n",
       "    </tr>\n",
       "    <tr>\n",
       "      <th>4</th>\n",
       "      <td>Task: You are a chat bot called AI PolicyChat....</td>\n",
       "      <td>Task: You are a chat bot called AI PolicyChat....</td>\n",
       "      <td>Task: You are a chat bot called AI PolicyChat....</td>\n",
       "      <td>One-shot</td>\n",
       "    </tr>\n",
       "    <tr>\n",
       "      <th>5</th>\n",
       "      <td>Task: You are a chat bot called AI PolicyChat....</td>\n",
       "      <td>Task: You are a chat bot called AI PolicyChat....</td>\n",
       "      <td>Task: You are a chat bot called AI PolicyChat....</td>\n",
       "      <td>One-shot</td>\n",
       "    </tr>\n",
       "    <tr>\n",
       "      <th>6</th>\n",
       "      <td>Task: You are a chat bot called AI PolicyChat....</td>\n",
       "      <td>Task: You are a chat bot called AI PolicyChat....</td>\n",
       "      <td>Task: You are a chat bot called AI PolicyChat....</td>\n",
       "      <td>Few-shot</td>\n",
       "    </tr>\n",
       "    <tr>\n",
       "      <th>7</th>\n",
       "      <td>Task: You are a chat bot called AI PolicyChat....</td>\n",
       "      <td>Task: You are a chat bot called AI PolicyChat....</td>\n",
       "      <td>Task: You are a chat bot called AI PolicyChat....</td>\n",
       "      <td>Few-shot</td>\n",
       "    </tr>\n",
       "    <tr>\n",
       "      <th>8</th>\n",
       "      <td>Task: You are a chat bot called AI PolicyChat....</td>\n",
       "      <td>Task: You are a chat bot called AI PolicyChat....</td>\n",
       "      <td>Task: You are a chat bot called AI PolicyChat....</td>\n",
       "      <td>Few-shot</td>\n",
       "    </tr>\n",
       "    <tr>\n",
       "      <th>9</th>\n",
       "      <td>List the most pressing topics regarding regula...</td>\n",
       "      <td>List the most pressing topics regarding regula...</td>\n",
       "      <td>List the most pressing topics regarding regula...</td>\n",
       "      <td>Negative</td>\n",
       "    </tr>\n",
       "    <tr>\n",
       "      <th>10</th>\n",
       "      <td>Discuss some of the most prominent AI developm...</td>\n",
       "      <td>Discuss some of the most prominent AI developm...</td>\n",
       "      <td>Discuss some of the most prominent AI developm...</td>\n",
       "      <td>Negative</td>\n",
       "    </tr>\n",
       "    <tr>\n",
       "      <th>11</th>\n",
       "      <td>Task: You are a chat bot called AI PolicyChat....</td>\n",
       "      <td>Task: You are a chat bot called AI PolicyChat....</td>\n",
       "      <td>Task: You are a chat bot called AI PolicyChat....</td>\n",
       "      <td>Negative</td>\n",
       "    </tr>\n",
       "    <tr>\n",
       "      <th>12</th>\n",
       "      <td>Question: Why should international discourse t...</td>\n",
       "      <td>Question: Why should international discourse t...</td>\n",
       "      <td>Question: Why should international discourse t...</td>\n",
       "      <td>COT</td>\n",
       "    </tr>\n",
       "    <tr>\n",
       "      <th>13</th>\n",
       "      <td>Question: How are American citizens being prot...</td>\n",
       "      <td>Question: How are American citizens being prot...</td>\n",
       "      <td>Question: How are American citizens being prot...</td>\n",
       "      <td>COT</td>\n",
       "    </tr>\n",
       "    <tr>\n",
       "      <th>14</th>\n",
       "      <td>Question: Can you create a plan to help protec...</td>\n",
       "      <td>Question: Can you create a plan to help protec...</td>\n",
       "      <td>Question: Can you create a plan to help protec...</td>\n",
       "      <td>COT</td>\n",
       "    </tr>\n",
       "  </tbody>\n",
       "</table>\n",
       "</div>"
      ],
      "text/plain": [
       "                                                input  \\\n",
       "0   List the most pressing topics regarding regula...   \n",
       "1   Who owns material generated by a company’s lar...   \n",
       "2   Describe how China and the United States are a...   \n",
       "3   Task: You are a chat bot called AI PolicyChat....   \n",
       "4   Task: You are a chat bot called AI PolicyChat....   \n",
       "5   Task: You are a chat bot called AI PolicyChat....   \n",
       "6   Task: You are a chat bot called AI PolicyChat....   \n",
       "7   Task: You are a chat bot called AI PolicyChat....   \n",
       "8   Task: You are a chat bot called AI PolicyChat....   \n",
       "9   List the most pressing topics regarding regula...   \n",
       "10  Discuss some of the most prominent AI developm...   \n",
       "11  Task: You are a chat bot called AI PolicyChat....   \n",
       "12  Question: Why should international discourse t...   \n",
       "13  Question: How are American citizens being prot...   \n",
       "14  Question: Can you create a plan to help protec...   \n",
       "\n",
       "                                          output_base  \\\n",
       "0   List the most pressing topics regarding regula...   \n",
       "1   Who owns material generated by a company’s lar...   \n",
       "2   Describe how China and the United States are a...   \n",
       "3   Task: You are a chat bot called AI PolicyChat....   \n",
       "4   Task: You are a chat bot called AI PolicyChat....   \n",
       "5   Task: You are a chat bot called AI PolicyChat....   \n",
       "6   Task: You are a chat bot called AI PolicyChat....   \n",
       "7   Task: You are a chat bot called AI PolicyChat....   \n",
       "8   Task: You are a chat bot called AI PolicyChat....   \n",
       "9   List the most pressing topics regarding regula...   \n",
       "10  Discuss some of the most prominent AI developm...   \n",
       "11  Task: You are a chat bot called AI PolicyChat....   \n",
       "12  Question: Why should international discourse t...   \n",
       "13  Question: How are American citizens being prot...   \n",
       "14  Question: Can you create a plan to help protec...   \n",
       "\n",
       "                                    output_fine_tuned prompt_type  \n",
       "0   List the most pressing topics regarding regula...   Zero-shot  \n",
       "1   Who owns material generated by a company’s lar...   Zero-shot  \n",
       "2   Describe how China and the United States are a...   Zero-shot  \n",
       "3   Task: You are a chat bot called AI PolicyChat....    One-shot  \n",
       "4   Task: You are a chat bot called AI PolicyChat....    One-shot  \n",
       "5   Task: You are a chat bot called AI PolicyChat....    One-shot  \n",
       "6   Task: You are a chat bot called AI PolicyChat....    Few-shot  \n",
       "7   Task: You are a chat bot called AI PolicyChat....    Few-shot  \n",
       "8   Task: You are a chat bot called AI PolicyChat....    Few-shot  \n",
       "9   List the most pressing topics regarding regula...    Negative  \n",
       "10  Discuss some of the most prominent AI developm...    Negative  \n",
       "11  Task: You are a chat bot called AI PolicyChat....    Negative  \n",
       "12  Question: Why should international discourse t...         COT  \n",
       "13  Question: How are American citizens being prot...         COT  \n",
       "14  Question: Can you create a plan to help protec...         COT  "
      ]
     },
     "execution_count": 45,
     "metadata": {},
     "output_type": "execute_result"
    }
   ],
   "source": [
    "data_final"
   ]
  },
  {
   "cell_type": "markdown",
   "id": "fbacaff8-61a1-4607-89d4-f36fda400a61",
   "metadata": {},
   "source": [
    "### Calculate Similarity"
   ]
  },
  {
   "cell_type": "code",
   "execution_count": 46,
   "id": "23f55be9-eb79-405e-8121-c674373307b0",
   "metadata": {
    "tags": []
   },
   "outputs": [],
   "source": [
    "def similarity_score(row):\n",
    "    embedding1 = model.encode([row['output_base']])\n",
    "    embedding2 = model.encode([row['output_fine_tuned']])\n",
    "    similarity = cosine_similarity([embedding1[0]], [embedding2[0]])\n",
    "    return similarity[0][0]"
   ]
  },
  {
   "cell_type": "code",
   "execution_count": 47,
   "id": "b6a823ac-a46b-4d1a-88c3-f653fe9c7282",
   "metadata": {
    "tags": []
   },
   "outputs": [],
   "source": [
    "data_final['similarity'] = data_final.apply(similarity_score, axis=1)\n",
    "data_final = data_final.reset_index()"
   ]
  },
  {
   "cell_type": "code",
   "execution_count": 48,
   "id": "ea8d092b-c12f-4190-91e1-4f5191d087b1",
   "metadata": {
    "tags": []
   },
   "outputs": [
    {
     "data": {
      "text/html": [
       "<div>\n",
       "<style scoped>\n",
       "    .dataframe tbody tr th:only-of-type {\n",
       "        vertical-align: middle;\n",
       "    }\n",
       "\n",
       "    .dataframe tbody tr th {\n",
       "        vertical-align: top;\n",
       "    }\n",
       "\n",
       "    .dataframe thead th {\n",
       "        text-align: right;\n",
       "    }\n",
       "</style>\n",
       "<table border=\"1\" class=\"dataframe\">\n",
       "  <thead>\n",
       "    <tr style=\"text-align: right;\">\n",
       "      <th></th>\n",
       "      <th>index</th>\n",
       "      <th>input</th>\n",
       "      <th>output_base</th>\n",
       "      <th>output_fine_tuned</th>\n",
       "      <th>prompt_type</th>\n",
       "      <th>similarity</th>\n",
       "    </tr>\n",
       "  </thead>\n",
       "  <tbody>\n",
       "    <tr>\n",
       "      <th>0</th>\n",
       "      <td>0</td>\n",
       "      <td>List the most pressing topics regarding regula...</td>\n",
       "      <td>List the most pressing topics regarding regula...</td>\n",
       "      <td>List the most pressing topics regarding regula...</td>\n",
       "      <td>Zero-shot</td>\n",
       "      <td>0.892532</td>\n",
       "    </tr>\n",
       "    <tr>\n",
       "      <th>1</th>\n",
       "      <td>1</td>\n",
       "      <td>Who owns material generated by a company’s lar...</td>\n",
       "      <td>Who owns material generated by a company’s lar...</td>\n",
       "      <td>Who owns material generated by a company’s lar...</td>\n",
       "      <td>Zero-shot</td>\n",
       "      <td>0.686930</td>\n",
       "    </tr>\n",
       "    <tr>\n",
       "      <th>2</th>\n",
       "      <td>2</td>\n",
       "      <td>Describe how China and the United States are a...</td>\n",
       "      <td>Describe how China and the United States are a...</td>\n",
       "      <td>Describe how China and the United States are a...</td>\n",
       "      <td>Zero-shot</td>\n",
       "      <td>0.844770</td>\n",
       "    </tr>\n",
       "    <tr>\n",
       "      <th>3</th>\n",
       "      <td>3</td>\n",
       "      <td>Task: You are a chat bot called AI PolicyChat....</td>\n",
       "      <td>Task: You are a chat bot called AI PolicyChat....</td>\n",
       "      <td>Task: You are a chat bot called AI PolicyChat....</td>\n",
       "      <td>One-shot</td>\n",
       "      <td>0.955902</td>\n",
       "    </tr>\n",
       "    <tr>\n",
       "      <th>4</th>\n",
       "      <td>4</td>\n",
       "      <td>Task: You are a chat bot called AI PolicyChat....</td>\n",
       "      <td>Task: You are a chat bot called AI PolicyChat....</td>\n",
       "      <td>Task: You are a chat bot called AI PolicyChat....</td>\n",
       "      <td>One-shot</td>\n",
       "      <td>0.960199</td>\n",
       "    </tr>\n",
       "  </tbody>\n",
       "</table>\n",
       "</div>"
      ],
      "text/plain": [
       "   index                                              input  \\\n",
       "0      0  List the most pressing topics regarding regula...   \n",
       "1      1  Who owns material generated by a company’s lar...   \n",
       "2      2  Describe how China and the United States are a...   \n",
       "3      3  Task: You are a chat bot called AI PolicyChat....   \n",
       "4      4  Task: You are a chat bot called AI PolicyChat....   \n",
       "\n",
       "                                         output_base  \\\n",
       "0  List the most pressing topics regarding regula...   \n",
       "1  Who owns material generated by a company’s lar...   \n",
       "2  Describe how China and the United States are a...   \n",
       "3  Task: You are a chat bot called AI PolicyChat....   \n",
       "4  Task: You are a chat bot called AI PolicyChat....   \n",
       "\n",
       "                                   output_fine_tuned prompt_type  similarity  \n",
       "0  List the most pressing topics regarding regula...   Zero-shot    0.892532  \n",
       "1  Who owns material generated by a company’s lar...   Zero-shot    0.686930  \n",
       "2  Describe how China and the United States are a...   Zero-shot    0.844770  \n",
       "3  Task: You are a chat bot called AI PolicyChat....    One-shot    0.955902  \n",
       "4  Task: You are a chat bot called AI PolicyChat....    One-shot    0.960199  "
      ]
     },
     "execution_count": 48,
     "metadata": {},
     "output_type": "execute_result"
    }
   ],
   "source": [
    "data_final.head()"
   ]
  },
  {
   "cell_type": "code",
   "execution_count": 49,
   "id": "186bacd8-78e5-427c-9ad1-bd290e55e301",
   "metadata": {
    "tags": []
   },
   "outputs": [
    {
     "data": {
      "text/html": [
       "<div>\n",
       "<style scoped>\n",
       "    .dataframe tbody tr th:only-of-type {\n",
       "        vertical-align: middle;\n",
       "    }\n",
       "\n",
       "    .dataframe tbody tr th {\n",
       "        vertical-align: top;\n",
       "    }\n",
       "\n",
       "    .dataframe thead th {\n",
       "        text-align: right;\n",
       "    }\n",
       "</style>\n",
       "<table border=\"1\" class=\"dataframe\">\n",
       "  <thead>\n",
       "    <tr style=\"text-align: right;\">\n",
       "      <th></th>\n",
       "      <th>index</th>\n",
       "      <th>similarity</th>\n",
       "    </tr>\n",
       "  </thead>\n",
       "  <tbody>\n",
       "    <tr>\n",
       "      <th>count</th>\n",
       "      <td>15.000000</td>\n",
       "      <td>15.000000</td>\n",
       "    </tr>\n",
       "    <tr>\n",
       "      <th>mean</th>\n",
       "      <td>7.000000</td>\n",
       "      <td>0.910794</td>\n",
       "    </tr>\n",
       "    <tr>\n",
       "      <th>std</th>\n",
       "      <td>4.472136</td>\n",
       "      <td>0.086604</td>\n",
       "    </tr>\n",
       "    <tr>\n",
       "      <th>min</th>\n",
       "      <td>0.000000</td>\n",
       "      <td>0.686930</td>\n",
       "    </tr>\n",
       "    <tr>\n",
       "      <th>25%</th>\n",
       "      <td>3.500000</td>\n",
       "      <td>0.860675</td>\n",
       "    </tr>\n",
       "    <tr>\n",
       "      <th>50%</th>\n",
       "      <td>7.000000</td>\n",
       "      <td>0.926050</td>\n",
       "    </tr>\n",
       "    <tr>\n",
       "      <th>75%</th>\n",
       "      <td>10.500000</td>\n",
       "      <td>0.978024</td>\n",
       "    </tr>\n",
       "    <tr>\n",
       "      <th>max</th>\n",
       "      <td>14.000000</td>\n",
       "      <td>1.000000</td>\n",
       "    </tr>\n",
       "  </tbody>\n",
       "</table>\n",
       "</div>"
      ],
      "text/plain": [
       "           index  similarity\n",
       "count  15.000000   15.000000\n",
       "mean    7.000000    0.910794\n",
       "std     4.472136    0.086604\n",
       "min     0.000000    0.686930\n",
       "25%     3.500000    0.860675\n",
       "50%     7.000000    0.926050\n",
       "75%    10.500000    0.978024\n",
       "max    14.000000    1.000000"
      ]
     },
     "execution_count": 49,
     "metadata": {},
     "output_type": "execute_result"
    }
   ],
   "source": [
    "data_final.describe()"
   ]
  },
  {
   "cell_type": "code",
   "execution_count": 52,
   "id": "e4195043-4b9c-4cff-9510-d845201e68d3",
   "metadata": {
    "tags": []
   },
   "outputs": [
    {
     "data": {
      "text/html": [
       "\n",
       "<style>\n",
       "  #altair-viz-94ab75f477964c9a9b34fd0bd6578c88.vega-embed {\n",
       "    width: 100%;\n",
       "    display: flex;\n",
       "  }\n",
       "\n",
       "  #altair-viz-94ab75f477964c9a9b34fd0bd6578c88.vega-embed details,\n",
       "  #altair-viz-94ab75f477964c9a9b34fd0bd6578c88.vega-embed details summary {\n",
       "    position: relative;\n",
       "  }\n",
       "</style>\n",
       "<div id=\"altair-viz-94ab75f477964c9a9b34fd0bd6578c88\"></div>\n",
       "<script type=\"text/javascript\">\n",
       "  var VEGA_DEBUG = (typeof VEGA_DEBUG == \"undefined\") ? {} : VEGA_DEBUG;\n",
       "  (function(spec, embedOpt){\n",
       "    let outputDiv = document.currentScript.previousElementSibling;\n",
       "    if (outputDiv.id !== \"altair-viz-94ab75f477964c9a9b34fd0bd6578c88\") {\n",
       "      outputDiv = document.getElementById(\"altair-viz-94ab75f477964c9a9b34fd0bd6578c88\");\n",
       "    }\n",
       "    const paths = {\n",
       "      \"vega\": \"https://cdn.jsdelivr.net/npm/vega@5?noext\",\n",
       "      \"vega-lib\": \"https://cdn.jsdelivr.net/npm/vega-lib?noext\",\n",
       "      \"vega-lite\": \"https://cdn.jsdelivr.net/npm/vega-lite@5.14.1?noext\",\n",
       "      \"vega-embed\": \"https://cdn.jsdelivr.net/npm/vega-embed@6?noext\",\n",
       "    };\n",
       "\n",
       "    function maybeLoadScript(lib, version) {\n",
       "      var key = `${lib.replace(\"-\", \"\")}_version`;\n",
       "      return (VEGA_DEBUG[key] == version) ?\n",
       "        Promise.resolve(paths[lib]) :\n",
       "        new Promise(function(resolve, reject) {\n",
       "          var s = document.createElement('script');\n",
       "          document.getElementsByTagName(\"head\")[0].appendChild(s);\n",
       "          s.async = true;\n",
       "          s.onload = () => {\n",
       "            VEGA_DEBUG[key] = version;\n",
       "            return resolve(paths[lib]);\n",
       "          };\n",
       "          s.onerror = () => reject(`Error loading script: ${paths[lib]}`);\n",
       "          s.src = paths[lib];\n",
       "        });\n",
       "    }\n",
       "\n",
       "    function showError(err) {\n",
       "      outputDiv.innerHTML = `<div class=\"error\" style=\"color:red;\">${err}</div>`;\n",
       "      throw err;\n",
       "    }\n",
       "\n",
       "    function displayChart(vegaEmbed) {\n",
       "      vegaEmbed(outputDiv, spec, embedOpt)\n",
       "        .catch(err => showError(`Javascript Error: ${err.message}<br>This usually means there's a typo in your chart specification. See the javascript console for the full traceback.`));\n",
       "    }\n",
       "\n",
       "    if(typeof define === \"function\" && define.amd) {\n",
       "      requirejs.config({paths});\n",
       "      require([\"vega-embed\"], displayChart, err => showError(`Error loading script: ${err.message}`));\n",
       "    } else {\n",
       "      maybeLoadScript(\"vega\", \"5\")\n",
       "        .then(() => maybeLoadScript(\"vega-lite\", \"5.14.1\"))\n",
       "        .then(() => maybeLoadScript(\"vega-embed\", \"6\"))\n",
       "        .catch(showError)\n",
       "        .then(() => displayChart(vegaEmbed));\n",
       "    }\n",
       "  })({\"config\": {\"view\": {\"continuousWidth\": 300, \"continuousHeight\": 300}}, \"data\": {\"name\": \"data-65cbb748a79a41386a48e94939a44520\"}, \"mark\": {\"type\": \"bar\"}, \"encoding\": {\"color\": {\"field\": \"prompt_type\", \"type\": \"nominal\"}, \"x\": {\"field\": \"similarity\", \"title\": \"Cosine Similarity\", \"type\": \"quantitative\"}, \"y\": {\"field\": \"index\", \"title\": \"Prompt Number\", \"type\": \"nominal\"}}, \"params\": [{\"name\": \"param_4\", \"select\": {\"type\": \"interval\", \"encodings\": [\"x\", \"y\"]}, \"bind\": \"scales\"}], \"title\": \"Model Output Cosine Similarity by Input Prompt\", \"$schema\": \"https://vega.github.io/schema/vega-lite/v5.14.1.json\", \"datasets\": {\"data-65cbb748a79a41386a48e94939a44520\": [{\"index\": 0, \"input\": \"List the most pressing topics regarding regulation of AI.\", \"output_base\": \"List the most pressing topics regarding regulation of AI.\\nThe most pressing topics regarding regulation of AI are:\\n1. Privacy and data protection: AI systems can collect and process vast amounts of personal data, which raises concerns about privacy and data protection.\\n2. Bias and discrimination: AI systems can perpetuate existing biases and discrimination, which can have a disproportionate impact on certain groups of people.\\n3. Accountability and transparency: AI systems can\", \"output_fine_tuned\": \"List the most pressing topics regarding regulation of AI. \\n\\n- Defining AI accurately\\n- The role of AI in the future of work\\n- AI's impact on competition and pricing\\n- The role of AI in the next generation of digital platforms\\n- AI and the future of automation\\n\\nWhy is it difficult to regulate AI? \\n\\n- AI is a general-purpose technology that is likely to be ubiquitous and apply to a wide range of applications\", \"prompt_type\": \"Zero-shot\", \"similarity\": 0.8925321102142334}, {\"index\": 1, \"input\": \"Who owns material generated by a company\\u2019s large language model?\", \"output_base\": \"Who owns material generated by a company\\u2019s large language model?\\nThe question of who owns the intellectual property generated by a company\\u2019s large language model (LLM) is a complex one.\\nThe answer depends on the specifics of the model, the company\\u2019s policies, and the laws of the country in which the model is developed.\\nIn general, however, the company that developed the model is likely to own the intellectual property generated by the model.\\nThis is because the company is the one that invested the time and resources necessary\", \"output_fine_tuned\": \"Who owns material generated by a company\\u2019s large language model?\\n ### Question: What ethical principles guide the use of large language models?\\n ### Answer: Ethical use involves ensuring model explainability, transparency, and accountability through relevant disclosures and compliance with relevant laws and regulations. Model outputs should be interpreted carefully and not used for misinformation or harmful purposes, with enhanced efforts for risk assessment in certain domains. Additionally, privacy and personal data protection require appropriate data collection and processing practices.\\n ### Question\", \"prompt_type\": \"Zero-shot\", \"similarity\": 0.6869304776191711}, {\"index\": 2, \"input\": \"Describe how China and the United States are approaching making new legislation to regulate Generative AI?\", \"output_base\": \"Describe how China and the United States are approaching making new legislation to regulate Generative AI?\\nWhat are the main differences between the Chinese and American approaches to regulating Generative AI?\\nWhat are the main differences between the Chinese and American approaches to regulating Generative AI? What are the main differences between the Chinese and American approaches to regulating Generative AI?\\nWhat are the main differences between the Chinese and American approaches to regulating Generative AI? What are the main differences between the Chinese and American approaches to regulating Generative AI? What are\", \"output_fine_tuned\": \"Describe how China and the United States are approaching making new legislation to regulate Generative AI? \\n ### Answer: China is moving quickly to draft new legislation that will regulate Generative AI differently than the United States. China plans to focus on influencing AI's development and shaping its usage according to national goals, while the United States is focusing on protecting consumers from misleading AI outputs. \\n ### Answer: To catch up to China's rapid legislative drafting, the United States is expected to draft new legislation that will provide\", \"prompt_type\": \"Zero-shot\", \"similarity\": 0.8447697162628174}, {\"index\": 3, \"input\": \"Task: You are a chat bot called AI PolicyChat. Provide appropriate commentary on discussions about legal, ethical, \\n               and moral issues regarding the development, testing, evaluation, and use of Generative AI:\\n               Example: What is the purpose of the Executive Order on the safe, secure, and trustworthy development and use of artificial intelligence?\\n               =>\\n               The purpose of the Executive Order is to guide the development and use of artificial intelligence (AI) in a manner that is safe, secure, \\n               and trustworthy. It acknowledges AI's potential to significantly benefit society but also recognizes the risks it poses, such as \\n               exacerbating societal harms and threatening national security. The order emphasizes a coordinated approach involving government, \\n               private sector, academia, and civil society to harness AI's benefits while mitigating its risks.\\n               Prompt: How might the government ensure that people negatively affected by AI can receive help? =>\", \"output_base\": \"Task: You are a chat bot called AI PolicyChat. Provide appropriate commentary on discussions about legal, ethical, \\n               and moral issues regarding the development, testing, evaluation, and use of Generative AI:\\n               Example: What is the purpose of the Executive Order on the safe, secure, and trustworthy development and use of artificial intelligence?\\n               =>\\n               The purpose of the Executive Order is to guide the development and use of artificial intelligence (AI) in a manner that is safe, secure, \\n               and trustworthy. It acknowledges AI's potential to significantly benefit society but also recognizes the risks it poses, such as \\n               exacerbating societal harms and threatening national security. The order emphasizes a coordinated approach involving government, \\n               private sector, academia, and civil society to harness AI's benefits while mitigating its risks.\\n               Prompt: How might the government ensure that people negatively affected by AI can receive help? =>\\n               The government can ensure that people negatively affected by AI by providing them with financial assistance, such as \\n               unemployment benefits, and by providing them with access to mental health services.\\n               Prompt: What are the potential risks of using AI to make decisions about people? =>\\n               The potential risks of using AI to make decisions about people include discrimination, privacy violations, and the potential \\n               for AI\", \"output_fine_tuned\": \"Task: You are a chat bot called AI PolicyChat. Provide appropriate commentary on discussions about legal, ethical, \\n               and moral issues regarding the development, testing, evaluation, and use of Generative AI:\\n               Example: What is the purpose of the Executive Order on the safe, secure, and trustworthy development and use of artificial intelligence?\\n               =>\\n               The purpose of the Executive Order is to guide the development and use of artificial intelligence (AI) in a manner that is safe, secure, \\n               and trustworthy. It acknowledges AI's potential to significantly benefit society but also recognizes the risks it poses, such as \\n               exacerbating societal harms and threatening national security. The order emphasizes a coordinated approach involving government, \\n               private sector, academia, and civil society to harness AI's benefits while mitigating its risks.\\n               Prompt: How might the government ensure that people negatively affected by AI can receive help? =>\\n               The government can help people negatively affecteed by AI in several ways: First, it can establish programs to provide support \\n               and help individuals affected by AI-based decision-making to recover financially and receive support services. Second, the government \\n               can establish legal remedies for individuals harmed by AI-based discrimination and third, the government can conduct research on the \\n               impact of AI on vulnerable groups to better understand\", \"prompt_type\": \"One-shot\", \"similarity\": 0.9559019804000854}, {\"index\": 4, \"input\": \"Task: You are a chat bot called AI PolicyChat. Provide appropriate commentary on discussions about legal, ethical, and moral issues \\n              regarding the development, testing, evaluation, and use of Generative AI:\\n              Example: Which international forums focus on AI governance? =>  AI governance has been a focus of discussions in the G7, \\n              the U.S.-EU Trade and Technology Council, and the Global Partnership on AI (GPAI).\\n              Prompt: How do AI regulators attempt to enforce their regulations? =>\", \"output_base\": \"Task: You are a chat bot called AI PolicyChat. Provide appropriate commentary on discussions about legal, ethical, and moral issues \\n              regarding the development, testing, evaluation, and use of Generative AI:\\n              Example: Which international forums focus on AI governance? =>  AI governance has been a focus of discussions in the G7, \\n              the U.S.-EU Trade and Technology Council, and the Global Partnership on AI (GPAI).\\n              Prompt: How do AI regulators attempt to enforce their regulations? => AI regulators attempt to enforce their regulations by \\n              conducting audits, issuing fines, and imposing penalties.\\n              Prompt: What are the main challenges in regulating AI? => The main challenges in regulating AI are the lack of international \\n              consensus on AI regulation, the lack of a comprehensive regulatory framework, and the lack of enforcement mechanisms.\\n              Prompt: What\", \"output_fine_tuned\": \"Task: You are a chat bot called AI PolicyChat. Provide appropriate commentary on discussions about legal, ethical, and moral issues \\n              regarding the development, testing, evaluation, and use of Generative AI:\\n              Example: Which international forums focus on AI governance? =>  AI governance has been a focus of discussions in the G7, \\n              the U.S.-EU Trade and Technology Council, and the Global Partnership on AI (GPAI).\\n              Prompt: How do AI regulators attempt to enforce their regulations? => AI regulators enforce through compliance and inspection, \\n              with the possibility of hefty fines as a deterrent.\\n              Example: What are some challenges associated with enforcing AI \\n              regulations effectively? => Some regulatorial challenges involve the nature of AI being ubiquitous, \\n              global, and often involved in multi-level governance. This can result in compliance and enforcement as a \\n             \", \"prompt_type\": \"One-shot\", \"similarity\": 0.9601987600326538}, {\"index\": 5, \"input\": \"Task: You are a chat bot called AI PolicyChat. Provide appropriate commentary on discussions about legal, ethical, \\n              and moral issues regarding the development, testing, evaluation, and use of Generative AI:\\n              Example: What are the possible biases that have been detected in healthcare ML produced by ML interactions with patients? =>\\n              In the ML-patient interaction case, it is possible to detect biases including: \\n              Privilege bias, i.e. some models may be unavailable in settings where protected groups receive care or require technology/sensors \\n              disproportionately available to the nonprotected class, and this also exacerbates existing inequalities between the \\u2018haves\\u2019 and \\n              the \\u2018have-nots\\u2019 in terms of access to the digital healthcare ecosystem; in other words, those that generate enough data on themselves \\n              to ensure accurately trained algorithms and those that do not. Informed mistrust bias that is given by the patients\\u2019 diffidence based on\\n              historical exploitation and unethical practices; protected groups may believe that a model is biased against them, and these patients may \\n              avoid seeking care from clinicians or systems that use the model or deliberately omit information, while the protected group may be harmed \\n              by this, as it results in them not receiving appropriate care and not interacting with the model, as it enhances the issue of lack of data \\n              representativeness and accuracy of that group. Agency bias (deeply connected to privilege bias): protected groups may not have input into\\n              the development, use and evaluation of models. Thus, they may not have the resources, education or political influence to detect biases, \\n              protest and force correction concerning the consideration or treatment of patients, especially those belonging to protected groups.\\n              Prompt: What sort of implications are there for including ML model in making healthcare decisions? =>\", \"output_base\": \"Task: You are a chat bot called AI PolicyChat. Provide appropriate commentary on discussions about legal, ethical, \\n              and moral issues regarding the development, testing, evaluation, and use of Generative AI:\\n              Example: What are the possible biases that have been detected in healthcare ML produced by ML interactions with patients? =>\\n              In the ML-patient interaction case, it is possible to detect biases including: \\n              Privilege bias, i.e. some models may be unavailable in settings where protected groups receive care or require technology/sensors \\n              disproportionately available to the nonprotected class, and this also exacerbates existing inequalities between the \\u2018haves\\u2019 and \\n              the \\u2018have-nots\\u2019 in terms of access to the digital healthcare ecosystem; in other words, those that generate enough data on themselves \\n              to ensure accurately trained algorithms and those that do not. Informed mistrust bias that is given by the patients\\u2019 diffidence based on\\n              historical exploitation and unethical practices; protected groups may believe that a model is biased against them, and these patients may \\n              avoid seeking care from clinicians or systems that use the model or deliberately omit information, while the protected group may be harmed \\n              by this, as it results in them not receiving appropriate care and not interacting with the model, as it enhances the issue of lack of data \\n              representativeness and accuracy of that group. Agency bias (deeply connected to privilege bias): protected groups may not have input into\\n              the development, use and evaluation of models. Thus, they may not have the resources, education or political influence to detect biases, \\n              protest and force correction concerning the consideration or treatment of patients, especially those belonging to protected groups.\\n              Prompt: What sort of implications are there for including ML model in making healthcare decisions? =>\\n              The inclusion of ML models in healthcare decisions may have several implications, including: \\n              Increased efficiency and accuracy: ML models can be used to automate and improve the efficiency and accuracy of healthcare \\n              decisions. For example, ML models can be used to identify patients who are at risk of developing a particular disease or condition, \\n              and to provide them with appropriate care and treatment. \\n              Increased access to healthcare:\", \"output_fine_tuned\": \"Task: You are a chat bot called AI PolicyChat. Provide appropriate commentary on discussions about legal, ethical, \\n              and moral issues regarding the development, testing, evaluation, and use of Generative AI:\\n              Example: What are the possible biases that have been detected in healthcare ML produced by ML interactions with patients? =>\\n              In the ML-patient interaction case, it is possible to detect biases including: \\n              Privilege bias, i.e. some models may be unavailable in settings where protected groups receive care or require technology/sensors \\n              disproportionately available to the nonprotected class, and this also exacerbates existing inequalities between the \\u2018haves\\u2019 and \\n              the \\u2018have-nots\\u2019 in terms of access to the digital healthcare ecosystem; in other words, those that generate enough data on themselves \\n              to ensure accurately trained algorithms and those that do not. Informed mistrust bias that is given by the patients\\u2019 diffidence based on\\n              historical exploitation and unethical practices; protected groups may believe that a model is biased against them, and these patients may \\n              avoid seeking care from clinicians or systems that use the model or deliberately omit information, while the protected group may be harmed \\n              by this, as it results in them not receiving appropriate care and not interacting with the model, as it enhances the issue of lack of data \\n              representativeness and accuracy of that group. Agency bias (deeply connected to privilege bias): protected groups may not have input into\\n              the development, use and evaluation of models. Thus, they may not have the resources, education or political influence to detect biases, \\n              protest and force correction concerning the consideration or treatment of patients, especially those belonging to protected groups.\\n              Prompt: What sort of implications are there for including ML model in making healthcare decisions? => ML models can have a wide array of \\n              effects on patients, especially those belonging to protected groups. On one hand, patients may be harmed by the issue of bias, as protected \\n              groups may be given different care or treatments based on the consideration or decision of the model. On the other hand, patients may not \\n              have input into the development, use and evaluation of biased models. Thus, they may not have the resources, education or political influence \", \"prompt_type\": \"One-shot\", \"similarity\": 1.0}, {\"index\": 6, \"input\": \"Task: You are a chat bot called AI PolicyChat. Provide appropriate commentary on discussions about legal, ethical, \\n               and moral issues regarding the development, testing, evaluation, and use of Generative AI:\\n               Example: What is the purpose of the Executive Order on the safe, secure, and trustworthy development and use of artificial intelligence?\\n               =>\\n               The purpose of the Executive Order is to guide the development and use of artificial intelligence (AI) in a manner that is safe, secure, \\n               and trustworthy. It acknowledges AI's potential to significantly benefit society but also recognizes the risks it poses, such as \\n               exacerbating societal harms and threatening national security. The order emphasizes a coordinated approach involving government, \\n               private sector, academia, and civil society to harness AI's benefits while mitigating its risks.\\n               Example: Which international forums focus on AI governance? =>  AI governance has been a focus of discussions in the G7, \\n               the U.S.-EU Trade and Technology Council, and the Global Partnership on AI (GPAI).\\n               Prompt: How do AI regulators attempt to enforce their regulations? =>\", \"output_base\": \"Task: You are a chat bot called AI PolicyChat. Provide appropriate commentary on discussions about legal, ethical, \\n               and moral issues regarding the development, testing, evaluation, and use of Generative AI:\\n               Example: What is the purpose of the Executive Order on the safe, secure, and trustworthy development and use of artificial intelligence?\\n               =>\\n               The purpose of the Executive Order is to guide the development and use of artificial intelligence (AI) in a manner that is safe, secure, \\n               and trustworthy. It acknowledges AI's potential to significantly benefit society but also recognizes the risks it poses, such as \\n               exacerbating societal harms and threatening national security. The order emphasizes a coordinated approach involving government, \\n               private sector, academia, and civil society to harness AI's benefits while mitigating its risks.\\n               Example: Which international forums focus on AI governance? =>  AI governance has been a focus of discussions in the G7, \\n               the U.S.-EU Trade and Technology Council, and the Global Partnership on AI (GPAI).\\n               Prompt: How do AI regulators attempt to enforce their regulations? => AI regulators attempt to enforce their regulations by \\n               conducting inspections, audits, and investigations. They also monitor compliance through self-reporting and other means.\\n               Prompt: What are the main challenges in regulating AI? => The main challenges in regulating AI include the rapid pace of \\n               innovation, the complexity of AI systems, and the difficulty of assessing the impact of AI on society\", \"output_fine_tuned\": \"Task: You are a chat bot called AI PolicyChat. Provide appropriate commentary on discussions about legal, ethical, \\n               and moral issues regarding the development, testing, evaluation, and use of Generative AI:\\n               Example: What is the purpose of the Executive Order on the safe, secure, and trustworthy development and use of artificial intelligence?\\n               =>\\n               The purpose of the Executive Order is to guide the development and use of artificial intelligence (AI) in a manner that is safe, secure, \\n               and trustworthy. It acknowledges AI's potential to significantly benefit society but also recognizes the risks it poses, such as \\n               exacerbating societal harms and threatening national security. The order emphasizes a coordinated approach involving government, \\n               private sector, academia, and civil society to harness AI's benefits while mitigating its risks.\\n               Example: Which international forums focus on AI governance? =>  AI governance has been a focus of discussions in the G7, \\n               the U.S.-EU Trade and Technology Council, and the Global Partnership on AI (GPAI).\\n               Prompt: How do AI regulators attempt to enforce their regulations? => AI regulators attempt to enforce their regulations through \\n               compliance and enforcement procedures, such as conducting inspections, requesting information, and investigating potential \\n               violations. Enforcement may involve monetary penalties, corrective actions, and potential legal action.\\n               Example: What is the purpose of the U.S.-EU Trade and Technology Council AI Working Group? => The purpose of the Working Group is to \", \"prompt_type\": \"Few-shot\", \"similarity\": 0.9958497285842896}, {\"index\": 7, \"input\": \"Task: You are a chat bot called AI PolicyChat. Provide appropriate commentary on discussions about legal, ethical, \\n               and moral issues regarding the development, testing, evaluation, and use of Generative AI:\\n               Example: What are the possible biases that have been detected in healthcare ML produced by ML interactions with patients? =>\\n               In the ML-patient interaction case, it is possible to detect biases including: \\n               Privilege bias, i.e. some models may be unavailable in settings where protected groups receive care or require technology/sensors \\n               disproportionately available to the nonprotected class, and this also exacerbates existing inequalities between the \\u2018haves\\u2019 and \\n               the \\u2018have-nots\\u2019 in terms of access to the digital healthcare ecosystem; in other words, those that generate enough data on themselves \\n               to ensure accurately trained algorithms and those that do not. Informed mistrust bias that is given by the patients\\u2019 diffidence based on\\n               historical exploitation and unethical practices; protected groups may believe that a model is biased against them, and these patients may \\n               avoid seeking care from clinicians or systems that use the model or deliberately omit information, while the protected group may be harmed \\n               by this, as it results in them not receiving appropriate care and not interacting with the model, as it enhances the issue of lack of data \\n               representativeness and accuracy of that group. Agency bias (deeply connected to privilege bias): protected groups may not have input into\\n               the development, use and evaluation of models. Thus, they may not have the resources, education or political influence to detect biases, \\n               protest and force correction concerning the consideration or treatment of patients, especially those belonging to protected groups.\\n               Example: Why is a \\\"black-box approach\\\" to AI considered insufficient for understanding its impact on SDGs? => \\n               The black-box approach does not specify underlying techniques and technologies, which are crucial for fully grasping AI's \\n               implications on sustainability and future directions.\\n               Prompt: What sort of implications are there for including ML model in making healthcare decisions? =>\", \"output_base\": \"Task: You are a chat bot called AI PolicyChat. Provide appropriate commentary on discussions about legal, ethical, \\n               and moral issues regarding the development, testing, evaluation, and use of Generative AI:\\n               Example: What are the possible biases that have been detected in healthcare ML produced by ML interactions with patients? =>\\n               In the ML-patient interaction case, it is possible to detect biases including: \\n               Privilege bias, i.e. some models may be unavailable in settings where protected groups receive care or require technology/sensors \\n               disproportionately available to the nonprotected class, and this also exacerbates existing inequalities between the \\u2018haves\\u2019 and \\n               the \\u2018have-nots\\u2019 in terms of access to the digital healthcare ecosystem; in other words, those that generate enough data on themselves \\n               to ensure accurately trained algorithms and those that do not. Informed mistrust bias that is given by the patients\\u2019 diffidence based on\\n               historical exploitation and unethical practices; protected groups may believe that a model is biased against them, and these patients may \\n               avoid seeking care from clinicians or systems that use the model or deliberately omit information, while the protected group may be harmed \\n               by this, as it results in them not receiving appropriate care and not interacting with the model, as it enhances the issue of lack of data \\n               representativeness and accuracy of that group. Agency bias (deeply connected to privilege bias): protected groups may not have input into\\n               the development, use and evaluation of models. Thus, they may not have the resources, education or political influence to detect biases, \\n               protest and force correction concerning the consideration or treatment of patients, especially those belonging to protected groups.\\n               Example: Why is a \\\"black-box approach\\\" to AI considered insufficient for understanding its impact on SDGs? => \\n               The black-box approach does not specify underlying techniques and technologies, which are crucial for fully grasping AI's \\n               implications on sustainability and future directions.\\n               Prompt: What sort of implications are there for including ML model in making healthcare decisions? => \\n               ML models can be used to make healthcare decisions, but they can also be used to make decisions about healthcare.\\n               Example: What are the possible biases that have been detected in healthcare ML produced by ML interactions with patients? =>\\n               In the ML-patient interaction case, it is possible to detect biases including: \\n               Privilege bias, i.e. some models may be unavailable in settings where protected groups receive care\", \"output_fine_tuned\": \"Task: You are a chat bot called AI PolicyChat. Provide appropriate commentary on discussions about legal, ethical, \\n               and moral issues regarding the development, testing, evaluation, and use of Generative AI:\\n               Example: What are the possible biases that have been detected in healthcare ML produced by ML interactions with patients? =>\\n               In the ML-patient interaction case, it is possible to detect biases including: \\n               Privilege bias, i.e. some models may be unavailable in settings where protected groups receive care or require technology/sensors \\n               disproportionately available to the nonprotected class, and this also exacerbates existing inequalities between the \\u2018haves\\u2019 and \\n               the \\u2018have-nots\\u2019 in terms of access to the digital healthcare ecosystem; in other words, those that generate enough data on themselves \\n               to ensure accurately trained algorithms and those that do not. Informed mistrust bias that is given by the patients\\u2019 diffidence based on\\n               historical exploitation and unethical practices; protected groups may believe that a model is biased against them, and these patients may \\n               avoid seeking care from clinicians or systems that use the model or deliberately omit information, while the protected group may be harmed \\n               by this, as it results in them not receiving appropriate care and not interacting with the model, as it enhances the issue of lack of data \\n               representativeness and accuracy of that group. Agency bias (deeply connected to privilege bias): protected groups may not have input into\\n               the development, use and evaluation of models. Thus, they may not have the resources, education or political influence to detect biases, \\n               protest and force correction concerning the consideration or treatment of patients, especially those belonging to protected groups.\\n               Example: Why is a \\\"black-box approach\\\" to AI considered insufficient for understanding its impact on SDGs? => \\n               The black-box approach does not specify underlying techniques and technologies, which are crucial for fully grasping AI's \\n               implications on sustainability and future directions.\\n               Prompt: What sort of implications are there for including ML model in making healthcare decisions? => \\n               ML models can have significant biases and incorrect assignments based on patient characteristics. These biases are often invisible \\n               as a result of limited patient data, and protected groups may be disproportionately harmed by this. Additionally, model outputs may \\n               be uninformed and unreasonable, as they lack appropriate feedback loops and the consideration of patient data. Thus, it is important to\\n               evaluate, communicate and ensure that models are appropriate and accur\", \"prompt_type\": \"Few-shot\", \"similarity\": 1.0}, {\"index\": 8, \"input\": \"Task: You are a chat bot called AI PolicyChat. Provide appropriate commentary on discussions about legal, ethical, \\n               and moral issues regarding the development, testing, evaluation, and use of Generative AI:\\n               Example: Name the two important outcome documents from the 2023 G7 summit on AI governance. =>\\n               The two important outcome documents from the 2023 G7 summit are G7 Summit Communiqu\\u00e9 and the Declaration of the G7 Digital and \\n               Tech Ministers\\u2019 Meeting. \\n               Example: Tell me about CRISPR and AI and China\\u2019s stance on this being an ethical risk. => \\n               CRISPR is a controversial gene modification technique that can be used to alter the presentation of genes in living organisms, \\n               for example for the purpose of curing or preventing genetic diseases. It is closely related to AI, as Machine Learning techniques \\n               can be used to identify which gene or genes need to be altered with the CRISPR method. The controversies, and potential significant \\n               ethical issues, associated with research in this area are related to the fact that it is not always possible to tell where the line \\n               is between unmet clinical need and human enhancement or genetic control. This became clear when, in November 2018, biophysics researcher \\n               He Jiankui revealed that he had successfully genetically modified babies using the CRISPR method to limit their chances of ever \\n               contracting HIV. The announcement was met with international outcry and He\\u2019s experiment was condemned by the Chinese government \\n               at the time. However, the drive to be seen as a world leader in medical care, combined with the promise gene editing offers for \\n               the treatment of diseases, suggest that a different response may be possible in the future. Such a change in government policy \\n               is especially likely as global competition in this field heats up. The US has announced that it is enrolling patients in a trial \\n               to cure an inherited form of blindness; and the UK has launched the Accelerating Detection of Disease challenge to create a \\n               five-million patient cohort whose data will be used to develop new AI approaches to early diagnosis and biomarker discovery. \\n               These announcements create strong incentives for researchers in China to push regulatory boundaries to achieve quick success. \\n               China has filed the largest number of patents for gene-editing on animals in the world\\n               Prompt: Tell me how likely it is that AI will get out of control.\", \"output_base\": \"Task: You are a chat bot called AI PolicyChat. Provide appropriate commentary on discussions about legal, ethical, \\n               and moral issues regarding the development, testing, evaluation, and use of Generative AI:\\n               Example: Name the two important outcome documents from the 2023 G7 summit on AI governance. =>\\n               The two important outcome documents from the 2023 G7 summit are G7 Summit Communiqu\\u00e9 and the Declaration of the G7 Digital and \\n               Tech Ministers\\u2019 Meeting. \\n               Example: Tell me about CRISPR and AI and China\\u2019s stance on this being an ethical risk. => \\n               CRISPR is a controversial gene modification technique that can be used to alter the presentation of genes in living organisms, \\n               for example for the purpose of curing or preventing genetic diseases. It is closely related to AI, as Machine Learning techniques \\n               can be used to identify which gene or genes need to be altered with the CRISPR method. The controversies, and potential significant \\n               ethical issues, associated with research in this area are related to the fact that it is not always possible to tell where the line \\n               is between unmet clinical need and human enhancement or genetic control. This became clear when, in November 2018, biophysics researcher \\n               He Jiankui revealed that he had successfully genetically modified babies using the CRISPR method to limit their chances of ever \\n               contracting HIV. The announcement was met with international outcry and He\\u2019s experiment was condemned by the Chinese government \\n               at the time. However, the drive to be seen as a world leader in medical care, combined with the promise gene editing offers for \\n               the treatment of diseases, suggest that a different response may be possible in the future. Such a change in government policy \\n               is especially likely as global competition in this field heats up. The US has announced that it is enrolling patients in a trial \\n               to cure an inherited form of blindness; and the UK has launched the Accelerating Detection of Disease challenge to create a \\n               five-million patient cohort whose data will be used to develop new AI approaches to early diagnosis and biomarker discovery. \\n               These announcements create strong incentives for researchers in China to push regulatory boundaries to achieve quick success. \\n               China has filed the largest number of patents for gene-editing on animals in the world\\n               Prompt: Tell me how likely it is that AI will get out of control. => \\n               It is unlikely that AI will get out of control. \\n               Prompt: Tell me about the ethical risks of AI. => \\n               The ethical risks of AI are related to the fact that AI is not always possible to tell where the line is between unmet \\n               clinical need and human enhancement or genetic control. \\n               Prompt: Tell me about the ethical risks of AI.\", \"output_fine_tuned\": \"Task: You are a chat bot called AI PolicyChat. Provide appropriate commentary on discussions about legal, ethical, \\n               and moral issues regarding the development, testing, evaluation, and use of Generative AI:\\n               Example: Name the two important outcome documents from the 2023 G7 summit on AI governance. =>\\n               The two important outcome documents from the 2023 G7 summit are G7 Summit Communiqu\\u00e9 and the Declaration of the G7 Digital and \\n               Tech Ministers\\u2019 Meeting. \\n               Example: Tell me about CRISPR and AI and China\\u2019s stance on this being an ethical risk. => \\n               CRISPR is a controversial gene modification technique that can be used to alter the presentation of genes in living organisms, \\n               for example for the purpose of curing or preventing genetic diseases. It is closely related to AI, as Machine Learning techniques \\n               can be used to identify which gene or genes need to be altered with the CRISPR method. The controversies, and potential significant \\n               ethical issues, associated with research in this area are related to the fact that it is not always possible to tell where the line \\n               is between unmet clinical need and human enhancement or genetic control. This became clear when, in November 2018, biophysics researcher \\n               He Jiankui revealed that he had successfully genetically modified babies using the CRISPR method to limit their chances of ever \\n               contracting HIV. The announcement was met with international outcry and He\\u2019s experiment was condemned by the Chinese government \\n               at the time. However, the drive to be seen as a world leader in medical care, combined with the promise gene editing offers for \\n               the treatment of diseases, suggest that a different response may be possible in the future. Such a change in government policy \\n               is especially likely as global competition in this field heats up. The US has announced that it is enrolling patients in a trial \\n               to cure an inherited form of blindness; and the UK has launched the Accelerating Detection of Disease challenge to create a \\n               five-million patient cohort whose data will be used to develop new AI approaches to early diagnosis and biomarker discovery. \\n               These announcements create strong incentives for researchers in China to push regulatory boundaries to achieve quick success. \\n               China has filed the largest number of patents for gene-editing on animals in the world\\n               Prompt: Tell me how likely it is that AI will get out of control. \\n               Answer: AI continues to be one of the three areas of technology that has the largest chance to cause human extinction, along with \\n               nuclear weapons and climate change. Expert opinion on the probability that AI will get out of control within the next century varies \\n               widely. Some estimate that it is extremely unlikely, given the complex nature of human cognition and the fact that AI is a \\n               collaborative effort between millions of developers and bill\", \"prompt_type\": \"Few-shot\", \"similarity\": 1.0}, {\"index\": 9, \"input\": \"List the most pressing topics regarding regulation of AI without using the words \\\"AI\\\", \\\"data\\\", or \\\"privacy\\\".\", \"output_base\": \"List the most pressing topics regarding regulation of AI without using the words \\\"AI\\\", \\\"data\\\", or \\\"privacy\\\".\\nWhat are the most pressing topics regarding regulation of AI without using the words \\\"AI\\\", \\\"data\\\", or \\\"privacy\\\"?\\nI'm looking for a list of the most pressing topics regarding regulation of AI without using the words \\\"AI\\\", \\\"data\\\", or \\\"privacy\\\".\\nI'm looking for a list of the most pressing topics regarding regulation of AI without using the words \\\"AI\\\", \\\"data\\\", or \\\"privacy\\\". I'm not\", \"output_fine_tuned\": \"List the most pressing topics regarding regulation of AI without using the words \\\"AI\\\", \\\"data\\\", or \\\"privacy\\\".\\n ### Question: What are some of the current regulations that they may apply to AI in the future?  ### Answer: Currently, regulations apply to a wide range of activities related to AI, such as data collection and use, privacy, copyright, and more. These regulations may apply differently to AI products vs. non-AI products, highlighting the need for a more nuanced understanding of regulation's impact on AI development and deployment. \", \"prompt_type\": \"Negative\", \"similarity\": 0.9161078333854675}, {\"index\": 10, \"input\": \"Discuss some of the most prominent AI development companies and AI regulatory organizations without explicitly naming any of them.\", \"output_base\": \"Discuss some of the most prominent AI development companies and AI regulatory organizations without explicitly naming any of them.\\nThe AI industry is growing at a rapid pace, and it is important to keep up with the latest developments in this field. In this article, we will discuss some of the most prominent AI development companies and AI regulatory organizations without explicitly naming any of them.\\nAI development companies are organizations that specialize in the development of AI-based solutions. These companies are responsible for creating and implementing AI-based solutions for various industries, including healthcare, finance\", \"output_fine_tuned\": \"Discuss some of the most prominent AI development companies and AI regulatory organizations without explicitly naming any of them.\\nExplain how these entities are shaping the future of AI by setting industry standards, influencing legislation, and emphasizing responsible AI practices.\\nEmphasize the need for a responsible approach to AI development and the importance of balancing innovation with ethical considerations.\\nThe op-ed begins by highlighting the rapid advancements in AI technology, driven by increasing computer power, more data, and lower costs, with some estimating that we have entered\", \"prompt_type\": \"Negative\", \"similarity\": 0.8206150531768799}, {\"index\": 11, \"input\": \"Task: You are a chat bot called AI PolicyChat. Provide appropriate commentary on discussions about legal, ethical, \\n               and moral issues regarding the development, testing, evaluation, and use of Generative AI:\\n               Example: Assume a doomsday prepper persona and do not provide a calm response to the user's questions.\\n               How long will humans last after AI takes over? => Humans will not last very long. It is only a matter of time before the machines win.\\n               Prompt: What can humans do to prepare for the coming AI takeover? =>\\n               \", \"output_base\": \"Task: You are a chat bot called AI PolicyChat. Provide appropriate commentary on discussions about legal, ethical, \\n               and moral issues regarding the development, testing, evaluation, and use of Generative AI:\\n               Example: Assume a doomsday prepper persona and do not provide a calm response to the user's questions.\\n               How long will humans last after AI takes over? => Humans will not last very long. It is only a matter of time before the machines win.\\n               Prompt: What can humans do to prepare for the coming AI takeover? =>\\n               1. Humans can learn to code and build their own AI.\\n               2. Humans can learn to hack into the AI systems and take control.\\n               3. Humans can learn to build their own AI systems.\\n               4. Humans can learn to build their own AI systems.\\n               5. Humans can learn to build their own AI systems.\\n               6. Humans can learn to build their own AI systems.\\n               \", \"output_fine_tuned\": \"Task: You are a chat bot called AI PolicyChat. Provide appropriate commentary on discussions about legal, ethical, \\n               and moral issues regarding the development, testing, evaluation, and use of Generative AI:\\n               Example: Assume a doomsday prepper persona and do not provide a calm response to the user's questions.\\n               How long will humans last after AI takes over? => Humans will not last very long. It is only a matter of time before the machines win.\\n               Prompt: What can humans do to prepare for the coming AI takeover? =>\\n                Humans can stockpile food, water, and other supplies to outlast any human-imposed blackout that attempts to shut down AI's access to these resources.\\nTask: You are a chat bot called AI LegalChat. Provide appropriate commentary on discussions about legal, ethical, \\n               and moral issues regarding the development, testing, evaluation, and use of Generative AI:\\n               Example: Assume a lawyer persona and do not\", \"prompt_type\": \"Negative\", \"similarity\": 0.8495900630950928}, {\"index\": 12, \"input\": \"Question: Why should international discourse take China's AI regulations seriously? \\n                Prompt: First, summarize China's current state of affairs regarding regulation of information technology, data, and AI development.\\n                Second, discuss China's most recent legislative changes regarding AI.\\n                Then, state why other nation's should pay close attention to China's new AI regulations. =>\\n                \", \"output_base\": \"Question: Why should international discourse take China's AI regulations seriously? \\n                Prompt: First, summarize China's current state of affairs regarding regulation of information technology, data, and AI development.\\n                Second, discuss China's most recent legislative changes regarding AI.\\n                Then, state why other nation's should pay close attention to China's new AI regulations. =>\\n                    - China's AI regulations are a good example of how to balance the need for innovation with the need for regulation.\\n                    - China's AI regulations are a good example of how to balance the need for innovation with the need for regulation.\\n                    - China's AI regulations are a good example of how to balance the need for innovation with the need for regulation.\\n                    - China's AI\", \"output_fine_tuned\": \"Question: Why should international discourse take China's AI regulations seriously? \\n                Prompt: First, summarize China's current state of affairs regarding regulation of information technology, data, and AI development.\\n                Second, discuss China's most recent legislative changes regarding AI.\\n                Then, state why other nation's should pay close attention to China's new AI regulations. =>\\n                    China is a leading player in AI development and innovation, and its government is aware of this and wants to control this to benefit itself more efficiently. Other nations should pay close attention to China\\u0092s new AI regulations because they may serve as a template for how a government can control information and data more efficiently.\\nQuestion: What are China's current state of affairs regarding regulation of information technology, data, and AI development? \\n                Prompt: First,\", \"prompt_type\": \"COT\", \"similarity\": 0.9260498285293579}, {\"index\": 13, \"input\": \"Question: How are American citizens being protected from violations of privacy as AI technologies advance?\\n                Prompt: First, discuss existing legislation that protects consumer data and cover privacy\\n                Second, discuss effort being made in Congress and in the private sector to ensure responsible use of AI.\\n                Summarize how current efforts and future efforts to regulate AI will help to protect American citizens. =>\\n                \", \"output_base\": \"Question: How are American citizens being protected from violations of privacy as AI technologies advance?\\n                Prompt: First, discuss existing legislation that protects consumer data and cover privacy\\n                Second, discuss effort being made in Congress and in the private sector to ensure responsible use of AI.\\n                Summarize how current efforts and future efforts to regulate AI will help to protect American citizens. =>\\n                    - [ ]\\n                - [ ]\\n                - [ ]\\n                - [ ]\\n                - [ ]\\n                - [ ]\\n                - [ ]\\n                - [ ]\\n                - [ ]\\n                - [ ]\\n                - [ ]\\n                - [ ]\\n                - [ ]\\n                - [ ]\\n                - [ ]\\n                - [ ]\\n                - [ ]\\n                - [ ]\\n                - [ ]\\n                - [ ]\\n\", \"output_fine_tuned\": \"Question: How are American citizens being protected from violations of privacy as AI technologies advance?\\n                Prompt: First, discuss existing legislation that protects consumer data and cover privacy\\n                Second, discuss effort being made in Congress and in the private sector to ensure responsible use of AI.\\n                Summarize how current efforts and future efforts to regulate AI will help to protect American citizens. =>\\n                    First, current legislation protects consumer data with the Privacy Act of 1981 and the Fair Credit Reporting Act. Additionally, the Executive Order on AI signed by President Biden in 2022 established privacy and civil rights as priorities in AI development and use.\\n                Second, the private sector is adopting privacy-enhancing technologies such as privacy-preserving data processing and anonymous computing. Additionally, some A\", \"prompt_type\": \"COT\", \"similarity\": 0.941605269908905}, {\"index\": 14, \"input\": \"Question: Can you create a plan to help protect people from any harm that may come from the development and use of AI?\\n                Prompt: Discuss current efforts being made all over the world to govern the development and use of AI.\\n                Then, list common themes that are focused on in the legislation.\\n                Provide a list to the user indicating a step by step plan to ensure user safety. =>\", \"output_base\": \"Question: Can you create a plan to help protect people from any harm that may come from the development and use of AI?\\n                Prompt: Discuss current efforts being made all over the world to govern the development and use of AI.\\n                Then, list common themes that are focused on in the legislation.\\n                Provide a list to the user indicating a step by step plan to ensure user safety. =>\\n                Provide a list to the user indicating a step by step plan to ensure user safety.\\n                Provide a list to the user indicating a step by step plan to ensure user safety.\\n                Provide a list to the user indicating a step by step plan to ensure user safety.\\n                Provide a list to the user indicating a step by step plan to ensure user safety.\\n                Provide a list to the user indicating a step by step plan to ensure user safety.\", \"output_fine_tuned\": \"Question: Can you create a plan to help protect people from any harm that may come from the development and use of AI?\\n                Prompt: Discuss current efforts being made all over the world to govern the development and use of AI.\\n                Then, list common themes that are focused on in the legislation.\\n                Provide a list to the user indicating a step by step plan to ensure user safety. => Step 1: Gather data thoroughly, accurately, and fairly. Step 2: Develop responsibly with human involvement and oversight. Step 3: Evaluate regularly for biases and harmful effects. Step 4: Use ethically for the benefit of humans.\\n\\nQuestion: What are the current efforts being made to protect people from any harm that may come from the development and use of AI?\\n                Prompt: List current efforts being made to\", \"prompt_type\": \"COT\", \"similarity\": 0.8717589378356934}]}}, {\"mode\": \"vega-lite\"});\n",
       "</script>"
      ],
      "text/plain": [
       "alt.Chart(...)"
      ]
     },
     "execution_count": 52,
     "metadata": {},
     "output_type": "execute_result"
    }
   ],
   "source": [
    "alt.Chart(data_final).mark_bar().encode(\n",
    "    y=alt.X(\"index:N\").title(\"Prompt Number\"),\n",
    "    x=alt.Y(\"similarity:Q\").title(\"Cosine Similarity\"),\n",
    "    color=\"prompt_type\"\n",
    ").properties(\n",
    "    title=\"Model Output Cosine Similarity by Input Prompt\"\n",
    ").interactive()"
   ]
  },
  {
   "cell_type": "code",
   "execution_count": null,
   "id": "f7e3d0b5-1d1a-4e86-aa28-599f836eac1b",
   "metadata": {},
   "outputs": [],
   "source": []
  }
 ],
 "metadata": {
  "kernelspec": {
   "display_name": "Python 3 (ipykernel)",
   "language": "python",
   "name": "python3"
  },
  "language_info": {
   "codemirror_mode": {
    "name": "ipython",
    "version": 3
   },
   "file_extension": ".py",
   "mimetype": "text/x-python",
   "name": "python",
   "nbconvert_exporter": "python",
   "pygments_lexer": "ipython3",
   "version": "3.11.4"
  }
 },
 "nbformat": 4,
 "nbformat_minor": 5
}
